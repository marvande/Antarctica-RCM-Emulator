{
  "cells": [
    {
      "cell_type": "markdown",
      "metadata": {
        "id": "view-in-github",
        "colab_type": "text"
      },
      "source": [
        "<a href=\"https://colab.research.google.com/github/marvande/master-thesis/blob/main/Copy_of_pytorch_ML.ipynb\" target=\"_parent\"><img src=\"https://colab.research.google.com/assets/colab-badge.svg\" alt=\"Open In Colab\"/></a>"
      ]
    },
    {
      "cell_type": "markdown",
      "id": "nervous-explosion",
      "metadata": {
        "id": "nervous-explosion"
      },
      "source": [
        "# Code in pytorch:"
      ]
    },
    {
      "cell_type": "code",
      "source": [
        "! pip install cartopy\n",
        "! pip install pyproj\n",
        "\n",
        "! pip uninstall shapely\n",
        "! pip install shapely --no-binary shapely"
      ],
      "metadata": {
        "id": "gny0oXh1azw7",
        "colab": {
          "base_uri": "https://localhost:8080/"
        },
        "outputId": "c23bb52d-f48e-493c-8e97-29ba4979d370"
      },
      "id": "gny0oXh1azw7",
      "execution_count": 1,
      "outputs": [
        {
          "output_type": "stream",
          "name": "stdout",
          "text": [
            "Collecting cartopy\n",
            "  Downloading Cartopy-0.20.2.tar.gz (10.8 MB)\n",
            "\u001b[K     |████████████████████████████████| 10.8 MB 19.3 MB/s \n",
            "\u001b[?25h  Installing build dependencies ... \u001b[?25l\u001b[?25hdone\n",
            "  Getting requirements to build wheel ... \u001b[?25l\u001b[?25herror\n",
            "\u001b[33mWARNING: Discarding https://files.pythonhosted.org/packages/f6/55/1e1c737dc9436b320deead73d1c455ddbb74b8b6992081863492f6f6378a/Cartopy-0.20.2.tar.gz#sha256=4d08c198ecaa50a6a6b109d0f14c070e813defc046a83ac5d7ab494f85599e35 (from https://pypi.org/simple/cartopy/) (requires-python:>=3.7). Command errored out with exit status 1: /usr/bin/python3 /usr/local/lib/python3.7/dist-packages/pip/_vendor/pep517/in_process/_in_process.py get_requires_for_build_wheel /tmp/tmpeok7h60d Check the logs for full command output.\u001b[0m\n",
            "  Downloading Cartopy-0.20.1.tar.gz (10.8 MB)\n",
            "\u001b[K     |████████████████████████████████| 10.8 MB 20.4 MB/s \n",
            "\u001b[?25h  Installing build dependencies ... \u001b[?25l\u001b[?25hdone\n",
            "  Getting requirements to build wheel ... \u001b[?25l\u001b[?25herror\n",
            "\u001b[33mWARNING: Discarding https://files.pythonhosted.org/packages/fc/59/aa52698e3838f4cd0e7eaa75bd86837e9e0b05041dbdaee3cda2fffced06/Cartopy-0.20.1.tar.gz#sha256=91f87b130e2574547a20cd634498df97d797abd12dcfd0235bc0cdbcec8b05e3 (from https://pypi.org/simple/cartopy/) (requires-python:>=3.7). Command errored out with exit status 1: /usr/bin/python3 /usr/local/lib/python3.7/dist-packages/pip/_vendor/pep517/in_process/_in_process.py get_requires_for_build_wheel /tmp/tmpgikq5bdw Check the logs for full command output.\u001b[0m\n",
            "  Downloading Cartopy-0.20.0.tar.gz (10.8 MB)\n",
            "\u001b[K     |████████████████████████████████| 10.8 MB 28.1 MB/s \n",
            "\u001b[?25h  Installing build dependencies ... \u001b[?25l\u001b[?25hdone\n",
            "  Getting requirements to build wheel ... \u001b[?25l\u001b[?25herror\n",
            "\u001b[33mWARNING: Discarding https://files.pythonhosted.org/packages/0f/c0/58453b036e79046d211f083880d58dcce787e7e07647ac25dc46c6555099/Cartopy-0.20.0.tar.gz#sha256=eae58aff26806e63cf115b2bce9477cedc4aa9f578c5e477b2c25cfa404f2b7a (from https://pypi.org/simple/cartopy/) (requires-python:>=3.7). Command errored out with exit status 1: /usr/bin/python3 /usr/local/lib/python3.7/dist-packages/pip/_vendor/pep517/in_process/_in_process.py get_requires_for_build_wheel /tmp/tmpelbruw4e Check the logs for full command output.\u001b[0m\n",
            "  Downloading Cartopy-0.19.0.post1.tar.gz (12.1 MB)\n",
            "\u001b[K     |████████████████████████████████| 12.1 MB 25.2 MB/s \n",
            "\u001b[?25h  Installing build dependencies ... \u001b[?25l\u001b[?25hdone\n",
            "  Getting requirements to build wheel ... \u001b[?25l\u001b[?25hdone\n",
            "    Preparing wheel metadata ... \u001b[?25l\u001b[?25hdone\n",
            "Requirement already satisfied: numpy>=1.13.3 in /usr/local/lib/python3.7/dist-packages (from cartopy) (1.21.6)\n",
            "Collecting pyshp>=2\n",
            "  Downloading pyshp-2.2.0-py3-none-any.whl (44 kB)\n",
            "\u001b[K     |████████████████████████████████| 44 kB 2.1 MB/s \n",
            "\u001b[?25hRequirement already satisfied: shapely>=1.5.6 in /usr/local/lib/python3.7/dist-packages (from cartopy) (1.8.1.post1)\n",
            "Building wheels for collected packages: cartopy\n",
            "  Building wheel for cartopy (PEP 517) ... \u001b[?25l\u001b[?25hdone\n",
            "  Created wheel for cartopy: filename=Cartopy-0.19.0.post1-cp37-cp37m-linux_x86_64.whl size=12516288 sha256=969d5ab23d0ccec659d9e71af4b2022ae6a359706cf2fc9d431795358b19d87a\n",
            "  Stored in directory: /root/.cache/pip/wheels/98/01/f7/bd10aeb96fe4b518cde5f7c4f5e12c7202f85b7353a5017847\n",
            "Successfully built cartopy\n",
            "Installing collected packages: pyshp, cartopy\n",
            "Successfully installed cartopy-0.19.0.post1 pyshp-2.2.0\n",
            "Collecting pyproj\n",
            "  Downloading pyproj-3.2.1-cp37-cp37m-manylinux2010_x86_64.whl (6.3 MB)\n",
            "\u001b[K     |████████████████████████████████| 6.3 MB 27.1 MB/s \n",
            "\u001b[?25hRequirement already satisfied: certifi in /usr/local/lib/python3.7/dist-packages (from pyproj) (2021.10.8)\n",
            "Installing collected packages: pyproj\n",
            "Successfully installed pyproj-3.2.1\n",
            "Found existing installation: Shapely 1.8.1.post1\n",
            "Uninstalling Shapely-1.8.1.post1:\n",
            "  Would remove:\n",
            "    /usr/local/lib/python3.7/dist-packages/Shapely-1.8.1.post1.dist-info/*\n",
            "    /usr/local/lib/python3.7/dist-packages/Shapely.libs/libgeos-5781ad74.so.3.10.2\n",
            "    /usr/local/lib/python3.7/dist-packages/Shapely.libs/libgeos_c-fdac42b1.so.1.16.0\n",
            "    /usr/local/lib/python3.7/dist-packages/shapely/*\n",
            "Proceed (y/n)? y\n",
            "  Successfully uninstalled Shapely-1.8.1.post1\n",
            "Collecting shapely\n",
            "  Downloading Shapely-1.8.1.post1.tar.gz (198 kB)\n",
            "\u001b[K     |████████████████████████████████| 198 kB 40.8 MB/s \n",
            "\u001b[?25h  Installing build dependencies ... \u001b[?25l\u001b[?25hdone\n",
            "  Getting requirements to build wheel ... \u001b[?25l\u001b[?25hdone\n",
            "    Preparing wheel metadata ... \u001b[?25l\u001b[?25hdone\n",
            "Building wheels for collected packages: shapely\n",
            "  Building wheel for shapely (PEP 517) ... \u001b[?25l\u001b[?25hdone\n",
            "  Created wheel for shapely: filename=Shapely-1.8.1.post1-cp37-cp37m-linux_x86_64.whl size=665637 sha256=671866e2d9c4ccf2f1b5b6eafab2e66fe8fae5f66748639c5e6b432982d1e56f\n",
            "  Stored in directory: /root/.cache/pip/wheels/ea/8d/2f/ab748b8a432b3c6cd72e751b3bca17c5a9ed4538b1e78467e6\n",
            "Successfully built shapely\n",
            "Installing collected packages: shapely\n",
            "\u001b[31mERROR: pip's dependency resolver does not currently take into account all the packages that are installed. This behaviour is the source of the following dependency conflicts.\n",
            "albumentations 0.1.12 requires imgaug<0.2.7,>=0.2.5, but you have imgaug 0.2.9 which is incompatible.\u001b[0m\n",
            "Successfully installed shapely-1.8.1.post1\n"
          ]
        }
      ]
    },
    {
      "cell_type": "code",
      "execution_count": 2,
      "id": "waiting-quarter",
      "metadata": {
        "id": "waiting-quarter"
      },
      "outputs": [],
      "source": [
        "# Basics\n",
        "from matplotlib import pyplot as plt\n",
        "import matplotlib.path as mpath\n",
        "import os\n",
        "import sys\n",
        "from os import listdir\n",
        "from os.path import isfile, join\n",
        "import numpy as np\n",
        "import pandas as pd\n",
        "from datetime import datetime\n",
        "from datetime import timedelta\n",
        "from tqdm import tqdm\n",
        "from re import search\n",
        "from math import cos,sin,pi\n",
        "import random as rn\n",
        "\n",
        "# xarray and cartopy plots\n",
        "import xarray as xr\n",
        "#import cf_units\n",
        "\n",
        "import cartopy\n",
        "import cartopy.crs as ccrs\n",
        "import pyproj\n",
        "from pyproj import Transformer\n",
        "#import rasterio\n",
        "\n",
        "# Google file system\n",
        "#import gcsfs\n",
        "#from google.cloud import storage\n",
        "\n",
        "# ML\n",
        "from scipy import ndimage\n",
        "import torch\n",
        "import tensorflow as tf \n",
        "\n",
        "\"\"\"\n",
        "import keras\n",
        "import tensorflow as tf \n",
        "from keras import backend as K\n",
        "\n",
        "from tensorflow.python.keras.backend import set_session\n",
        "\n",
        "from keras.models import load_model, Model\n",
        "from keras.layers import Conv2D, MaxPooling2D, Flatten, Dense, UpSampling2D, Conv2DTranspose, Reshape, concatenate, BatchNormalization, Activation\n",
        "from tensorflow.keras.optimizers import Adam\n",
        "from tensorflow.keras.callbacks import ReduceLROnPlateau, EarlyStopping, ModelCheckpoint\n",
        "from keras.models import Sequential\n",
        "from netCDF4 import Dataset\"\"\"\n",
        "#from netCDF4 import Dataset\n",
        "#import h5netcdf\n",
        "#import netCDF4\n",
        "\n",
        "from sklearn.model_selection import train_test_split\n",
        "#import setGPU\n",
        "\n",
        "# Import custom scripts\n",
        "sys.path.append('../')\n",
        "#from process_pangeo import *\n",
        "from GC_scripts import *\n",
        "#from processRCM import *\n",
        "#from reprojectionFunctions import *\n",
        "#from MakeInputFunctions import *\n",
        "#from model import *\n",
        "\n",
        "%matplotlib inline\n",
        "%load_ext autoreload\n",
        "%autoreload 2"
      ]
    },
    {
      "cell_type": "code",
      "execution_count": 3,
      "id": "comprehensive-allah",
      "metadata": {
        "id": "comprehensive-allah",
        "colab": {
          "base_uri": "https://localhost:8080/"
        },
        "outputId": "20249ce1-9815-44c4-cd7d-5e3c8fa27de1"
      },
      "outputs": [
        {
          "output_type": "stream",
          "name": "stdout",
          "text": [
            "Is CUDA supported by this system? True\n",
            "CUDA version: 11.3\n",
            "ID of current CUDA device:0\n",
            "Name of current CUDA device:Tesla T4\n"
          ]
        }
      ],
      "source": [
        "print(f\"Is CUDA supported by this system? {torch.cuda.is_available()}\")\n",
        "print(f\"CUDA version: {torch.version.cuda}\")\n",
        "  \n",
        "# Storing ID of current CUDA device\n",
        "cuda_id = torch.cuda.current_device()\n",
        "print(f\"ID of current CUDA device:{torch.cuda.current_device()}\")\n",
        "        \n",
        "print(f\"Name of current CUDA device:{torch.cuda.get_device_name(cuda_id)}\")"
      ]
    },
    {
      "cell_type": "code",
      "execution_count": 4,
      "id": "durable-chapel",
      "metadata": {
        "id": "durable-chapel"
      },
      "outputs": [],
      "source": [
        "device = torch.device(\"cuda\" if torch.cuda.is_available() else \"cpu\")"
      ]
    },
    {
      "cell_type": "code",
      "execution_count": 6,
      "id": "fitting-column",
      "metadata": {
        "id": "fitting-column",
        "colab": {
          "base_uri": "https://localhost:8080/"
        },
        "outputId": "0ef360dc-98f5-4a49-cf66-88b027690430"
      },
      "outputs": [
        {
          "output_type": "stream",
          "name": "stdout",
          "text": [
            "The autoreload extension is already loaded. To reload it, use:\n",
            "  %reload_ext autoreload\n"
          ]
        }
      ],
      "source": [
        "# Load configuration file:\n",
        "from config import *\n",
        "from helperFunctions import *\n",
        "\n",
        "%load_ext autoreload\n",
        "%autoreload 2"
      ]
    },
    {
      "cell_type": "code",
      "source": [
        "from google.colab import auth\n",
        "auth.authenticate_user()\n",
        "# Give our project ID\n",
        "project_id = 'ee-iceshelf-gee4geo'\n",
        "!gcloud config set project {project_id}\n",
        "# Download the file from a given Google Cloud Storage bucket.\n",
        "!gsutil cp gs://ee-downscalingclimatemodels/test.txt /tmp/gsutil_download.txt\n",
        "# Print the result to make sure the transfer worked.\n",
        "!cat /tmp/gsutil_download.txt"
      ],
      "metadata": {
        "colab": {
          "base_uri": "https://localhost:8080/"
        },
        "id": "b4eNJK7TcWLE",
        "outputId": "c226374c-835c-45da-f3cb-90b698197014"
      },
      "id": "b4eNJK7TcWLE",
      "execution_count": 7,
      "outputs": [
        {
          "output_type": "stream",
          "name": "stdout",
          "text": [
            "Updated property [core/project].\n",
            "Copying gs://ee-downscalingclimatemodels/test.txt...\n",
            "- [1 files][   13.0 B/   13.0 B]                                                \n",
            "Operation completed over 1 objects/13.0 B.                                       \n",
            "AIAIAIAIAIAIA"
          ]
        }
      ]
    },
    {
      "cell_type": "markdown",
      "id": "elementary-gentleman",
      "metadata": {
        "id": "elementary-gentleman"
      },
      "source": [
        "## Load data:"
      ]
    },
    {
      "cell_type": "code",
      "execution_count": 8,
      "id": "scenic-tennis",
      "metadata": {
        "id": "scenic-tennis",
        "colab": {
          "base_uri": "https://localhost:8080/",
          "height": 448
        },
        "outputId": "b530c1a4-6c17-429e-dee3-bb462090124d"
      },
      "outputs": [
        {
          "output_type": "stream",
          "name": "stdout",
          "text": [
            "Frozen(SortedKeysDict({'x': 90, 'y': 25, 'time': 1452}))\n"
          ]
        },
        {
          "output_type": "execute_result",
          "data": {
            "text/plain": [
              "<xarray.Dataset>\n",
              "Dimensions:      (time: 1452, x: 90, y: 25)\n",
              "Coordinates:\n",
              "    spatial_ref  int64 ...\n",
              "  * x            (x) float32 -2.992e+06 -2.924e+06 ... 2.992e+06 3.06e+06\n",
              "  * y            (y) float32 -2.472e+06 -2.266e+06 ... 2.266e+06 2.472e+06\n",
              "  * time         (time) datetime64[ns] 1980-01-31 1980-02-29 ... 2100-12-31\n",
              "Data variables:\n",
              "    RF           (time, y, x) float32 ...\n",
              "    SP           (time, y, x) float32 ...\n",
              "    LWD          (time, y, x) float32 ...\n",
              "    SWD          (time, y, x) float32 ...\n",
              "    TT           (time, y, x) float32 ...\n",
              "    SMB          (time, y, x) float32 ...\n",
              "    VVP          (time, y, x) float64 ...\n",
              "    UUP          (time, y, x) float64 ...\n",
              "Attributes:\n",
              "    crs:      3031"
            ],
            "text/html": [
              "<div><svg style=\"position: absolute; width: 0; height: 0; overflow: hidden\">\n",
              "<defs>\n",
              "<symbol id=\"icon-database\" viewBox=\"0 0 32 32\">\n",
              "<path d=\"M16 0c-8.837 0-16 2.239-16 5v4c0 2.761 7.163 5 16 5s16-2.239 16-5v-4c0-2.761-7.163-5-16-5z\"></path>\n",
              "<path d=\"M16 17c-8.837 0-16-2.239-16-5v6c0 2.761 7.163 5 16 5s16-2.239 16-5v-6c0 2.761-7.163 5-16 5z\"></path>\n",
              "<path d=\"M16 26c-8.837 0-16-2.239-16-5v6c0 2.761 7.163 5 16 5s16-2.239 16-5v-6c0 2.761-7.163 5-16 5z\"></path>\n",
              "</symbol>\n",
              "<symbol id=\"icon-file-text2\" viewBox=\"0 0 32 32\">\n",
              "<path d=\"M28.681 7.159c-0.694-0.947-1.662-2.053-2.724-3.116s-2.169-2.030-3.116-2.724c-1.612-1.182-2.393-1.319-2.841-1.319h-15.5c-1.378 0-2.5 1.121-2.5 2.5v27c0 1.378 1.122 2.5 2.5 2.5h23c1.378 0 2.5-1.122 2.5-2.5v-19.5c0-0.448-0.137-1.23-1.319-2.841zM24.543 5.457c0.959 0.959 1.712 1.825 2.268 2.543h-4.811v-4.811c0.718 0.556 1.584 1.309 2.543 2.268zM28 29.5c0 0.271-0.229 0.5-0.5 0.5h-23c-0.271 0-0.5-0.229-0.5-0.5v-27c0-0.271 0.229-0.5 0.5-0.5 0 0 15.499-0 15.5 0v7c0 0.552 0.448 1 1 1h7v19.5z\"></path>\n",
              "<path d=\"M23 26h-14c-0.552 0-1-0.448-1-1s0.448-1 1-1h14c0.552 0 1 0.448 1 1s-0.448 1-1 1z\"></path>\n",
              "<path d=\"M23 22h-14c-0.552 0-1-0.448-1-1s0.448-1 1-1h14c0.552 0 1 0.448 1 1s-0.448 1-1 1z\"></path>\n",
              "<path d=\"M23 18h-14c-0.552 0-1-0.448-1-1s0.448-1 1-1h14c0.552 0 1 0.448 1 1s-0.448 1-1 1z\"></path>\n",
              "</symbol>\n",
              "</defs>\n",
              "</svg>\n",
              "<style>/* CSS stylesheet for displaying xarray objects in jupyterlab.\n",
              " *\n",
              " */\n",
              "\n",
              ":root {\n",
              "  --xr-font-color0: var(--jp-content-font-color0, rgba(0, 0, 0, 1));\n",
              "  --xr-font-color2: var(--jp-content-font-color2, rgba(0, 0, 0, 0.54));\n",
              "  --xr-font-color3: var(--jp-content-font-color3, rgba(0, 0, 0, 0.38));\n",
              "  --xr-border-color: var(--jp-border-color2, #e0e0e0);\n",
              "  --xr-disabled-color: var(--jp-layout-color3, #bdbdbd);\n",
              "  --xr-background-color: var(--jp-layout-color0, white);\n",
              "  --xr-background-color-row-even: var(--jp-layout-color1, white);\n",
              "  --xr-background-color-row-odd: var(--jp-layout-color2, #eeeeee);\n",
              "}\n",
              "\n",
              "html[theme=dark],\n",
              "body.vscode-dark {\n",
              "  --xr-font-color0: rgba(255, 255, 255, 1);\n",
              "  --xr-font-color2: rgba(255, 255, 255, 0.54);\n",
              "  --xr-font-color3: rgba(255, 255, 255, 0.38);\n",
              "  --xr-border-color: #1F1F1F;\n",
              "  --xr-disabled-color: #515151;\n",
              "  --xr-background-color: #111111;\n",
              "  --xr-background-color-row-even: #111111;\n",
              "  --xr-background-color-row-odd: #313131;\n",
              "}\n",
              "\n",
              ".xr-wrap {\n",
              "  display: block;\n",
              "  min-width: 300px;\n",
              "  max-width: 700px;\n",
              "}\n",
              "\n",
              ".xr-text-repr-fallback {\n",
              "  /* fallback to plain text repr when CSS is not injected (untrusted notebook) */\n",
              "  display: none;\n",
              "}\n",
              "\n",
              ".xr-header {\n",
              "  padding-top: 6px;\n",
              "  padding-bottom: 6px;\n",
              "  margin-bottom: 4px;\n",
              "  border-bottom: solid 1px var(--xr-border-color);\n",
              "}\n",
              "\n",
              ".xr-header > div,\n",
              ".xr-header > ul {\n",
              "  display: inline;\n",
              "  margin-top: 0;\n",
              "  margin-bottom: 0;\n",
              "}\n",
              "\n",
              ".xr-obj-type,\n",
              ".xr-array-name {\n",
              "  margin-left: 2px;\n",
              "  margin-right: 10px;\n",
              "}\n",
              "\n",
              ".xr-obj-type {\n",
              "  color: var(--xr-font-color2);\n",
              "}\n",
              "\n",
              ".xr-sections {\n",
              "  padding-left: 0 !important;\n",
              "  display: grid;\n",
              "  grid-template-columns: 150px auto auto 1fr 20px 20px;\n",
              "}\n",
              "\n",
              ".xr-section-item {\n",
              "  display: contents;\n",
              "}\n",
              "\n",
              ".xr-section-item input {\n",
              "  display: none;\n",
              "}\n",
              "\n",
              ".xr-section-item input + label {\n",
              "  color: var(--xr-disabled-color);\n",
              "}\n",
              "\n",
              ".xr-section-item input:enabled + label {\n",
              "  cursor: pointer;\n",
              "  color: var(--xr-font-color2);\n",
              "}\n",
              "\n",
              ".xr-section-item input:enabled + label:hover {\n",
              "  color: var(--xr-font-color0);\n",
              "}\n",
              "\n",
              ".xr-section-summary {\n",
              "  grid-column: 1;\n",
              "  color: var(--xr-font-color2);\n",
              "  font-weight: 500;\n",
              "}\n",
              "\n",
              ".xr-section-summary > span {\n",
              "  display: inline-block;\n",
              "  padding-left: 0.5em;\n",
              "}\n",
              "\n",
              ".xr-section-summary-in:disabled + label {\n",
              "  color: var(--xr-font-color2);\n",
              "}\n",
              "\n",
              ".xr-section-summary-in + label:before {\n",
              "  display: inline-block;\n",
              "  content: '►';\n",
              "  font-size: 11px;\n",
              "  width: 15px;\n",
              "  text-align: center;\n",
              "}\n",
              "\n",
              ".xr-section-summary-in:disabled + label:before {\n",
              "  color: var(--xr-disabled-color);\n",
              "}\n",
              "\n",
              ".xr-section-summary-in:checked + label:before {\n",
              "  content: '▼';\n",
              "}\n",
              "\n",
              ".xr-section-summary-in:checked + label > span {\n",
              "  display: none;\n",
              "}\n",
              "\n",
              ".xr-section-summary,\n",
              ".xr-section-inline-details {\n",
              "  padding-top: 4px;\n",
              "  padding-bottom: 4px;\n",
              "}\n",
              "\n",
              ".xr-section-inline-details {\n",
              "  grid-column: 2 / -1;\n",
              "}\n",
              "\n",
              ".xr-section-details {\n",
              "  display: none;\n",
              "  grid-column: 1 / -1;\n",
              "  margin-bottom: 5px;\n",
              "}\n",
              "\n",
              ".xr-section-summary-in:checked ~ .xr-section-details {\n",
              "  display: contents;\n",
              "}\n",
              "\n",
              ".xr-array-wrap {\n",
              "  grid-column: 1 / -1;\n",
              "  display: grid;\n",
              "  grid-template-columns: 20px auto;\n",
              "}\n",
              "\n",
              ".xr-array-wrap > label {\n",
              "  grid-column: 1;\n",
              "  vertical-align: top;\n",
              "}\n",
              "\n",
              ".xr-preview {\n",
              "  color: var(--xr-font-color3);\n",
              "}\n",
              "\n",
              ".xr-array-preview,\n",
              ".xr-array-data {\n",
              "  padding: 0 5px !important;\n",
              "  grid-column: 2;\n",
              "}\n",
              "\n",
              ".xr-array-data,\n",
              ".xr-array-in:checked ~ .xr-array-preview {\n",
              "  display: none;\n",
              "}\n",
              "\n",
              ".xr-array-in:checked ~ .xr-array-data,\n",
              ".xr-array-preview {\n",
              "  display: inline-block;\n",
              "}\n",
              "\n",
              ".xr-dim-list {\n",
              "  display: inline-block !important;\n",
              "  list-style: none;\n",
              "  padding: 0 !important;\n",
              "  margin: 0;\n",
              "}\n",
              "\n",
              ".xr-dim-list li {\n",
              "  display: inline-block;\n",
              "  padding: 0;\n",
              "  margin: 0;\n",
              "}\n",
              "\n",
              ".xr-dim-list:before {\n",
              "  content: '(';\n",
              "}\n",
              "\n",
              ".xr-dim-list:after {\n",
              "  content: ')';\n",
              "}\n",
              "\n",
              ".xr-dim-list li:not(:last-child):after {\n",
              "  content: ',';\n",
              "  padding-right: 5px;\n",
              "}\n",
              "\n",
              ".xr-has-index {\n",
              "  font-weight: bold;\n",
              "}\n",
              "\n",
              ".xr-var-list,\n",
              ".xr-var-item {\n",
              "  display: contents;\n",
              "}\n",
              "\n",
              ".xr-var-item > div,\n",
              ".xr-var-item label,\n",
              ".xr-var-item > .xr-var-name span {\n",
              "  background-color: var(--xr-background-color-row-even);\n",
              "  margin-bottom: 0;\n",
              "}\n",
              "\n",
              ".xr-var-item > .xr-var-name:hover span {\n",
              "  padding-right: 5px;\n",
              "}\n",
              "\n",
              ".xr-var-list > li:nth-child(odd) > div,\n",
              ".xr-var-list > li:nth-child(odd) > label,\n",
              ".xr-var-list > li:nth-child(odd) > .xr-var-name span {\n",
              "  background-color: var(--xr-background-color-row-odd);\n",
              "}\n",
              "\n",
              ".xr-var-name {\n",
              "  grid-column: 1;\n",
              "}\n",
              "\n",
              ".xr-var-dims {\n",
              "  grid-column: 2;\n",
              "}\n",
              "\n",
              ".xr-var-dtype {\n",
              "  grid-column: 3;\n",
              "  text-align: right;\n",
              "  color: var(--xr-font-color2);\n",
              "}\n",
              "\n",
              ".xr-var-preview {\n",
              "  grid-column: 4;\n",
              "}\n",
              "\n",
              ".xr-var-name,\n",
              ".xr-var-dims,\n",
              ".xr-var-dtype,\n",
              ".xr-preview,\n",
              ".xr-attrs dt {\n",
              "  white-space: nowrap;\n",
              "  overflow: hidden;\n",
              "  text-overflow: ellipsis;\n",
              "  padding-right: 10px;\n",
              "}\n",
              "\n",
              ".xr-var-name:hover,\n",
              ".xr-var-dims:hover,\n",
              ".xr-var-dtype:hover,\n",
              ".xr-attrs dt:hover {\n",
              "  overflow: visible;\n",
              "  width: auto;\n",
              "  z-index: 1;\n",
              "}\n",
              "\n",
              ".xr-var-attrs,\n",
              ".xr-var-data {\n",
              "  display: none;\n",
              "  background-color: var(--xr-background-color) !important;\n",
              "  padding-bottom: 5px !important;\n",
              "}\n",
              "\n",
              ".xr-var-attrs-in:checked ~ .xr-var-attrs,\n",
              ".xr-var-data-in:checked ~ .xr-var-data {\n",
              "  display: block;\n",
              "}\n",
              "\n",
              ".xr-var-data > table {\n",
              "  float: right;\n",
              "}\n",
              "\n",
              ".xr-var-name span,\n",
              ".xr-var-data,\n",
              ".xr-attrs {\n",
              "  padding-left: 25px !important;\n",
              "}\n",
              "\n",
              ".xr-attrs,\n",
              ".xr-var-attrs,\n",
              ".xr-var-data {\n",
              "  grid-column: 1 / -1;\n",
              "}\n",
              "\n",
              "dl.xr-attrs {\n",
              "  padding: 0;\n",
              "  margin: 0;\n",
              "  display: grid;\n",
              "  grid-template-columns: 125px auto;\n",
              "}\n",
              "\n",
              ".xr-attrs dt,\n",
              ".xr-attrs dd {\n",
              "  padding: 0;\n",
              "  margin: 0;\n",
              "  float: left;\n",
              "  padding-right: 10px;\n",
              "  width: auto;\n",
              "}\n",
              "\n",
              ".xr-attrs dt {\n",
              "  font-weight: normal;\n",
              "  grid-column: 1;\n",
              "}\n",
              "\n",
              ".xr-attrs dt:hover span {\n",
              "  display: inline-block;\n",
              "  background: var(--xr-background-color);\n",
              "  padding-right: 10px;\n",
              "}\n",
              "\n",
              ".xr-attrs dd {\n",
              "  grid-column: 2;\n",
              "  white-space: pre-wrap;\n",
              "  word-break: break-all;\n",
              "}\n",
              "\n",
              ".xr-icon-database,\n",
              ".xr-icon-file-text2 {\n",
              "  display: inline-block;\n",
              "  vertical-align: middle;\n",
              "  width: 1em;\n",
              "  height: 1.5em !important;\n",
              "  stroke-width: 0;\n",
              "  stroke: currentColor;\n",
              "  fill: currentColor;\n",
              "}\n",
              "</style><pre class='xr-text-repr-fallback'>&lt;xarray.Dataset&gt;\n",
              "Dimensions:      (time: 1452, x: 90, y: 25)\n",
              "Coordinates:\n",
              "    spatial_ref  int64 0\n",
              "  * x            (x) float32 -2.992e+06 -2.924e+06 ... 2.992e+06 3.06e+06\n",
              "  * y            (y) float32 -2.472e+06 -2.266e+06 ... 2.266e+06 2.472e+06\n",
              "  * time         (time) datetime64[ns] 1980-01-31 1980-02-29 ... 2100-12-31\n",
              "Data variables:\n",
              "    RF           (time, y, x) float32 ...\n",
              "    SP           (time, y, x) float32 ...\n",
              "    LWD          (time, y, x) float32 ...\n",
              "    SWD          (time, y, x) float32 ...\n",
              "    TT           (time, y, x) float32 ...\n",
              "    SMB          (time, y, x) float32 ...\n",
              "    VVP          (time, y, x) float64 ...\n",
              "    UUP          (time, y, x) float64 ...\n",
              "Attributes:\n",
              "    crs:      3031</pre><div class='xr-wrap' hidden><div class='xr-header'><div class='xr-obj-type'>xarray.Dataset</div></div><ul class='xr-sections'><li class='xr-section-item'><input id='section-67d9aae6-35bd-44bc-bd83-9afbca4af21c' class='xr-section-summary-in' type='checkbox' disabled ><label for='section-67d9aae6-35bd-44bc-bd83-9afbca4af21c' class='xr-section-summary'  title='Expand/collapse section'>Dimensions:</label><div class='xr-section-inline-details'><ul class='xr-dim-list'><li><span class='xr-has-index'>time</span>: 1452</li><li><span class='xr-has-index'>x</span>: 90</li><li><span class='xr-has-index'>y</span>: 25</li></ul></div><div class='xr-section-details'></div></li><li class='xr-section-item'><input id='section-6c7d74a5-d43a-4fef-bfcc-20f41476407e' class='xr-section-summary-in' type='checkbox'  checked><label for='section-6c7d74a5-d43a-4fef-bfcc-20f41476407e' class='xr-section-summary' >Coordinates: <span>(4)</span></label><div class='xr-section-inline-details'></div><div class='xr-section-details'><ul class='xr-var-list'><li class='xr-var-item'><div class='xr-var-name'><span>spatial_ref</span></div><div class='xr-var-dims'>()</div><div class='xr-var-dtype'>int64</div><div class='xr-var-preview xr-preview'>...</div><input id='attrs-04d24b37-ca0e-4a34-8d5e-0c308a1d3a48' class='xr-var-attrs-in' type='checkbox' ><label for='attrs-04d24b37-ca0e-4a34-8d5e-0c308a1d3a48' title='Show/Hide attributes'><svg class='icon xr-icon-file-text2'><use xlink:href='#icon-file-text2'></use></svg></label><input id='data-aa8bbd90-974b-4a6b-a18b-d236b49082ad' class='xr-var-data-in' type='checkbox'><label for='data-aa8bbd90-974b-4a6b-a18b-d236b49082ad' title='Show/Hide data repr'><svg class='icon xr-icon-database'><use xlink:href='#icon-database'></use></svg></label><div class='xr-var-attrs'><dl class='xr-attrs'><dt><span>crs_wkt :</span></dt><dd>PROJCS[&quot;WGS 84 / Antarctic Polar Stereographic&quot;,GEOGCS[&quot;WGS 84&quot;,DATUM[&quot;WGS_1984&quot;,SPHEROID[&quot;WGS 84&quot;,6378137,298.257223563,AUTHORITY[&quot;EPSG&quot;,&quot;7030&quot;]],AUTHORITY[&quot;EPSG&quot;,&quot;6326&quot;]],PRIMEM[&quot;Greenwich&quot;,0,AUTHORITY[&quot;EPSG&quot;,&quot;8901&quot;]],UNIT[&quot;degree&quot;,0.0174532925199433,AUTHORITY[&quot;EPSG&quot;,&quot;9122&quot;]],AUTHORITY[&quot;EPSG&quot;,&quot;4326&quot;]],PROJECTION[&quot;Polar_Stereographic&quot;],PARAMETER[&quot;latitude_of_origin&quot;,-71],PARAMETER[&quot;central_meridian&quot;,0],PARAMETER[&quot;false_easting&quot;,0],PARAMETER[&quot;false_northing&quot;,0],UNIT[&quot;metre&quot;,1,AUTHORITY[&quot;EPSG&quot;,&quot;9001&quot;]],AXIS[&quot;Easting&quot;,NORTH],AXIS[&quot;Northing&quot;,NORTH],AUTHORITY[&quot;EPSG&quot;,&quot;3031&quot;]]</dd><dt><span>semi_major_axis :</span></dt><dd>6378137.0</dd><dt><span>semi_minor_axis :</span></dt><dd>6356752.314245179</dd><dt><span>inverse_flattening :</span></dt><dd>298.257223563</dd><dt><span>reference_ellipsoid_name :</span></dt><dd>WGS 84</dd><dt><span>longitude_of_prime_meridian :</span></dt><dd>0.0</dd><dt><span>prime_meridian_name :</span></dt><dd>Greenwich</dd><dt><span>geographic_crs_name :</span></dt><dd>WGS 84</dd><dt><span>horizontal_datum_name :</span></dt><dd>World Geodetic System 1984</dd><dt><span>projected_crs_name :</span></dt><dd>WGS 84 / Antarctic Polar Stereographic</dd><dt><span>grid_mapping_name :</span></dt><dd>polar_stereographic</dd><dt><span>standard_parallel :</span></dt><dd>-71.0</dd><dt><span>straight_vertical_longitude_from_pole :</span></dt><dd>0.0</dd><dt><span>false_easting :</span></dt><dd>0.0</dd><dt><span>false_northing :</span></dt><dd>0.0</dd><dt><span>spatial_ref :</span></dt><dd>PROJCS[&quot;WGS 84 / Antarctic Polar Stereographic&quot;,GEOGCS[&quot;WGS 84&quot;,DATUM[&quot;WGS_1984&quot;,SPHEROID[&quot;WGS 84&quot;,6378137,298.257223563,AUTHORITY[&quot;EPSG&quot;,&quot;7030&quot;]],AUTHORITY[&quot;EPSG&quot;,&quot;6326&quot;]],PRIMEM[&quot;Greenwich&quot;,0,AUTHORITY[&quot;EPSG&quot;,&quot;8901&quot;]],UNIT[&quot;degree&quot;,0.0174532925199433,AUTHORITY[&quot;EPSG&quot;,&quot;9122&quot;]],AUTHORITY[&quot;EPSG&quot;,&quot;4326&quot;]],PROJECTION[&quot;Polar_Stereographic&quot;],PARAMETER[&quot;latitude_of_origin&quot;,-71],PARAMETER[&quot;central_meridian&quot;,0],PARAMETER[&quot;false_easting&quot;,0],PARAMETER[&quot;false_northing&quot;,0],UNIT[&quot;metre&quot;,1,AUTHORITY[&quot;EPSG&quot;,&quot;9001&quot;]],AXIS[&quot;Easting&quot;,NORTH],AXIS[&quot;Northing&quot;,NORTH],AUTHORITY[&quot;EPSG&quot;,&quot;3031&quot;]]</dd><dt><span>GeoTransform :</span></dt><dd>-3026000.0 68000.0 0.0 -2575000.0 0.0 206000.0</dd></dl></div><div class='xr-var-data'><pre>array(0)</pre></div></li><li class='xr-var-item'><div class='xr-var-name'><span class='xr-has-index'>x</span></div><div class='xr-var-dims'>(x)</div><div class='xr-var-dtype'>float32</div><div class='xr-var-preview xr-preview'>-2.992e+06 -2.924e+06 ... 3.06e+06</div><input id='attrs-3ab71bc5-ef82-445e-a186-5bd0248ac303' class='xr-var-attrs-in' type='checkbox' ><label for='attrs-3ab71bc5-ef82-445e-a186-5bd0248ac303' title='Show/Hide attributes'><svg class='icon xr-icon-file-text2'><use xlink:href='#icon-file-text2'></use></svg></label><input id='data-6375d090-7539-4cea-8cde-f7405437a72a' class='xr-var-data-in' type='checkbox'><label for='data-6375d090-7539-4cea-8cde-f7405437a72a' title='Show/Hide data repr'><svg class='icon xr-icon-database'><use xlink:href='#icon-database'></use></svg></label><div class='xr-var-attrs'><dl class='xr-attrs'><dt><span>axis :</span></dt><dd>X</dd><dt><span>long_name :</span></dt><dd>x coordinate of projection</dd><dt><span>standard_name :</span></dt><dd>projection_x_coordinate</dd><dt><span>units :</span></dt><dd>metre</dd></dl></div><div class='xr-var-data'><pre>array([-2992000., -2924000., -2856000., -2788000., -2720000., -2652000.,\n",
              "       -2584000., -2516000., -2448000., -2380000., -2312000., -2244000.,\n",
              "       -2176000., -2108000., -2040000., -1972000., -1904000., -1836000.,\n",
              "       -1768000., -1700000., -1632000., -1564000., -1496000., -1428000.,\n",
              "       -1360000., -1292000., -1224000., -1156000., -1088000., -1020000.,\n",
              "        -952000.,  -884000.,  -816000.,  -748000.,  -680000.,  -612000.,\n",
              "        -544000.,  -476000.,  -408000.,  -340000.,  -272000.,  -204000.,\n",
              "        -136000.,   -68000.,        0.,    68000.,   136000.,   204000.,\n",
              "         272000.,   340000.,   408000.,   476000.,   544000.,   612000.,\n",
              "         680000.,   748000.,   816000.,   884000.,   952000.,  1020000.,\n",
              "        1088000.,  1156000.,  1224000.,  1292000.,  1360000.,  1428000.,\n",
              "        1496000.,  1564000.,  1632000.,  1700000.,  1768000.,  1836000.,\n",
              "        1904000.,  1972000.,  2040000.,  2108000.,  2176000.,  2244000.,\n",
              "        2312000.,  2380000.,  2448000.,  2516000.,  2584000.,  2652000.,\n",
              "        2720000.,  2788000.,  2856000.,  2924000.,  2992000.,  3060000.],\n",
              "      dtype=float32)</pre></div></li><li class='xr-var-item'><div class='xr-var-name'><span class='xr-has-index'>y</span></div><div class='xr-var-dims'>(y)</div><div class='xr-var-dtype'>float32</div><div class='xr-var-preview xr-preview'>-2.472e+06 -2.266e+06 ... 2.472e+06</div><input id='attrs-b1b718ad-9db8-4574-b0ce-8877a5c8535c' class='xr-var-attrs-in' type='checkbox' ><label for='attrs-b1b718ad-9db8-4574-b0ce-8877a5c8535c' title='Show/Hide attributes'><svg class='icon xr-icon-file-text2'><use xlink:href='#icon-file-text2'></use></svg></label><input id='data-beb04617-0275-4a01-8f12-d98eaa3f96d5' class='xr-var-data-in' type='checkbox'><label for='data-beb04617-0275-4a01-8f12-d98eaa3f96d5' title='Show/Hide data repr'><svg class='icon xr-icon-database'><use xlink:href='#icon-database'></use></svg></label><div class='xr-var-attrs'><dl class='xr-attrs'><dt><span>axis :</span></dt><dd>Y</dd><dt><span>long_name :</span></dt><dd>y coordinate of projection</dd><dt><span>standard_name :</span></dt><dd>projection_y_coordinate</dd><dt><span>units :</span></dt><dd>metre</dd></dl></div><div class='xr-var-data'><pre>array([-2472000.  , -2266000.  , -2060000.  , -1853999.9 , -1647999.9 ,\n",
              "       -1442000.  , -1236000.  , -1030000.  ,  -823999.94,  -618000.  ,\n",
              "        -411999.97,  -205999.98,        0.  ,   205999.98,   411999.97,\n",
              "         618000.  ,   823999.94,  1030000.  ,  1236000.  ,  1442000.  ,\n",
              "        1647999.9 ,  1853999.9 ,  2060000.  ,  2266000.  ,  2472000.  ],\n",
              "      dtype=float32)</pre></div></li><li class='xr-var-item'><div class='xr-var-name'><span class='xr-has-index'>time</span></div><div class='xr-var-dims'>(time)</div><div class='xr-var-dtype'>datetime64[ns]</div><div class='xr-var-preview xr-preview'>1980-01-31 ... 2100-12-31</div><input id='attrs-8822cf5b-4a4c-452f-be46-127de12a002d' class='xr-var-attrs-in' type='checkbox' disabled><label for='attrs-8822cf5b-4a4c-452f-be46-127de12a002d' title='Show/Hide attributes'><svg class='icon xr-icon-file-text2'><use xlink:href='#icon-file-text2'></use></svg></label><input id='data-2e53a0de-9a19-4230-81b8-ae2c481e42fb' class='xr-var-data-in' type='checkbox'><label for='data-2e53a0de-9a19-4230-81b8-ae2c481e42fb' title='Show/Hide data repr'><svg class='icon xr-icon-database'><use xlink:href='#icon-database'></use></svg></label><div class='xr-var-attrs'><dl class='xr-attrs'></dl></div><div class='xr-var-data'><pre>array([&#x27;1980-01-31T00:00:00.000000000&#x27;, &#x27;1980-02-29T00:00:00.000000000&#x27;,\n",
              "       &#x27;1980-03-31T00:00:00.000000000&#x27;, ..., &#x27;2100-10-31T00:00:00.000000000&#x27;,\n",
              "       &#x27;2100-11-30T00:00:00.000000000&#x27;, &#x27;2100-12-31T00:00:00.000000000&#x27;],\n",
              "      dtype=&#x27;datetime64[ns]&#x27;)</pre></div></li></ul></div></li><li class='xr-section-item'><input id='section-abcd30dc-5e43-48a5-b4df-6694697dea79' class='xr-section-summary-in' type='checkbox'  checked><label for='section-abcd30dc-5e43-48a5-b4df-6694697dea79' class='xr-section-summary' >Data variables: <span>(8)</span></label><div class='xr-section-inline-details'></div><div class='xr-section-details'><ul class='xr-var-list'><li class='xr-var-item'><div class='xr-var-name'><span>RF</span></div><div class='xr-var-dims'>(time, y, x)</div><div class='xr-var-dtype'>float32</div><div class='xr-var-preview xr-preview'>...</div><input id='attrs-2cc9939c-31cf-467d-8499-4cde2ebc48ad' class='xr-var-attrs-in' type='checkbox' ><label for='attrs-2cc9939c-31cf-467d-8499-4cde2ebc48ad' title='Show/Hide attributes'><svg class='icon xr-icon-file-text2'><use xlink:href='#icon-file-text2'></use></svg></label><input id='data-97cd9057-a3dd-47fa-b03f-041bcca551d0' class='xr-var-data-in' type='checkbox'><label for='data-97cd9057-a3dd-47fa-b03f-041bcca551d0' title='Show/Hide data repr'><svg class='icon xr-icon-database'><use xlink:href='#icon-database'></use></svg></label><div class='xr-var-attrs'><dl class='xr-attrs'><dt><span>history :</span></dt><dd>From ICE.p79.1980.01.01-10</dd><dt><span>long_name :</span></dt><dd>Rainfall</dd><dt><span>units :</span></dt><dd>mmWE/day</dd></dl></div><div class='xr-var-data'><pre>[3267000 values with dtype=float32]</pre></div></li><li class='xr-var-item'><div class='xr-var-name'><span>SP</span></div><div class='xr-var-dims'>(time, y, x)</div><div class='xr-var-dtype'>float32</div><div class='xr-var-preview xr-preview'>...</div><input id='attrs-41c6d69e-fe06-4176-8ce9-2f046a5fde00' class='xr-var-attrs-in' type='checkbox' ><label for='attrs-41c6d69e-fe06-4176-8ce9-2f046a5fde00' title='Show/Hide attributes'><svg class='icon xr-icon-file-text2'><use xlink:href='#icon-file-text2'></use></svg></label><input id='data-3bc3fc2a-9cdb-492c-8b03-5ffe0d8477cc' class='xr-var-data-in' type='checkbox'><label for='data-3bc3fc2a-9cdb-492c-8b03-5ffe0d8477cc' title='Show/Hide data repr'><svg class='icon xr-icon-database'><use xlink:href='#icon-database'></use></svg></label><div class='xr-var-attrs'><dl class='xr-attrs'><dt><span>history :</span></dt><dd>From ICE.p79.1980.01.01-10</dd><dt><span>long_name :</span></dt><dd>Surface Pressure</dd><dt><span>units :</span></dt><dd>hPa</dd></dl></div><div class='xr-var-data'><pre>[3267000 values with dtype=float32]</pre></div></li><li class='xr-var-item'><div class='xr-var-name'><span>LWD</span></div><div class='xr-var-dims'>(time, y, x)</div><div class='xr-var-dtype'>float32</div><div class='xr-var-preview xr-preview'>...</div><input id='attrs-f86cbe6b-d731-445e-b411-fd31cf3e85ac' class='xr-var-attrs-in' type='checkbox' ><label for='attrs-f86cbe6b-d731-445e-b411-fd31cf3e85ac' title='Show/Hide attributes'><svg class='icon xr-icon-file-text2'><use xlink:href='#icon-file-text2'></use></svg></label><input id='data-7e9a92bf-9645-4792-abb2-c851d3bc0b02' class='xr-var-data-in' type='checkbox'><label for='data-7e9a92bf-9645-4792-abb2-c851d3bc0b02' title='Show/Hide data repr'><svg class='icon xr-icon-database'><use xlink:href='#icon-database'></use></svg></label><div class='xr-var-attrs'><dl class='xr-attrs'><dt><span>history :</span></dt><dd>From ICE.p79.1980.01.01-10</dd><dt><span>long_name :</span></dt><dd>Long  Wave Downward</dd><dt><span>units :</span></dt><dd>W/m2</dd></dl></div><div class='xr-var-data'><pre>[3267000 values with dtype=float32]</pre></div></li><li class='xr-var-item'><div class='xr-var-name'><span>SWD</span></div><div class='xr-var-dims'>(time, y, x)</div><div class='xr-var-dtype'>float32</div><div class='xr-var-preview xr-preview'>...</div><input id='attrs-a2f48ba4-613b-4bb4-8166-5156acb9001f' class='xr-var-attrs-in' type='checkbox' ><label for='attrs-a2f48ba4-613b-4bb4-8166-5156acb9001f' title='Show/Hide attributes'><svg class='icon xr-icon-file-text2'><use xlink:href='#icon-file-text2'></use></svg></label><input id='data-f1529987-15e4-4062-a7f3-3900a7604fcf' class='xr-var-data-in' type='checkbox'><label for='data-f1529987-15e4-4062-a7f3-3900a7604fcf' title='Show/Hide data repr'><svg class='icon xr-icon-database'><use xlink:href='#icon-database'></use></svg></label><div class='xr-var-attrs'><dl class='xr-attrs'><dt><span>history :</span></dt><dd>From ICE.p79.1980.01.01-10</dd><dt><span>long_name :</span></dt><dd>Short Wave Downward</dd><dt><span>units :</span></dt><dd>W/m2</dd></dl></div><div class='xr-var-data'><pre>[3267000 values with dtype=float32]</pre></div></li><li class='xr-var-item'><div class='xr-var-name'><span>TT</span></div><div class='xr-var-dims'>(time, y, x)</div><div class='xr-var-dtype'>float32</div><div class='xr-var-preview xr-preview'>...</div><input id='attrs-fc6f0155-30ac-43ab-b426-e2a84d6f3183' class='xr-var-attrs-in' type='checkbox' ><label for='attrs-fc6f0155-30ac-43ab-b426-e2a84d6f3183' title='Show/Hide attributes'><svg class='icon xr-icon-file-text2'><use xlink:href='#icon-file-text2'></use></svg></label><input id='data-4c94ee54-b6b8-420c-abef-2f0c0c7145f3' class='xr-var-data-in' type='checkbox'><label for='data-4c94ee54-b6b8-420c-abef-2f0c0c7145f3' title='Show/Hide data repr'><svg class='icon xr-icon-database'><use xlink:href='#icon-database'></use></svg></label><div class='xr-var-attrs'><dl class='xr-attrs'><dt><span>history :</span></dt><dd>From ICE.p79.1980.01.01-10</dd><dt><span>long_name :</span></dt><dd>Temperature</dd><dt><span>units :</span></dt><dd>C</dd></dl></div><div class='xr-var-data'><pre>[3267000 values with dtype=float32]</pre></div></li><li class='xr-var-item'><div class='xr-var-name'><span>SMB</span></div><div class='xr-var-dims'>(time, y, x)</div><div class='xr-var-dtype'>float32</div><div class='xr-var-preview xr-preview'>...</div><input id='attrs-fc647a8d-423b-4498-ad40-4f02794ef7eb' class='xr-var-attrs-in' type='checkbox' ><label for='attrs-fc647a8d-423b-4498-ad40-4f02794ef7eb' title='Show/Hide attributes'><svg class='icon xr-icon-file-text2'><use xlink:href='#icon-file-text2'></use></svg></label><input id='data-8146b858-940a-400b-858f-707845b174e1' class='xr-var-data-in' type='checkbox'><label for='data-8146b858-940a-400b-858f-707845b174e1' title='Show/Hide data repr'><svg class='icon xr-icon-database'><use xlink:href='#icon-database'></use></svg></label><div class='xr-var-attrs'><dl class='xr-attrs'><dt><span>history :</span></dt><dd>From ICE.p79.1980.01.01-10</dd><dt><span>long_name :</span></dt><dd>Surface Mass Balance (SMB~SF+RF-RU-SU-SW)</dd><dt><span>units :</span></dt><dd>mmWE/day</dd></dl></div><div class='xr-var-data'><pre>[3267000 values with dtype=float32]</pre></div></li><li class='xr-var-item'><div class='xr-var-name'><span>VVP</span></div><div class='xr-var-dims'>(time, y, x)</div><div class='xr-var-dtype'>float64</div><div class='xr-var-preview xr-preview'>...</div><input id='attrs-b655b730-b4f6-4229-ba72-a7cbdeb69210' class='xr-var-attrs-in' type='checkbox' ><label for='attrs-b655b730-b4f6-4229-ba72-a7cbdeb69210' title='Show/Hide attributes'><svg class='icon xr-icon-file-text2'><use xlink:href='#icon-file-text2'></use></svg></label><input id='data-97c3e024-9f98-4273-94a3-43e1b76afaf9' class='xr-var-data-in' type='checkbox'><label for='data-97c3e024-9f98-4273-94a3-43e1b76afaf9' title='Show/Hide data repr'><svg class='icon xr-icon-database'><use xlink:href='#icon-database'></use></svg></label><div class='xr-var-attrs'><dl class='xr-attrs'><dt><span>history :</span></dt><dd>From ICE.p79.1980.01.01-10</dd><dt><span>long_name :</span></dt><dd>y-Wind Speed component</dd><dt><span>units :</span></dt><dd>m/s</dd></dl></div><div class='xr-var-data'><pre>[3267000 values with dtype=float64]</pre></div></li><li class='xr-var-item'><div class='xr-var-name'><span>UUP</span></div><div class='xr-var-dims'>(time, y, x)</div><div class='xr-var-dtype'>float64</div><div class='xr-var-preview xr-preview'>...</div><input id='attrs-d0c22ae8-c3e0-48cc-889b-8f9a16e09fb1' class='xr-var-attrs-in' type='checkbox' ><label for='attrs-d0c22ae8-c3e0-48cc-889b-8f9a16e09fb1' title='Show/Hide attributes'><svg class='icon xr-icon-file-text2'><use xlink:href='#icon-file-text2'></use></svg></label><input id='data-b09b69ab-fdee-4c95-b005-ac574617e9ab' class='xr-var-data-in' type='checkbox'><label for='data-b09b69ab-fdee-4c95-b005-ac574617e9ab' title='Show/Hide data repr'><svg class='icon xr-icon-database'><use xlink:href='#icon-database'></use></svg></label><div class='xr-var-attrs'><dl class='xr-attrs'><dt><span>history :</span></dt><dd>From ICE.p79.1980.01.01-10</dd><dt><span>long_name :</span></dt><dd>x-Wind Speed component</dd><dt><span>units :</span></dt><dd>m/s</dd></dl></div><div class='xr-var-data'><pre>[3267000 values with dtype=float64]</pre></div></li></ul></div></li><li class='xr-section-item'><input id='section-f81aadac-f840-4d7c-b4e9-329371b536bd' class='xr-section-summary-in' type='checkbox'  checked><label for='section-f81aadac-f840-4d7c-b4e9-329371b536bd' class='xr-section-summary' >Attributes: <span>(1)</span></label><div class='xr-section-inline-details'></div><div class='xr-section-details'><dl class='xr-attrs'><dt><span>crs :</span></dt><dd>3031</dd></dl></div></li></ul></div></div>"
            ]
          },
          "metadata": {},
          "execution_count": 8
        }
      ],
      "source": [
        "if downloadFromGC:\n",
        "    downloadFileFromGC(pathGC, '', fileGCMLike)\n",
        "    GCMLike = xr.open_dataset(fileGCMLike)\n",
        "    os.remove(fileGCMLike)\n",
        "else:\n",
        "    GCMLike = xr.open_dataset(pathCluster+fileGCMLike)\n",
        "print(GCMLike.dims)\n",
        "GCMLike"
      ]
    },
    {
      "cell_type": "code",
      "execution_count": 9,
      "id": "silent-colon",
      "metadata": {
        "id": "silent-colon",
        "colab": {
          "base_uri": "https://localhost:8080/",
          "height": 957
        },
        "outputId": "9e56fb36-04c8-4638-cc88-97e0269ab696"
      },
      "outputs": [
        {
          "output_type": "stream",
          "name": "stderr",
          "text": [
            "/usr/local/lib/python3.7/dist-packages/cartopy/crs.py:228: ShapelyDeprecationWarning: __len__ for multi-part geometries is deprecated and will be removed in Shapely 2.0. Check the length of the `geoms` property instead to get the  number of parts of a multi-part geometry.\n",
            "  if len(multi_line_string) > 1:\n",
            "/usr/local/lib/python3.7/dist-packages/cartopy/crs.py:239: ShapelyDeprecationWarning: Iteration over multi-part geometries is deprecated and will be removed in Shapely 2.0. Use the `geoms` property to access the constituent parts of a multi-part geometry.\n",
            "  line_strings = list(multi_line_string)\n",
            "/usr/local/lib/python3.7/dist-packages/cartopy/crs.py:239: ShapelyDeprecationWarning: __len__ for multi-part geometries is deprecated and will be removed in Shapely 2.0. Check the length of the `geoms` property instead to get the  number of parts of a multi-part geometry.\n",
            "  line_strings = list(multi_line_string)\n",
            "/usr/local/lib/python3.7/dist-packages/cartopy/crs.py:280: ShapelyDeprecationWarning: Iteration over multi-part geometries is deprecated and will be removed in Shapely 2.0. Use the `geoms` property to access the constituent parts of a multi-part geometry.\n",
            "  for line in multi_line_string:\n",
            "/usr/local/lib/python3.7/dist-packages/cartopy/crs.py:347: ShapelyDeprecationWarning: __len__ for multi-part geometries is deprecated and will be removed in Shapely 2.0. Check the length of the `geoms` property instead to get the  number of parts of a multi-part geometry.\n",
            "  if len(p_mline) > 0:\n",
            "/usr/local/lib/python3.7/dist-packages/cartopy/crs.py:385: ShapelyDeprecationWarning: Iteration over multi-part geometries is deprecated and will be removed in Shapely 2.0. Use the `geoms` property to access the constituent parts of a multi-part geometry.\n",
            "  line_strings.extend(multi_line_string)\n",
            "/usr/local/lib/python3.7/dist-packages/cartopy/crs.py:385: ShapelyDeprecationWarning: __len__ for multi-part geometries is deprecated and will be removed in Shapely 2.0. Check the length of the `geoms` property instead to get the  number of parts of a multi-part geometry.\n",
            "  line_strings.extend(multi_line_string)\n"
          ]
        },
        {
          "output_type": "execute_result",
          "data": {
            "text/plain": [
              "<cartopy.mpl.gridliner.Gridliner at 0x7f52fa2857d0>"
            ]
          },
          "metadata": {},
          "execution_count": 9
        },
        {
          "output_type": "stream",
          "name": "stderr",
          "text": [
            "/usr/local/lib/python3.7/dist-packages/cartopy/mpl/gridliner.py:549: ShapelyDeprecationWarning: __len__ for multi-part geometries is deprecated and will be removed in Shapely 2.0. Check the length of the `geoms` property instead to get the  number of parts of a multi-part geometry.\n",
            "  elif len(intersection) > 4:\n",
            "/usr/local/lib/python3.7/dist-packages/cartopy/mpl/gridliner.py:561: ShapelyDeprecationWarning: Iteration over multi-part geometries is deprecated and will be removed in Shapely 2.0. Use the `geoms` property to access the constituent parts of a multi-part geometry.\n",
            "  for inter in intersection:\n",
            "/usr/local/lib/python3.7/dist-packages/cartopy/io/__init__.py:241: DownloadWarning: Downloading: https://naciscdn.org/naturalearth/10m/physical/ne_10m_coastline.zip\n",
            "  warnings.warn('Downloading: {}'.format(url), DownloadWarning)\n",
            "/usr/local/lib/python3.7/dist-packages/cartopy/mpl/gridliner.py:556: ShapelyDeprecationWarning: __getitem__ for multi-part geometries is deprecated and will be removed in Shapely 2.0. Use the `geoms` property to access the constituent parts of a multi-part geometry.\n",
            "  xy = np.append(intersection[0], intersection[-1],\n",
            "<string>:6: ShapelyDeprecationWarning: The array interface is deprecated and will no longer work in Shapely 2.0. Convert the '.coords' to a numpy array instead.\n",
            "/usr/local/lib/python3.7/dist-packages/numpy/lib/function_base.py:4817: ShapelyDeprecationWarning: The array interface is deprecated and will no longer work in Shapely 2.0. Convert the '.coords' to a numpy array instead.\n",
            "  return concatenate((arr, values), axis=axis)\n"
          ]
        },
        {
          "output_type": "display_data",
          "data": {
            "text/plain": [
              "<Figure size 1440x720 with 2 Axes>"
            ],
            "image/png": "[encoded data removed]"
          },
          "metadata": {
            "needs_background": "light"
          }
        }
      ],
      "source": [
        "fig = plt.figure(figsize=(20, 10))\n",
        "ax = plt.subplot(2, 1, 1, projection=ccrs.SouthPolarStereo())\n",
        "GCMLike.SMB.isel(time=0).plot(\n",
        "    x=\"x\", ax=ax, transform=ccrs.SouthPolarStereo(), add_colorbar=False\n",
        ")\n",
        "\n",
        "ax.coastlines(\"10m\", color=\"black\")\n",
        "ax.gridlines(draw_labels=True)\n",
        "\n",
        "\n",
        "ax = plt.subplot(2, 1, 2, projection=ccrs.PlateCarree())\n",
        "GCMLike.SMB.isel(time=0).plot(\n",
        "    x=\"x\", ax=ax, transform=ccrs.SouthPolarStereo(), add_colorbar=False\n",
        ")\n",
        "ax.coastlines(\"10m\", color=\"black\")\n",
        "ax.gridlines(draw_labels=True)"
      ]
    },
    {
      "cell_type": "code",
      "execution_count": 10,
      "id": "8c4dbaae",
      "metadata": {
        "id": "8c4dbaae",
        "colab": {
          "base_uri": "https://localhost:8080/"
        },
        "outputId": "21374744-4044-40bb-c502-a8f87d95a908"
      },
      "outputs": [
        {
          "output_type": "stream",
          "name": "stdout",
          "text": [
            "Frozen(SortedKeysDict({'time': 1452, 'y': 148, 'x': 176, 'PLEV': 7}))\n",
            "New target dimensions: Frozen(SortedKeysDict({'time': 1452, 'y': 148, 'x': 160, 'PLEV': 7}))\n"
          ]
        }
      ],
      "source": [
        "if downloadFromGC:\n",
        "    downloadFileFromGC(pathGC, '', fileTarget)\n",
        "    target_dataset = xr.open_dataset(fileTarget)\n",
        "    os.remove(fileTarget)\n",
        "else:\n",
        "    target_dataset = xr.open_dataset(pathCluster+fileTarget)\n",
        "print(target_dataset.dims)\n",
        "\n",
        "# Cut a small part of on the right that is not too important\n",
        "N = 160\n",
        "max_x = (N / 2) * 35 * 1000\n",
        "max_y = (N / 2) * 35 * 1000\n",
        "\n",
        "target_dataset = cutBoundaries(target_dataset, max_x, max_y)\n",
        "print(\"New target dimensions:\", target_dataset.dims)"
      ]
    },
    {
      "cell_type": "markdown",
      "id": "d6866221",
      "metadata": {
        "id": "d6866221"
      },
      "source": [
        "## Create input and target:\n",
        "\n",
        "**Z**:\n",
        "- (ignore for now) External forcing also given to RCM → total concentration of greenhouse gases and solar and ozone forcings\n",
        "- Cosinus, sinus vector to encode information about day of year\n",
        "- Daily spatial means and standard deviations time series for each $X_{i,j,m}$ (because normalising 2D variables removes temporal information)\n",
        "\n",
        "**X**: \n",
        "SHAPE `[nbmonths, x, y, nb_vars]`\n",
        "\n",
        "For pytorch need to put into `[nbmonths, nb_vars, x, y]`"
      ]
    },
    {
      "cell_type": "code",
      "execution_count": 11,
      "id": "f80a87f2",
      "metadata": {
        "id": "f80a87f2"
      },
      "outputs": [],
      "source": [
        "def input_maker(\n",
        "    GCMLike,\n",
        "    size_input_domain=16,  # size of domain, format: 8,16,32, must be defined in advance\n",
        "    stand=True,  # standardization\n",
        "    seas=True,  # put a cos, sin vector to control the season, format : bool\n",
        "    means=True,  # add the mean of the variables raw or stdz, format : bool\n",
        "    stds=True,  # add the std of the variables raw or stdz, format : bool\n",
        "    resize_input=True,  # resize input to size_input_domain\n",
        "    region=\"Larsen\",  # region of interest\n",
        "    print_=True\n",
        "):\n",
        "\n",
        "    if region != \"whole antarctica\":\n",
        "        DATASET = createLowerInput(GCMLike, region = region, Nx=48, Ny=25, print_=False)\n",
        "    else:\n",
        "        DATASET = GCMLike\n",
        "    \"\"\"\n",
        "    MAKE THE 2D INPUT ARRAY\n",
        "    SHAPE [nbmonths, x, y, nb_vars]\n",
        "    \"\"\"\n",
        "\n",
        "    # Remove target variable from DATASET:\n",
        "    DATASET = DATASET.drop([\"SMB\"])\n",
        "\n",
        "    nbmonths = DATASET.dims[\"time\"]\n",
        "    x = DATASET.dims[\"x\"]\n",
        "    y = DATASET.dims[\"y\"]\n",
        "    nb_vars = len(list(DATASET.data_vars))\n",
        "    VAR_LIST = list(DATASET.data_vars)\n",
        "\n",
        "    INPUT_2D_bf = np.transpose(\n",
        "        np.asarray([DATASET[i].values for i in VAR_LIST]), [1, 2, 3, 0]\n",
        "    )\n",
        "\n",
        "    # if no size is given, take smallest power of 2\n",
        "    if size_input_domain == None:\n",
        "        size_input_domain = np.max(\n",
        "            [\n",
        "                highestPowerof2(INPUT_2D_bf.shape[1]),\n",
        "                highestPowerof2(INPUT_2D_bf.shape[2]),\n",
        "            ]\n",
        "        )\n",
        "\n",
        "    if resize_input:\n",
        "        # resize to size_input_domain\n",
        "        INPUT_2D = resize(INPUT_2D_bf, size_input_domain, size_input_domain, print_)\n",
        "    else:\n",
        "        INPUT_2D = INPUT_2D_bf\n",
        "\n",
        "    if stand:\n",
        "        # Standardize:\n",
        "        INPUT_2D_SDTZ = standardize(INPUT_2D)\n",
        "        # in their code with aerosols extra stuff but ignore\n",
        "        INPUT_2D_ARRAY = INPUT_2D_SDTZ\n",
        "    else:\n",
        "        INPUT_2D_ARRAY = INPUT_2D\n",
        "\n",
        "    if print_:\n",
        "        print(\"Parameters:\\n -------------------\")\n",
        "        print(\"Size of input domain:\", size_input_domain)\n",
        "        print(\"Region:\", region)\n",
        "        print(\"\\nCreating 2D input X:\\n -------------------\")\n",
        "        print(f\"Number of variables: {nb_vars}\")\n",
        "        print(f\"Variables: {VAR_LIST}\")\n",
        "        print(f\"INPUT_2D shape: {INPUT_2D_ARRAY.shape}\")\n",
        "        print(\"\\nCreating 1D input Z:\\n -------------------\")\n",
        "        \n",
        "    \"\"\"\n",
        "    MAKE THE 1D INPUT ARRAY\n",
        "    CONTAINS MEANS, STD SEASON IF ASKED\n",
        "    \"\"\"\n",
        "    \n",
        "    INPUT_1D = []\n",
        "    if means and stds:\n",
        "        vect_std = INPUT_2D.std(axis=(1, 2))\n",
        "        vect_means = INPUT_2D.mean(axis=(1, 2))\n",
        "        SpatialMean = vect_means.reshape(INPUT_2D.shape[0], 1, 1, INPUT_2D.shape[3])\n",
        "        SpatialSTD = vect_std.reshape(INPUT_2D.shape[0], 1, 1, INPUT_2D.shape[3])\n",
        "\n",
        "        INPUT_1D.append(SpatialMean)\n",
        "        INPUT_1D.append(SpatialSTD)\n",
        "        if print_:\n",
        "            print(f\"SpatialMean/std shape: {SpatialMean.shape}\")\n",
        "\n",
        "    if seas:\n",
        "        months = 12\n",
        "        cosvect = np.tile(\n",
        "            [cos(2 * i * pi / months) for i in range(months)],\n",
        "            int(INPUT_2D.shape[0] / months),\n",
        "        )\n",
        "        sinvect = np.tile(\n",
        "            [sin(2 * i * pi / months) for i in range(months)],\n",
        "            int(INPUT_2D.shape[0] / months),\n",
        "        )\n",
        "        cosvect = cosvect.reshape(INPUT_2D.shape[0], 1, 1, 1)\n",
        "        sinvect = sinvect.reshape(INPUT_2D.shape[0], 1, 1, 1)\n",
        "\n",
        "        INPUT_1D.append(cosvect)\n",
        "        INPUT_1D.append(sinvect)\n",
        "        if print_:\n",
        "            print(f\"Cos/sin encoding shape: {cosvect.shape}\")\n",
        "\n",
        "    INPUT_1D_ARRAY = np.concatenate(INPUT_1D, axis=3)\n",
        "    if print_:\n",
        "        print(f\"INPUT_1D shape: {INPUT_1D_ARRAY.shape}\")\n",
        "        \n",
        "    DATASET.close()\n",
        "    return INPUT_2D_ARRAY, INPUT_1D_ARRAY, VAR_LIST"
      ]
    },
    {
      "cell_type": "code",
      "execution_count": 12,
      "id": "db745d28",
      "metadata": {
        "id": "db745d28",
        "colab": {
          "base_uri": "https://localhost:8080/"
        },
        "outputId": "a186ba73-7e1e-4369-b8a1-55f20cba75ba"
      },
      "outputs": [
        {
          "output_type": "stream",
          "name": "stdout",
          "text": [
            "Shape before resizing: (1452, 25, 48, 7)\n",
            "Shape after resizing: (1452, 32, 32, 7)\n",
            "Parameters:\n",
            " -------------------\n",
            "Size of input domain: 32\n",
            "Region: Larsen\n",
            "\n",
            "Creating 2D input X:\n",
            " -------------------\n",
            "Number of variables: 7\n",
            "Variables: ['RF', 'SP', 'LWD', 'SWD', 'TT', 'VVP', 'UUP']\n",
            "INPUT_2D shape: (1452, 32, 32, 7)\n",
            "\n",
            "Creating 1D input Z:\n",
            " -------------------\n",
            "SpatialMean/std shape: (1452, 1, 1, 7)\n",
            "Cos/sin encoding shape: (1452, 1, 1, 1)\n",
            "INPUT_1D shape: (1452, 1, 1, 16)\n"
          ]
        }
      ],
      "source": [
        "# Download GMC like RCM input data:\n",
        "fileGCMLike = \"MAR(ACCESS1-3)-stereographic_monthly_GCM_like.nc\"\n",
        "if downloadFromGC:\n",
        "    downloadFileFromGC(pathGC, \"\", fileGCMLike)\n",
        "    GCMLike = xr.open_dataset(fileGCMLike)\n",
        "    os.remove(fileGCMLike)\n",
        "else:\n",
        "    GCMLike = xr.open_dataset(pathCluster+fileGCMLike)\n",
        "\n",
        "region = \"Larsen\"\n",
        "size_input_domain = 32\n",
        "\n",
        "# Make input\n",
        "i2D, i1D, VAR_LIST = input_maker(\n",
        "    GCMLike,\n",
        "    size_input_domain,\n",
        "    stand=True,  # standardization\n",
        "    seas=True,  # put a cos,sin vector to control the season, format : bool\n",
        "    means=True,  # add the mean of the variables raw or stdz, format : r,s,n\n",
        "    stds=True,\n",
        "    resize_input=True,\n",
        "    region=region,\n",
        ")\n",
        "\n",
        "inputs_2D = []\n",
        "inputs_1D = []\n",
        "inputs_1D.append(i1D)\n",
        "inputs_2D.append(i2D)\n",
        "\n",
        "# Make a non standardised version for plots:\n",
        "i2D_ns, i1D_ns, var_list = input_maker(\n",
        "    GCMLike,\n",
        "    size_input_domain,\n",
        "    stand=False,  # standardization\n",
        "    seas=True,  # put a cos,sin vector to control the season, format : bool\n",
        "    means=True,  # add the mean of the variables raw or stdz, format : r,s,n\n",
        "    stds=True,\n",
        "    resize_input=False,\n",
        "    region=region,\n",
        "    print_=False,\n",
        ")\n",
        "\n",
        "inputs_2D_ns = []\n",
        "inputs_1D_ns = []\n",
        "inputs_1D_ns.append(i1D_ns)\n",
        "inputs_2D_ns.append(i2D_ns)"
      ]
    },
    {
      "cell_type": "code",
      "execution_count": 13,
      "id": "c7028701",
      "metadata": {
        "id": "c7028701"
      },
      "outputs": [],
      "source": [
        "def target_maker(\n",
        "    target_dataset, \n",
        "    region=\"Larsen\", # region of interest\n",
        "    resize=True, # resize to target_size\n",
        "    target_size=None # if none provided and resize true, set to min highest power of 2\n",
        "):\n",
        "    target_times = []\n",
        "    targets = []\n",
        "\n",
        "    if region != \"Whole antarctica\":\n",
        "        lowerTarget = createLowerTarget(target_dataset, region = region, Nx=64, Ny=64, print_=False)\n",
        "        targetArray = lowerTarget.SMB.values\n",
        "    else:\n",
        "        targetArray = target_dataset.SMB.values\n",
        "\n",
        "    targetArray = targetArray.reshape(\n",
        "        targetArray.shape[0], targetArray.shape[1], targetArray.shape[2], 1\n",
        "    )\n",
        "\n",
        "    if target_size == None:\n",
        "        # resize to highest power of 2:\n",
        "        target_size = np.min(\n",
        "            [\n",
        "                highestPowerof2(targetArray.shape[1]),\n",
        "                highestPowerof2(targetArray.shape[2]),\n",
        "            ]\n",
        "        )\n",
        "\n",
        "    if resize:\n",
        "        target_SMB = resize(targetArray, target_size, target_size)\n",
        "    else:\n",
        "        target_SMB = targetArray\n",
        "\n",
        "    targets.append(target_SMB)\n",
        "    target_times.append(target_dataset.time.values)\n",
        "\n",
        "    full_target = np.concatenate(targets, axis=0)\n",
        "\n",
        "    return full_target, target_times"
      ]
    },
    {
      "cell_type": "code",
      "execution_count": 14,
      "id": "16f1623b",
      "metadata": {
        "id": "16f1623b"
      },
      "outputs": [],
      "source": [
        "full_target, target_times = target_maker(\n",
        "    target_dataset, region=\"Larsen\", resize=False\n",
        ")\n",
        "# Full target to model\n",
        "target_time = np.concatenate(target_times, axis=0)\n",
        "target_lon = target_dataset[\"x\"]\n",
        "target_lat = target_dataset[\"y\"]"
      ]
    },
    {
      "cell_type": "code",
      "execution_count": 15,
      "id": "3e17af91",
      "metadata": {
        "id": "3e17af91",
        "colab": {
          "base_uri": "https://localhost:8080/"
        },
        "outputId": "a3de10de-e530-4995-c50f-46e01f6ca73f"
      },
      "outputs": [
        {
          "output_type": "stream",
          "name": "stdout",
          "text": [
            "Shapes of targets and inputs:\n",
            "---------------------------\n",
            "Target: (1452, 64, 64, 1)\n",
            "Input 2D: (1452, 32, 32, 7)\n",
            "Input 1D: (1452, 1, 1, 16)\n"
          ]
        }
      ],
      "source": [
        "# Full input to model\n",
        "full_input=[np.concatenate(inputs_2D,axis=0),np.concatenate(inputs_1D,axis=0)]\n",
        "full_input_ns=[np.concatenate(inputs_2D_ns,axis=0),np.concatenate(inputs_1D_ns,axis=0)]\n",
        "\n",
        "print(\"Shapes of targets and inputs:\\n---------------------------\")\n",
        "print(\"Target:\", full_target.shape)\n",
        "print(\"Input 2D:\", full_input[0].shape)\n",
        "print(\"Input 1D:\", full_input[1].shape)"
      ]
    },
    {
      "cell_type": "markdown",
      "id": "420cda85",
      "metadata": {
        "id": "420cda85"
      },
      "source": [
        "### Change to tensors:"
      ]
    },
    {
      "cell_type": "code",
      "execution_count": 16,
      "id": "e5f580aa",
      "metadata": {
        "id": "e5f580aa"
      },
      "outputs": [],
      "source": [
        "from torch.utils.data import Dataset\n",
        "from torch.utils.data import TensorDataset\n",
        "from torchvision import datasets\n",
        "from torchvision.transforms import ToTensor\n",
        "from torch.utils.data import DataLoader, random_split"
      ]
    },
    {
      "cell_type": "code",
      "execution_count": 17,
      "id": "38402bee",
      "metadata": {
        "id": "38402bee",
        "colab": {
          "base_uri": "https://localhost:8080/"
        },
        "outputId": "51ded3fc-1b96-4109-e4b3-55161b4066e9"
      },
      "outputs": [
        {
          "output_type": "execute_result",
          "data": {
            "text/plain": [
              "(torch.Size([1452, 7, 32, 32]),\n",
              " torch.Size([1452, 16, 1, 1]),\n",
              " torch.Size([1452, 1, 64, 64]))"
            ]
          },
          "metadata": {},
          "execution_count": 17
        }
      ],
      "source": [
        "X = torch.tensor(full_input[0].transpose(0, 3,1,2))\n",
        "Z = torch.tensor(full_input[1].transpose(0, 3,1,2))\n",
        "Y = torch.tensor(full_target.transpose(0, 3,1,2))\n",
        "X.shape, Z.shape, Y.shape"
      ]
    },
    {
      "cell_type": "markdown",
      "source": [
        "## Create dataset:"
      ],
      "metadata": {
        "id": "8LVX5qiOefZr"
      },
      "id": "8LVX5qiOefZr"
    },
    {
      "cell_type": "code",
      "execution_count": 18,
      "id": "39615a23",
      "metadata": {
        "id": "39615a23",
        "colab": {
          "base_uri": "https://localhost:8080/"
        },
        "outputId": "b18f3b90-25d4-4883-a2af-32606eb21767"
      },
      "outputs": [
        {
          "output_type": "stream",
          "name": "stdout",
          "text": [
            "torch.Size([1, 7, 32, 32]) torch.Size([1, 16, 1, 1]) torch.Size([1, 1, 64, 64])\n"
          ]
        }
      ],
      "source": [
        "seed = 123\n",
        "dataset = TensorDataset(X, Z, Y)\n",
        "batch_size=32\n",
        "loader = DataLoader(\n",
        "    dataset,    \n",
        ")\n",
        "\n",
        "# Example:\n",
        "(x, z, y) = next(iter(loader))\n",
        "print(x.shape, z.shape, y.shape)"
      ]
    },
    {
      "cell_type": "markdown",
      "source": [
        "###  Split into train / validation partitions"
      ],
      "metadata": {
        "id": "kbJE55PPejPG"
      },
      "id": "kbJE55PPejPG"
    },
    {
      "cell_type": "code",
      "source": [
        "# 2. Split into train / validation partitions\n",
        "val_percent = 0.2\n",
        "n_val = int(len(dataset) * val_percent)\n",
        "n_train = len(dataset) - n_val\n",
        "train_set, val_set = random_split(dataset, [n_train, n_val], generator=torch.Generator().manual_seed(seed))"
      ],
      "metadata": {
        "id": "yAbyBSbtein3"
      },
      "id": "yAbyBSbtein3",
      "execution_count": 19,
      "outputs": []
    },
    {
      "cell_type": "markdown",
      "source": [
        "### Create data loaders"
      ],
      "metadata": {
        "id": "-vh2Xs8ZemTA"
      },
      "id": "-vh2Xs8ZemTA"
    },
    {
      "cell_type": "code",
      "execution_count": 20,
      "id": "ba865300",
      "metadata": {
        "id": "ba865300"
      },
      "outputs": [],
      "source": [
        "# 3. Create data loaders\n",
        "batch_size = 32\n",
        "loader_args = dict(batch_size=batch_size)\n",
        "train_loader = DataLoader(train_set, shuffle=True, batch_size=batch_size)\n",
        "val_loader = DataLoader(val_set, shuffle=False, batch_size=batch_size)"
      ]
    },
    {
      "cell_type": "code",
      "source": [
        "# Display image and label.\n",
        "train_X, train_Z, train_Y = next(iter(train_loader))\n",
        "print(f\"2D Feature batch shape: {train_X.size()}\")\n",
        "print(f\"1D Feature batch shape: {train_Z.size()}\")\n",
        "print(f\"Labels batch shape: {train_Y.size()}\")\n",
        "\n",
        "sample2dtrain_ = train_X.numpy().transpose(0,2,3,1)[0]\n",
        "sampletarget_ = train_Y.numpy().transpose(0,2,3,1)[0]\n",
        "randTime = 0\n",
        "dt = pd.to_datetime([GCMLike.time.isel(time=randTime).values])\n",
        "time = str(dt.date[0])\n",
        "\n",
        "if REGION == \"Larsen\":\n",
        "  sample2dtrain_ = resize(sample2dtrain_, 25, 48, print_=False)\n",
        "else:\n",
        "  sample2dtrain_ = resize(sample2dtrain_, 25, 90, print_=False)\n",
        "vmin = np.min(sampletarget_)\n",
        "vmax = np.max(sampletarget_)\n",
        "\n",
        "ax = plt.subplot(1, 2, 1, projection=ccrs.SouthPolarStereo())\n",
        "plotTrain(GCMLike, sample2dtrain_, 4, ax, time, VAR_LIST, region='Larsen')\n",
        "ax = plt.subplot(1, 2, 2, projection=ccrs.SouthPolarStereo())\n",
        "plotTarget(target_dataset, sampletarget_, ax, vmin, vmax, region='Larsen')"
      ],
      "metadata": {
        "colab": {
          "base_uri": "https://localhost:8080/",
          "height": 504
        },
        "id": "cBwY2zp5dgAq",
        "outputId": "ac4459fa-de39-45d6-d60c-56ce6c5a3fd6"
      },
      "id": "cBwY2zp5dgAq",
      "execution_count": 21,
      "outputs": [
        {
          "output_type": "stream",
          "name": "stdout",
          "text": [
            "2D Feature batch shape: torch.Size([32, 7, 32, 32])\n",
            "1D Feature batch shape: torch.Size([32, 16, 1, 1])\n",
            "Labels batch shape: torch.Size([32, 1, 64, 64])\n"
          ]
        },
        {
          "output_type": "stream",
          "name": "stderr",
          "text": [
            "/usr/local/lib/python3.7/dist-packages/cartopy/crs.py:228: ShapelyDeprecationWarning: __len__ for multi-part geometries is deprecated and will be removed in Shapely 2.0. Check the length of the `geoms` property instead to get the  number of parts of a multi-part geometry.\n",
            "  if len(multi_line_string) > 1:\n",
            "/usr/local/lib/python3.7/dist-packages/cartopy/crs.py:280: ShapelyDeprecationWarning: Iteration over multi-part geometries is deprecated and will be removed in Shapely 2.0. Use the `geoms` property to access the constituent parts of a multi-part geometry.\n",
            "  for line in multi_line_string:\n",
            "/usr/local/lib/python3.7/dist-packages/cartopy/crs.py:347: ShapelyDeprecationWarning: __len__ for multi-part geometries is deprecated and will be removed in Shapely 2.0. Check the length of the `geoms` property instead to get the  number of parts of a multi-part geometry.\n",
            "  if len(p_mline) > 0:\n",
            "/usr/local/lib/python3.7/dist-packages/cartopy/crs.py:385: ShapelyDeprecationWarning: Iteration over multi-part geometries is deprecated and will be removed in Shapely 2.0. Use the `geoms` property to access the constituent parts of a multi-part geometry.\n",
            "  line_strings.extend(multi_line_string)\n",
            "/usr/local/lib/python3.7/dist-packages/cartopy/crs.py:385: ShapelyDeprecationWarning: __len__ for multi-part geometries is deprecated and will be removed in Shapely 2.0. Check the length of the `geoms` property instead to get the  number of parts of a multi-part geometry.\n",
            "  line_strings.extend(multi_line_string)\n"
          ]
        },
        {
          "output_type": "display_data",
          "data": {
            "text/plain": [
              "<Figure size 432x288 with 4 Axes>"
            ],
            "image/png": "[encoded data removed]"
          },
          "metadata": {
            "needs_background": "light"
          }
        }
      ]
    },
    {
      "cell_type": "markdown",
      "source": [
        "## U-Net:"
      ],
      "metadata": {
        "id": "gqLzdnUaeqoQ"
      },
      "id": "gqLzdnUaeqoQ"
    },
    {
      "cell_type": "code",
      "source": [
        "import torch.nn as nn\n",
        "import torch.nn.functional as F"
      ],
      "metadata": {
        "id": "HJlCjfRle6xn"
      },
      "id": "HJlCjfRle6xn",
      "execution_count": 22,
      "outputs": []
    },
    {
      "cell_type": "code",
      "source": [
        "class DoubleConv(nn.Module):\n",
        "    \"\"\"(convolution => [BN] => ReLU) * 2\"\"\"\n",
        "\n",
        "    def __init__(self, in_channels, out_channels, mid_channels=None):\n",
        "        super().__init__()\n",
        "        if not mid_channels:\n",
        "            mid_channels = out_channels\n",
        "        self.double_conv = nn.Sequential(\n",
        "            nn.Conv2d(in_channels, mid_channels, kernel_size=3, padding=1, bias=False),\n",
        "            nn.BatchNorm2d(mid_channels),\n",
        "            nn.ReLU(inplace=True),\n",
        "            nn.Conv2d(mid_channels, out_channels, kernel_size=3, padding=1, bias=False),\n",
        "            nn.BatchNorm2d(out_channels),\n",
        "            nn.ReLU(inplace=True)\n",
        "        )\n",
        "\n",
        "    def forward(self, x):\n",
        "        return self.double_conv(x)\n",
        "\n",
        "\n",
        "class Down(nn.Module):\n",
        "    \"\"\"Downscaling with double conv then maxpool\"\"\"\n",
        "\n",
        "    def __init__(self, in_channels, out_channels):\n",
        "        super().__init__()\n",
        "        self.maxpool_conv = nn.Sequential(\n",
        "            nn.MaxPool2d(2),\n",
        "            DoubleConv(in_channels, out_channels)\n",
        "        )\n",
        "        self.maxpool = nn.MaxPool2d(2)\n",
        "        self.doubleconv = DoubleConv(in_channels, out_channels)\n",
        "\n",
        "    def forward(self, x):\n",
        "        x1 = self.doubleconv(x)\n",
        "        x2 = self.maxpool(x1)\n",
        "        return x2, x1\n",
        "\n",
        "class Up(nn.Module):\n",
        "    \"\"\"Upscaling then double conv\"\"\"\n",
        "    def __init__(self, in_channels, out_channels, bilinear=True):\n",
        "        super().__init__()\n",
        "\n",
        "        # if bilinear, use the normal convolutions to reduce the number of channels\n",
        "        if bilinear:\n",
        "            self.up = nn.Upsample(scale_factor=2, mode='bilinear', align_corners=True)\n",
        "            self.conv = DoubleConv(in_channels, out_channels, in_channels // 2)\n",
        "        else:\n",
        "            self.up = nn.ConvTranspose2d(in_channels, in_channels // 2, kernel_size=3, stride=2)\n",
        "            self.conv = DoubleConv(in_channels, out_channels)\n",
        "\n",
        "    def forward(self, x1, x2):\n",
        "        x1 = self.up(x1)\n",
        "        # input is CHW\n",
        "        diffY = x2.size()[2] - x1.size()[2]\n",
        "        diffX = x2.size()[3] - x1.size()[3]\n",
        "        x1 = F.pad(x1, [diffX // 2, diffX - diffX // 2,\n",
        "                        diffY // 2, diffY - diffY // 2])\n",
        "        # if you have padding issues, see\n",
        "        # https://github.com/HaiyongJiang/U-Net-Pytorch-Unstructured-Buggy/commit/0e854509c2cea854e247a9c615f175f76fbb2e3a\n",
        "        # https://github.com/xiaopeng-liao/Pytorch-UNet/commit/8ebac70e633bac59fc22bb5195e513d5832fb3bd\n",
        "        x = torch.cat([x2, x1], dim=1)\n",
        "        return self.conv(x)\n",
        "\n",
        "\n",
        "class UpLastConv(nn.Module):\n",
        "    \"\"\"Upscaling then double conv without concatenating with skip connection\"\"\"\n",
        "    def __init__(self, in_channels, out_channels, mid_channels, bilinear=True):\n",
        "        super().__init__()\n",
        "\n",
        "        # if bilinear, use the normal convolutions to reduce the number of channels\n",
        "        if bilinear:\n",
        "            self.up = nn.Upsample(scale_factor=2, mode='bilinear', align_corners=True)\n",
        "            self.conv = DoubleConv(in_channels, out_channels, in_channels // 2)\n",
        "        else:\n",
        "            self.up = nn.ConvTranspose2d(in_channels, in_channels // 2, kernel_size=3, stride=2)\n",
        "            self.conv = DoubleConv(mid_channels, out_channels)\n",
        "\n",
        "    def forward(self, x, zsize=64):\n",
        "        x1 = self.up(x)\n",
        "        # input is CHW\n",
        "        diffY = zsize - x1.size()[2]\n",
        "        diffX = zsize - x1.size()[3]\n",
        "\n",
        "        x1 = F.pad(x1, [diffX // 2, diffX - diffX // 2,\n",
        "                        diffY // 2, diffY - diffY // 2])\n",
        "        return self.conv(x1)\n",
        "\n",
        "class InitialConv(nn.Module):\n",
        "    def __init__(self, in_channels, out_channels, sizex, size):\n",
        "        super(InitialConv, self).__init__()\n",
        "        self.diff = sizex-size+1\n",
        "        self.firstconv = nn.Sequential(\n",
        "            nn.Conv2d(in_channels, out_channels, kernel_size=self.diff), \n",
        "            nn.BatchNorm2d(out_channels),\n",
        "            nn.ReLU(inplace=True)\n",
        "        )\n",
        "    def forward(self, x):\n",
        "        x1 = self.firstconv(x)\n",
        "        return x1\n",
        "\n",
        "class OutConv(nn.Module):\n",
        "    def __init__(self, in_channels, out_channels):\n",
        "        super(OutConv, self).__init__()\n",
        "        self.conv = nn.Conv2d(in_channels, out_channels, kernel_size=1)\n",
        "\n",
        "    def forward(self, x):\n",
        "        return self.conv(x)\n",
        "\n",
        "class LinearUpsamplingZ(nn.Module):\n",
        "  # Linear upsampling of z to same number of channels as downsampled X\n",
        "  # so that can concatenate\n",
        "  def __init__(self, in_channels=16, out_channels=1024):\n",
        "    super(LinearUpsamplingZ, self).__init__()\n",
        "    self.linearUp = nn.Sequential(\n",
        "        nn.Linear(16, 128), \n",
        "        nn.Linear(128, 256),\n",
        "        nn.Linear(256, 512),\n",
        "        nn.Linear(512, 1024)\n",
        "    )\n",
        "  def forward(self, z):\n",
        "    # transform to remove last dimensions\n",
        "    z1 = z.view(z.shape[0], -1) # (batch, 16)\n",
        "    z5 = self.linearUp(z1.float()) # (batch, 1024)\n",
        "    # transform back to original shape\n",
        "    z6 = z5.view(z5.shape[0], 1,1, -1).transpose(3,1) # (batch, 1024, 1, 1)\n",
        "    return z6\n"
      ],
      "metadata": {
        "id": "9Ewi-8lPetuO"
      },
      "id": "9Ewi-8lPetuO",
      "execution_count": 82,
      "outputs": []
    },
    {
      "cell_type": "code",
      "source": [
        "class UNetMarijn(nn.Module):\n",
        "  def __init__(self, n_channels_x=7, n_channels_y=16, size=32, filter=64, bilinear=False):\n",
        "    super(UNetMarijn, self).__init__()\n",
        "    self.n_channels_x = n_channels_x\n",
        "    self.n_channels_y = n_channels_y\n",
        "    self.size = size\n",
        "    self.filter = filter\n",
        "    self.bilinear = bilinear\n",
        "\n",
        "    # input  (batch, 7, 32, 32)\n",
        "    # first conv:\n",
        "    self.initialconv = InitialConv(n_channels_x, 32, 32, self.size) \n",
        "    \n",
        "    # downsampling:\n",
        "    self.d1 = Down(32, 64)\n",
        "    self.d2 = Down(64, 128)\n",
        "    self.d3 = Down(128, 256)\n",
        "    self.d4 = Down(256, 512)\n",
        "    self.d5 = Down(512, 1024)\n",
        "\n",
        "    # last conv of downsampling\n",
        "    self.last_conv_down = DoubleConv(1024, 1024)\n",
        "\n",
        "    # linewar downsampling of z:\n",
        "    self.linz = LinearUpsamplingZ(n_channels_y, 1024)\n",
        "\n",
        "    # upsampling:\n",
        "    self.up1 = Up(2048, 1024, bilinear)\n",
        "    self.up2 = Up(1024, 512, bilinear)\n",
        "    self.up3 = Up(512, 256, bilinear)\n",
        "    self.up4 = Up(256, 128, bilinear)\n",
        "    self.up5 = Up(128, 64, bilinear)\n",
        "    self.up6 = UpLastConv(64, 64, 32, bilinear)\n",
        "\n",
        "    # self last layer:\n",
        "    self.up7 = OutConv(64, 1)\n",
        "\n",
        "  def forward(self, x,z):\n",
        "    x1 = self.initialconv(x) # (batch, 32, 32, 32)\n",
        "\n",
        "    # Downsampling \n",
        "    x2, x2_bm = self.d1(x1)  # (batch, 64, 16, 16)\n",
        "    x3, x3_bm = self.d2(x2)  # (batch, 128, 8, 8)\n",
        "    x4, x4_bm = self.d3(x3)  # (batch, 256, 4, 4)\n",
        "    x5, x5_bm = self.d4(x4)  # (batch, 512, 2, 2)\n",
        "    x6, x6_bm = self.d5(x5)  # (batch, 1024, 1, 1)\n",
        "    x7 = self.last_conv_down(x6) # (batch, 1024, 1, 1)\n",
        "\n",
        "    # Upsample second input to have same shape as last_conv [1024, 1, 1]\n",
        "    z1 = self.linz(z)\n",
        "\n",
        "    # concatenate both:\n",
        "    x8 = torch.cat([x7, z1], dim = 1) # (batch, 2048, 1, 1)\n",
        "\n",
        "    # Upsampling\n",
        "    x = self.up1(x8, x6_bm) # (batch, 1024, 2, 2)\n",
        "    x = self.up2(x, x5_bm)  # (batch, 512, 4, 4)\n",
        "    x = self.up3(x, x4_bm)  # (batch, 256, 8, 8)\n",
        "    x = self.up4(x, x3_bm)  # (batch, 128, 16, 16)\n",
        "    x = self.up5(x, x2_bm)  # (batch, 64, 32, 32)\n",
        "\n",
        "    # Last layer: change from 32x32 to 64x64\n",
        "    x = self.up6(x) # (batch, 64, 64, 64)\n",
        "\n",
        "    # Change num channels from 64 to 1\n",
        "    # (None, 64, 64, 1)\n",
        "    x = self.up7(x)\n",
        "    return x"
      ],
      "metadata": {
        "id": "hzh9fJf5fIi8"
      },
      "id": "hzh9fJf5fIi8",
      "execution_count": 83,
      "outputs": []
    },
    {
      "cell_type": "code",
      "source": [
        "n_channels = 7\n",
        "unet = UNetMarijn(n_channels_x=7, n_channels_y=16, size=32, filter=64, bilinear=False)\n",
        "\n",
        "train_X, train_Z, train_Y = next(iter(train_loader))\n",
        "x = unet(train_X, train_Z)\n",
        "x.shape"
      ],
      "metadata": {
        "colab": {
          "base_uri": "https://localhost:8080/"
        },
        "id": "b3wLWRcDfa4I",
        "outputId": "2abe8c9d-efa9-4760-951e-502c886fe722"
      },
      "id": "b3wLWRcDfa4I",
      "execution_count": 84,
      "outputs": [
        {
          "output_type": "execute_result",
          "data": {
            "text/plain": [
              "torch.Size([32, 1, 64, 64])"
            ]
          },
          "metadata": {},
          "execution_count": 84
        }
      ]
    },
    {
      "cell_type": "code",
      "source": [
        "class UNet(nn.Module):\n",
        "    def __init__(self, n_channels, n_classes, bilinear=False):\n",
        "        super(UNet, self).__init__()\n",
        "        self.n_channels = n_channels\n",
        "        self.n_classes = n_classes\n",
        "        self.bilinear = bilinear\n",
        "\n",
        "        self.inc = DoubleConv(n_channels, 64)\n",
        "        self.down1 = Down(64, 128)\n",
        "        self.down2 = Down(128, 256)\n",
        "        self.down3 = Down(256, 512)\n",
        "        factor = 2 if bilinear else 1\n",
        "        self.down4 = Down(512, 1024 // factor)\n",
        "        self.up1 = Up(1024, 512 // factor, bilinear)\n",
        "        self.up2 = Up(512, 256 // factor, bilinear)\n",
        "        self.up3 = Up(256, 128 // factor, bilinear)\n",
        "        self.up4 = Up(128, 64, bilinear)\n",
        "        self.outc = OutConv(64, n_classes)\n",
        "\n",
        "    def forward(self, x):\n",
        "        x1 = self.inc(x)\n",
        "        x2 = self.down1(x1)\n",
        "        x3 = self.down2(x2)\n",
        "        x4 = self.down3(x3)\n",
        "        x5 = self.down4(x4)\n",
        "        x = self.up1(x5, x4)\n",
        "        x = self.up2(x, x3)\n",
        "        x = self.up3(x, x2)\n",
        "        x = self.up4(x, x1)\n",
        "        logits = self.outc(x)\n",
        "        return logits"
      ],
      "metadata": {
        "id": "LzsrhQQMe30s"
      },
      "id": "LzsrhQQMe30s",
      "execution_count": null,
      "outputs": []
    }
  ],
  "metadata": {
    "kernelspec": {
      "display_name": "Python 3 (ipykernel)",
      "language": "python",
      "name": "python3"
    },
    "language_info": {
      "codemirror_mode": {
        "name": "ipython",
        "version": 3
      },
      "file_extension": ".py",
      "mimetype": "text/x-python",
      "name": "python",
      "nbconvert_exporter": "python",
      "pygments_lexer": "ipython3",
      "version": "3.9.1"
    },
    "toc": {
      "base_numbering": 1,
      "nav_menu": {},
      "number_sections": true,
      "sideBar": true,
      "skip_h1_title": false,
      "title_cell": "Table of Contents",
      "title_sidebar": "Contents",
      "toc_cell": false,
      "toc_position": {
        "height": "calc(100% - 180px)",
        "left": "10px",
        "top": "150px",
        "width": "275.188px"
      },
      "toc_section_display": true,
      "toc_window_display": true
    },
    "colab": {
      "name": "Copy of pytorch_ML.ipynb",
      "provenance": [],
      "collapsed_sections": [],
      "toc_visible": true,
      "machine_shape": "hm",
      "include_colab_link": true
    },
    "accelerator": "GPU"
  },
  "nbformat": 4,
  "nbformat_minor": 5
}