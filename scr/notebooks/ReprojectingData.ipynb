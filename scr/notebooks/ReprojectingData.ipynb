{
 "cells": [
  {
   "cell_type": "markdown",
   "id": "d3164dd4-9093-4c8b-9ceb-14b9bea6a949",
   "metadata": {},
   "source": [
    "# Reprojecting to other coordinate system:"
   ]
  },
  {
   "cell_type": "markdown",
   "id": "924b0c51-ae19-4557-badb-14e4741bf921",
   "metadata": {},
   "source": [
    "## Setting up:"
   ]
  },
  {
   "cell_type": "code",
   "execution_count": null,
   "id": "46637cc7-99f9-4d15-a93e-d9a61063e297",
   "metadata": {},
   "outputs": [],
   "source": [
    "# run script that installs missing libraries\n",
    "! chmod 755 scripts.sh\n",
    "! ./scripts.sh"
   ]
  },
  {
   "cell_type": "markdown",
   "id": "d0dbf9a8-7a55-49d4-ad94-e36fefbaaf2d",
   "metadata": {},
   "source": [
    "### Imports"
   ]
  },
  {
   "cell_type": "code",
   "execution_count": null,
   "id": "69700c02-9a3d-418f-ab0d-5cd15f4815ab",
   "metadata": {},
   "outputs": [],
   "source": [
    "import os\n",
    "from matplotlib import pyplot as plt\n",
    "import matplotlib.path as mpath\n",
    "import numpy as np\n",
    "import pandas as pd\n",
    "import xarray as xr\n",
    "import cartopy\n",
    "import cf_units\n",
    "from datetime import datetime\n",
    "from datetime import timedelta\n",
    "import rasterio\n",
    "import cartopy.crs as ccrs\n",
    "\n",
    "import pyproj\n",
    "from pyproj import Transformer\n",
    "from google.cloud import storage\n",
    "\n",
    "%matplotlib inline\n",
    "plt.rcParams['figure.figsize'] = 12, 6\n",
    "%config InlineBackend.figure_format = 'retina' "
   ]
  },
  {
   "cell_type": "code",
   "execution_count": null,
   "id": "7403b269-5a53-47a3-b166-8bdd31459c2f",
   "metadata": {},
   "outputs": [],
   "source": [
    "PROJECT = 'ee-iceshelf-gee4geo'\n",
    "BUCKET = \"ee-downscalingclimatemodels\""
   ]
  },
  {
   "cell_type": "code",
   "execution_count": null,
   "id": "d0a14503-772b-478f-bb17-53e275855e33",
   "metadata": {},
   "outputs": [],
   "source": [
    "# Google cloud\n",
    "storage_client = storage.Client()\n",
    "bucket = storage_client.bucket(BUCKET)"
   ]
  },
  {
   "cell_type": "code",
   "execution_count": null,
   "id": "b36305cc-a0da-42d8-a5c3-c60fe98ac230",
   "metadata": {},
   "outputs": [],
   "source": [
    "def print_raster(raster):\n",
    "    print(\n",
    "        f\"shape: {raster.rio.shape}\\n\"\n",
    "        f\"resolution: {raster.rio.resolution()}\\n\"\n",
    "        f\"bounds: {raster.rio.bounds()}\\n\"\n",
    "        f\"CRS: {raster.rio.crs}\\n\"\n",
    "    )"
   ]
  },
  {
   "cell_type": "markdown",
   "id": "069a7a4c-e4eb-4327-8869-c8e4a681d5de",
   "metadata": {},
   "source": [
    "## Read data"
   ]
  },
  {
   "cell_type": "markdown",
   "id": "a5d0a827-7ee5-4d5f-8b3f-707fe8eca256",
   "metadata": {},
   "source": [
    "### GCM:"
   ]
  },
  {
   "cell_type": "code",
   "execution_count": null,
   "id": "522055cc-ed50-4db9-9228-3479589adcde",
   "metadata": {},
   "outputs": [],
   "source": [
    "# open from google cloud\n",
    "globalName = 'ee-downscalingclimatemodels/year_ACCESS1-3.zarr'\n",
    "dg = xr.open_zarr('gs://'+globalName, decode_times=False)\n",
    "\n",
    "# rename variables\n",
    "dg = dg.rename({'TIME2':'time', 'PLEV12_15':'plev','LAT':'lat', 'LON':'lon'})\n",
    "\n",
    "# get starting date and units of dataset\n",
    "units, reference_date = dg.time.attrs['units'].split('since')\n",
    "print('Units: {} and reference date: {} of global dataset'.format(units, reference_date))\n",
    "\n",
    "# set reference date, add first value in time array\n",
    "START = datetime(1950,1,15,0,0,0)+timedelta(days=dg.time[0].values*30)\n",
    "\n",
    "print('First date in time array: {}'.format(START))\n",
    "\n",
    "# Correct the time by having a yearly range from the starting date till 2100\n",
    "# Need to assign new coordinates so that the coordinates of values also change\n",
    "dg = dg.assign_coords(time=pd.date_range(start=START, periods=dg.sizes['time'], freq='12M'))\n",
    "dg.load()"
   ]
  },
  {
   "cell_type": "markdown",
   "id": "db4ab0d6-5607-4c9e-ada3-78f3c811c81f",
   "metadata": {},
   "source": [
    "#### Define antarctica region"
   ]
  },
  {
   "cell_type": "code",
   "execution_count": null,
   "id": "4d91b27c-be79-4d51-92f6-5e0dcf32f525",
   "metadata": {},
   "outputs": [],
   "source": [
    "# define antarctica as 90° S to 60° S in latitude and full longitude\n",
    "nlimit=-60\n",
    "lat = dg.lat.sel(lat=slice(-90,nlimit))\n",
    "lon = dg.lon\n",
    "\n",
    "antarctica = dg.sel(lat=slice(-90,nlimit))\n",
    "antarctica.TA.isel(time=1, plev = 3).plot(x=\"lon\")"
   ]
  },
  {
   "cell_type": "code",
   "execution_count": null,
   "id": "ce7a548f-035f-4524-9c59-606100d32743",
   "metadata": {},
   "outputs": [],
   "source": [
    "# Define GCM\n",
    "GCM = antarctica.sortby([\"lat\", \"lon\",\"time\"])\n",
    "\n",
    "print('[GCM original] lon: {}° -> {}° and lat: {}° -> {}°'.format(GCM.lon.min().data, \n",
    "                                                                     GCM.lon.max().data, \n",
    "                                                                     GCM.lat.min().data, \n",
    "                                                                     GCM.lat.max().data))\n",
    "GCM"
   ]
  },
  {
   "cell_type": "markdown",
   "id": "81999225-8ab4-474c-9372-ecf388fdf8d6",
   "metadata": {},
   "source": [
    "### RCM:"
   ]
  },
  {
   "cell_type": "code",
   "execution_count": null,
   "id": "1e20e87b-d51e-4fb8-99d2-e9ca5d98424a",
   "metadata": {},
   "outputs": [],
   "source": [
    "localName = 'ee-downscalingclimatemodels/year-MAR_ACCESS1.3-1980-2100_zen.zarr'\n",
    "dsr = xr.open_zarr('gs://'+localName)\n",
    "RCM = dsr.rename({'X':'x', 'Y':'y','TIME':'time'})\n",
    "RCM_xy = RCM.rio.write_crs(\"epsg:3031\")\n",
    "\n",
    "# Convert RCM from km to m for plots:\n",
    "RCM_xy['x'] = RCM_xy.x*1000\n",
    "RCM_xy['y'] = RCM_xy.y*1000\n",
    "RCM_xy.x.attrs['units'] = 'm'\n",
    "RCM_xy.y.attrs['units'] = 'm'\n",
    "\n",
    "print('Max and min values of x: {}m -> {}m and y: {}m -> {}m'.format(RCM_xy.x.max().data, \n",
    "                                                                     RCM_xy.x.min().data, \n",
    "                                                                     RCM_xy.y.max().data, \n",
    "                                                                     RCM_xy.y.min().data))\n",
    "RCM_xy.load()"
   ]
  },
  {
   "cell_type": "markdown",
   "id": "76af5c5c-b665-4069-ba55-bccfd7b9c1a4",
   "metadata": {},
   "source": [
    "## Interpolate RCM x/y -> lat/lon:\n",
    "\n",
    "Transform RCM to lat/lon on GCM like grid."
   ]
  },
  {
   "cell_type": "code",
   "execution_count": null,
   "id": "40039940-55f9-4271-a72d-3648c076dd91",
   "metadata": {},
   "outputs": [],
   "source": [
    "# Define the source and target projections\n",
    "source_crs = pyproj.CRS(3031) # Coordinate system of the file\n",
    "target_crs = pyproj.CRS(init=\"epsg:4326\") # Global lat-lon coordinate system\n",
    "\n",
    "# GCM -epsg:4326\n",
    "GCM_latlon = GCM.rio.write_crs(target_crs)\n",
    "GCM_latlon.attrs['crs']  = target_crs\n",
    "\n",
    "print('Shape of original data, time: {}, lat: {}, lon: {}'.format(GCM_latlon.TAS.shape[0],\n",
    "                                                                  GCM_latlon.TAS.shape[1],\n",
    "                                                                  GCM_latlon.TAS.shape[2]))"
   ]
  },
  {
   "cell_type": "code",
   "execution_count": null,
   "id": "72046469-1492-4176-979e-09921cb47670",
   "metadata": {},
   "outputs": [],
   "source": [
    "# Create a grid of lat/lon values for the lat/lon grid of GCM over antarctic\n",
    "lonmesh, latmesh = np.meshgrid(GCM.lon, GCM.lat)\n",
    "\n",
    "# Create a pyproj.Transformer to transform each point \n",
    "# in lonmesh and lastmesh into a location in the polar coordinates \n",
    "latlon_to_polar = pyproj.Transformer.from_crs(target_crs, source_crs)\n",
    "\n",
    "# polar coordinates from lat-lon\n",
    "x_om2, y_om2 = latlon_to_polar.transform(lonmesh, latmesh)\n",
    "\n",
    "# Use the xarray interp method to find the nearest locations \n",
    "# for each transformed point\n",
    "# To do this need to create xarray.DataArray for the coordinates with matching dimensions.\n",
    "x_om2 = xr.DataArray(x_om2, dims=('lat','lon'))\n",
    "y_om2 = xr.DataArray(y_om2, dims=('lat','lon'))"
   ]
  },
  {
   "cell_type": "code",
   "execution_count": null,
   "id": "8447083d-c903-444f-b32a-39a60ce9aa6d",
   "metadata": {},
   "outputs": [],
   "source": [
    "# Interpolate\n",
    "RCM_xy_int = RCM_xy.interp({'x':x_om2, 'y':y_om2}, method='nearest').load()\n",
    "\n",
    "# Assign new coordinates\n",
    "RCM_latlon = RCM_xy_int.assign_coords({'lon': (('lon'), GCM_latlon.lon.data), \n",
    "                                   'lat': (('lat'), GCM_latlon.lat.data)}).drop_vars(['x','y']).reset_coords()\n",
    "RCM_latlon.load()"
   ]
  },
  {
   "cell_type": "code",
   "execution_count": null,
   "id": "5ec7b0ba-fef1-4650-8582-ca050709813f",
   "metadata": {},
   "outputs": [],
   "source": [
    "fig = plt.figure(figsize=(16, 14))\n",
    "projection = ccrs.SouthPolarStereo()\n",
    "ax = plt.axes(projection=projection)\n",
    "\n",
    "# map\n",
    "ax.set_extent((-3333000, 3333000, -3333000, 3333000),\n",
    "              crs=ccrs.SouthPolarStereo())\n",
    "ax.coastlines(resolution='50m')\n",
    "\n",
    "ax.gridlines()\n",
    "RCM_latlon.SF.isel(time=1).plot(ax=ax, x='lon', y='lat',\n",
    "                              transform=ccrs.PlateCarree())  # data transform"
   ]
  },
  {
   "cell_type": "markdown",
   "id": "1207da70-21c4-4325-a824-af8afb2576ae",
   "metadata": {},
   "source": [
    "### Save new projections to GC:"
   ]
  },
  {
   "cell_type": "code",
   "execution_count": null,
   "id": "1c8a83e0-db71-41e1-a07c-2e8a3c2c3c2d",
   "metadata": {},
   "outputs": [],
   "source": [
    "# Access file\n",
    "localName = 'ee-downscalingclimatemodels/year-MAR_ACCESS1.3-1980-2100_zen-latlon.zarr'\n",
    "RCM_latlon.attrs['crs'] = 4326\n",
    "RCM_latlon.to_zarr('gs://'+localName, mode = 'w')"
   ]
  },
  {
   "cell_type": "markdown",
   "id": "0fd5bb3e-d2d9-4b0f-b671-b37c196dbe2b",
   "metadata": {},
   "source": [
    "Test to see if saving data correctly worked"
   ]
  },
  {
   "cell_type": "code",
   "execution_count": null,
   "id": "a9c7bb26-ff97-40a4-ad0c-12cf855ae7b7",
   "metadata": {},
   "outputs": [],
   "source": [
    "# open from google cloud\n",
    "dg = xr.open_zarr('gs://'+localName)\n",
    "dg.load()\n",
    "\n",
    "fig = plt.figure(figsize=(16, 14))\n",
    "projection = ccrs.SouthPolarStereo()\n",
    "ax = plt.axes(projection=projection)\n",
    "\n",
    "# map\n",
    "ax.set_extent((-3333000, 3333000, -3333000, 3333000),\n",
    "              crs=ccrs.SouthPolarStereo())\n",
    "ax.coastlines(resolution='50m')\n",
    "\n",
    "ax.gridlines()\n",
    "dg.SF.isel(time=1).plot(ax=ax, x='lon', y='lat',\n",
    "                              transform=ccrs.PlateCarree())  # data transform"
   ]
  },
  {
   "cell_type": "markdown",
   "id": "5cd1b97b-1770-49ee-b821-4b733abcf7ce",
   "metadata": {},
   "source": [
    "## Interpolate GCM lat/lon -> x/y:\n",
    "Transform GCM to x/y on RCM like grid. **Note: this upsamples the GCM to have the same resolution as RCM! Not a real coordiante transformation.**\n",
    "\n",
    "Global data is in LON/LAT and need to go to Polar Stereographic (variant B) coordinates. Change GCM from lat/lon coordinates -> x/y polar stereographic coordinates.\n",
    "\n",
    "Precise RCM coordinate information\n",
    "char crs(char1) ;\n",
    "              crs:long_name = \"Polar Stereographic (variant B)\" ;\n",
    "              crs:grid_mapping_name = \"polar_stereographic\" ;\n",
    "              crs:standard_name = \"polar_stereographic\" ;\n",
    "              crs:authority = \"EPSG:3031\" ;\n",
    "              crs:standard_parallel = -71.f ;\n",
    "              crs:longitude_of_prime_meridian = 0.f ;\n",
    "              crs:straight_vertical_longitude_from_pole = 0.f ;\n",
    "              crs:semi_major_axis = 6378137.f ;\n",
    "              crs:inverse_flattening = 298.2572f ;\n",
    "              crs:latitude_of_projection_origin = -90.f ;\n",
    "              crs:false_easting = 0.f ;\n",
    "              crs:false_northing = 0.f"
   ]
  },
  {
   "cell_type": "markdown",
   "id": "d2486924-7844-4fff-ae70-88c8601b7c72",
   "metadata": {},
   "source": [
    "### Right plot:"
   ]
  },
  {
   "cell_type": "code",
   "execution_count": null,
   "id": "5ca26aab-dcf5-4c03-9524-b1fa2570c572",
   "metadata": {},
   "outputs": [],
   "source": [
    "# ----------- Set information ----------\n",
    "# Define the source and target projections\n",
    "target_crs = pyproj.CRS(3031) # Global lat-lon coordinate system\n",
    "source_crs = pyproj.CRS(4326) # Coordinate system of the file\n",
    "\n",
    "# GCM -epsg:4326\n",
    "GCM_latlon = GCM.rio.write_crs(source_crs)\n",
    "GCM_latlon.attrs['crs']  = source_crs\n",
    "\n",
    "# RCM - epsg:3031\n",
    "#RCM_xy.attrs['crs']  = target_crs\n",
    "#SF_xy = SF_xy.rio.write_crs(target_crs)\n",
    "print('Shape of GCM data, time: {}, lat: {}, lon: {}\\n----------------\\n'.format(GCM_latlon.TAS.shape[0],\n",
    "                                                             GCM_latlon.TAS.shape[1],\n",
    "                                                             GCM_latlon.TAS.shape[2]))\n",
    "print('Shape of RCM data, time: {}, x: {}, y: {}\\n----------------\\n'.format(RCM_xy.SF.shape[0],\n",
    "                                                         RCM_xy.SF.shape[1],\n",
    "                                                         RCM_xy.SF.shape[2]))\n",
    "\n",
    "# ----------- Create new coordinates ----------\n",
    "# Create a grid of x/y values from RCM (onto which we want to project)\n",
    "xmesh, ymesh = np.meshgrid(RCM_xy.x, RCM_xy.y)\n",
    "print('Mesh shapes: {0}, {1}'.format(xmesh.shape, \n",
    "                                     ymesh.shape))\n",
    "\n",
    "# Create a pyproj.Transformer to transform each point \n",
    "# in xmesh and ymesh into a location in the polar coordinates \n",
    "polar_to_latlon = pyproj.Transformer.from_crs(target_crs, \n",
    "                                              source_crs, \n",
    "                                              always_xy = True)\n",
    "\n",
    "# polar coordinates from lat-lon\n",
    "lon_om2, lat_om2 = polar_to_latlon.transform(xmesh, ymesh)\n",
    "\n",
    "# Create xarray.DataArray for the coordinates with matching dimensions.\n",
    "lon_om2 = xr.DataArray(lon_om2, dims=('y','x'))\n",
    "lat_om2 = xr.DataArray(lat_om2, dims=('y','x'))\n",
    "\n",
    "print('[Lat-lon mesh] lon: {0:.2f}° -> {1:.2f}° and lat: {2:.2f}° -> {3:.2f}°\\n----------------\\n'.format(lon_om2.min().data, \n",
    "                                                                     lon_om2.max().data, \n",
    "                                                                     lat_om2.min().data, \n",
    "                                                                     lat_om2.max().data))\n",
    "print('[After transf] lon: {0:.2f}° -> {1:.2f}° and lat: {2:.2f}° -> {3:.2f}°\\n----------------\\n'.format(lon_om2.min().data, \n",
    "                                                                     lon_om2.max().data, \n",
    "                                                                     lat_om2.min().data, \n",
    "                                                                     lat_om2.max().data))\n",
    "# ----------- Interpolate ----------\n",
    "# Use the xarray interp method to find the nearest locations \n",
    "# for each transformed point \n",
    "print('[TAS before interpolation] lon: {0:.2f}° -> {1:.2f}° and lat: {2:.2f}° -> {3:.2f}°\\n----------------\\n'.format(GCM_latlon.lon.min().data, \n",
    "                                                                     GCM_latlon.lon.max().data, \n",
    "                                                                     GCM_latlon.lat.min().data, \n",
    "                                                                     GCM_latlon.lat.max().data))\n",
    "\n",
    "GCM_latlon_int = GCM_latlon.interp({'lon':lon_om2, 'lat':lat_om2}, method='nearest').load()\n",
    "print('[TAS after interpolation] lon: {0:.2f}° -> {1:.2f}° and lat: {2:.2f}° -> {3:.2f}°\\n----------------\\n'.format(GCM_latlon_int.lon.min().data, \n",
    "                                                                     GCM_latlon_int.lon.max().data, \n",
    "                                                                     GCM_latlon_int.lat.min().data, \n",
    "                                                                     GCM_latlon_int.lat.max().data))\n",
    "# Replace coordinates by new coordinates\n",
    "GCM_xy_right = GCM_latlon_int.assign_coords({'x': (('x'), RCM_xy.x.data), \n",
    "                                   'y': (('y'), RCM_xy.y.data)}).drop_vars(['lon','lat']).reset_coords()\n",
    "GCM_xy_right.load()"
   ]
  },
  {
   "cell_type": "code",
   "execution_count": null,
   "id": "29435863-76a8-4a6f-a157-8538b41422ba",
   "metadata": {},
   "outputs": [],
   "source": [
    "# map\n",
    "map_proj = ccrs.SouthPolarStereo(central_longitude=0)\n",
    "ax = plt.axes(projection=map_proj)\n",
    "\n",
    "p = GCM_xy_right.TAS.isel(time = 1).plot(x='x', y='y',\n",
    "                                 subplot_kws={\"projection\": map_proj}, \n",
    "                                 transform=ccrs.SouthPolarStereo()); # data\n",
    "\n",
    "ax.coastlines()\n",
    "ax.gridlines()"
   ]
  },
  {
   "cell_type": "markdown",
   "id": "1cfe7ced-de87-4a9e-872f-98190e10d03a",
   "metadata": {},
   "source": [
    "### Left plot:"
   ]
  },
  {
   "cell_type": "code",
   "execution_count": null,
   "id": "abde3703-f96e-41a6-925e-abe71545a7ce",
   "metadata": {},
   "outputs": [],
   "source": [
    "# ----------- Transform GCM ----------\n",
    "# Change all longitude coordinates to map from -180° -> 180°\n",
    "GCM_transf = GCM.copy()\n",
    "GCM_transf['lon'] = GCM_transf.lon-180\n",
    "print('[After transf] lon: {}° -> {}° and lat: {}° -> {}°\\n----------------\\n'.format(GCM_transf.lon.min().data, \n",
    "                                                                     GCM_transf.lon.max().data, \n",
    "                                                                     GCM_transf.lat.min().data, \n",
    "                                                                     GCM_transf.lat.max().data))\n",
    "# ----------- Set information ----------\n",
    "# Define the source and target projections\n",
    "target_crs = pyproj.CRS(3031) # Global lat-lon coordinate system\n",
    "source_crs = pyproj.CRS(4326) # Coordinate system of the file\n",
    "\n",
    "# GCM -epsg:4326\n",
    "GCM_latlon = GCM_transf.rio.write_crs(source_crs)\n",
    "GCM_latlon.attrs['crs']  = source_crs\n",
    "\n",
    "# RCM - epsg:3031\n",
    "#SF_xy.attrs['crs']  = target_crs\n",
    "#SF_xy = SF_xy.rio.write_crs(target_crs)\n",
    "print('Shape of GCM data, time: {}, lat: {}, lon: {}\\n----------------\\n'.format(GCM_latlon.TAS.shape[0],\n",
    "                                                             GCM_latlon.TAS.shape[1],\n",
    "                                                             GCM_latlon.TAS.shape[2]))\n",
    "print('Shape of RCM data, time: {}, x: {}, y: {}\\n----------------\\n'.format(RCM_xy.SF.shape[0],\n",
    "                                                         RCM_xy.SF.shape[1],\n",
    "                                                         RCM_xy.SF.shape[2]))\n",
    "\n",
    "# ----------- Create new coordinates ----------\n",
    "# Create a grid of x/y values from RCM (onto which we want to project)\n",
    "xmesh, ymesh = np.meshgrid(RCM_xy.x, RCM_xy.y)\n",
    "print('Mesh shapes: {0}, {1}'.format(xmesh.shape, \n",
    "                                     ymesh.shape))\n",
    "\n",
    "# Create a pyproj.Transformer to transform each point \n",
    "# in xmesh and ymesh into a location in the polar coordinates \n",
    "polar_to_latlon = pyproj.Transformer.from_crs(target_crs, \n",
    "                                              source_crs, \n",
    "                                              always_xy = True)\n",
    "\n",
    "# polar coordinates from lat-lon\n",
    "lon_om2, lat_om2 = polar_to_latlon.transform(xmesh, ymesh)\n",
    "\n",
    "# Create xarray.DataArray for the coordinates with matching dimensions.\n",
    "lon_om2 = xr.DataArray(lon_om2, dims=('y','x'))\n",
    "lat_om2 = xr.DataArray(lat_om2, dims=('y','x'))\n",
    "\n",
    "print('[Lat-lon mesh] lon: {0:.2f}° -> {1:.2f}° and lat: {2:.2f}° -> {3:.2f}°\\n----------------\\n'.format(lon_om2.min().data, \n",
    "                                                                     lon_om2.max().data, \n",
    "                                                                     lat_om2.min().data, \n",
    "                                                                     lat_om2.max().data))\n",
    "# Transform lat lon mesh to get left part, add 180° to longitude\n",
    "lon_om2 = lon_om2+180\n",
    "\n",
    "print('[After transf] lon: {0:.2f}° -> {1:.2f}° and lat: {2:.2f}° -> {3:.2f}°\\n----------------\\n'.format(lon_om2.min().data, \n",
    "                                                                     lon_om2.max().data, \n",
    "                                                                     lat_om2.min().data, \n",
    "                                                                     lat_om2.max().data))\n",
    "# ----------- Interpolate ----------\n",
    "# Use the xarray interp method to find the nearest locations \n",
    "# for each transformed point \n",
    "print('[TAS before interpolation] lon: {0:.2f}° -> {1:.2f}° and lat: {2:.2f}° -> {3:.2f}°\\n----------------\\n'.format(GCM_latlon.lon.min().data, \n",
    "                                                                     GCM_latlon.lon.max().data, \n",
    "                                                                     GCM_latlon.lat.min().data, \n",
    "                                                                     GCM_latlon.lat.max().data))\n",
    "\n",
    "GCM_latlon_int = GCM_latlon.interp({'lon':lon_om2, 'lat':lat_om2}, method='nearest').load()\n",
    "print('[TAS after interpolation] lon: {0:.2f}° -> {1:.2f}° and lat: {2:.2f}° -> {3:.2f}°\\n----------------\\n'.format(GCM_latlon_int.lon.min().data, \n",
    "                                                                     GCM_latlon_int.lon.max().data, \n",
    "                                                                     GCM_latlon_int.lat.min().data, \n",
    "                                                                     GCM_latlon_int.lat.max().data))\n",
    "# Replace coordinates by new coordinates\n",
    "GCM_xy_left = GCM_latlon_int.assign_coords({'x': (('x'), RCM_xy.x.data), \n",
    "                                   'y': (('y'), RCM_xy.y.data)}).drop_vars(['lon','lat']).reset_coords()\n",
    "GCM_xy_left.load()"
   ]
  },
  {
   "cell_type": "code",
   "execution_count": null,
   "id": "8ffc5c48-70f4-4b22-af4c-0e5c0f90e123",
   "metadata": {},
   "outputs": [],
   "source": [
    "# map\n",
    "map_proj = ccrs.SouthPolarStereo(central_longitude=0)\n",
    "ax = plt.axes(projection=map_proj)\n",
    "\n",
    "p = GCM_xy_left.TAS.isel(time = 1).plot(x='x', y='y',\n",
    "                                 subplot_kws={\"projection\": map_proj}, \n",
    "                                 transform=ccrs.SouthPolarStereo()); # data\n",
    "\n",
    "ax.coastlines()\n",
    "ax.gridlines()"
   ]
  },
  {
   "cell_type": "markdown",
   "id": "41eaa335-7313-4a2c-88a7-94bde57ed1eb",
   "metadata": {},
   "source": [
    "### Assemble two parts:"
   ]
  },
  {
   "cell_type": "code",
   "execution_count": null,
   "id": "90b29180-d1a8-46d1-a297-4c23caf5d875",
   "metadata": {},
   "outputs": [],
   "source": [
    "GCM_xy = GCM_xy_right.merge(GCM_xy_left)\n",
    "# map\n",
    "map_proj = ccrs.SouthPolarStereo(central_longitude=0)\n",
    "ax = plt.axes(projection=map_proj)\n",
    "\n",
    "p = GCM_xy.TAS.isel(time = 1).plot(x='x', y='y',\n",
    "                                 subplot_kws={\"projection\": map_proj}, \n",
    "                                 transform=ccrs.SouthPolarStereo()); # data\n",
    "\n",
    "ax.coastlines()\n",
    "ax.gridlines()\n",
    "GCM_xy.load()"
   ]
  },
  {
   "cell_type": "markdown",
   "id": "4f54ad81-0ee0-4637-b26f-7e78ff11e657",
   "metadata": {},
   "source": [
    "## Transform GCM lat/lon -> x/y:\n",
    "\n",
    "Want to downsample RCM grid so that it goes from resolution of 35km to 150km"
   ]
  },
  {
   "cell_type": "markdown",
   "id": "e117cf08-02b0-4928-a692-9629d6ba97fd",
   "metadata": {},
   "source": [
    "### Create downsampled RCM grid:\n",
    "To change GCM resolution from degrees to km use formula:\n",
    "\n",
    "x = deg_lon * distance between lon lines at point\n",
    "\n",
    "y = deg_lat * distance between lat lines at point\n",
    "\n",
    "Take d(lon) at -60°lat is 55km and d(lat) at -60°lat is 110km ([Link](https://stevemorse.org/nearest/distance.php))\n",
    "\n",
    "Then x = 68km and y = 206km"
   ]
  },
  {
   "cell_type": "code",
   "execution_count": null,
   "id": "ab0560e6-a4e0-4967-86ee-4a0e672319b2",
   "metadata": {},
   "outputs": [],
   "source": [
    "# Load RCM grid\n",
    "localName = 'ee-downscalingclimatemodels/year-MAR_ACCESS1.3-1980-2100_zen.zarr'\n",
    "dsr = xr.open_zarr('gs://'+localName)\n",
    "SF = dsr.SF\n",
    "SF = SF.rename({'X':'x', 'Y':'y','TIME':'time'})\n",
    "SF.load()\n",
    "\n",
    "x_lower, x_upper = SF.x.min().data, SF.x.max().data\n",
    "y_lower, y_upper = SF.y.min().data, SF.y.max().data\n",
    "\n",
    "print('Max and min values of x: {0:.2f}km -> {1:.2f}km and y: {2:.2f}km -> {3:.2f}km \\n----------------\\n'.format(SF.x.min().data, \n",
    "                                                                     SF.x.max().data, \n",
    "                                                                     SF.y.min().data, \n",
    "                                                                     SF.y.max().data))\n",
    "print_raster(SF)"
   ]
  },
  {
   "cell_type": "code",
   "execution_count": null,
   "id": "5022d393-b36a-4a42-ab6c-4fb27b8fbe1b",
   "metadata": {},
   "outputs": [],
   "source": [
    "# Downsample to new resolution\n",
    "# original resolution 35km between each x-cell, want to go to 68km \n",
    "x_res_new = 68\n",
    "y_res_new = 206\n",
    "\n",
    "factor_x = x_res_new/35\n",
    "factor_y = y_res_new/35\n",
    "\n",
    "# Downsample:\n",
    "SF['x'] = SF.x*factor_x\n",
    "SF['y'] = SF.y*factor_y\n",
    "\n",
    "print('Max and min values of x: {0:.2f}km -> {1:.2f}km and y: {2:.2f}km -> {3:.2f}km \\n----------------\\n'.format(SF.x.min().data, \n",
    "                                                                     SF.x.max().data, \n",
    "                                                                     SF.y.min().data, \n",
    "                                                                     SF.y.max().data))\n",
    "print_raster(SF)"
   ]
  },
  {
   "cell_type": "code",
   "execution_count": null,
   "id": "3ce15ac6-1d81-46d3-a0b4-2960180a3493",
   "metadata": {},
   "outputs": [],
   "source": [
    "# Restrict new upsampled grid so that it lies in the original max and min bounds\n",
    "cut_X = SF.x[(SF.x<=x_upper)&(SF.x>=x_lower)]\n",
    "cut_Y = SF.y[(SF.y<=y_upper)&(SF.y>=y_lower)]\n",
    "\n",
    "print('Max and min values of cut downsampled grid x: {0:.2f}km -> {1:.2f}km and y: {2:.2f}km -> {3:.2f}km'.format(cut_X.min().data, \n",
    "                                                                     cut_X.max().data, \n",
    "                                                                     cut_Y.min().data, \n",
    "                                                                     cut_Y.max().data))\n",
    "\n",
    "# and change to meters\n",
    "gridx = cut_X*1000\n",
    "gridy = cut_Y*1000"
   ]
  },
  {
   "cell_type": "code",
   "execution_count": null,
   "id": "244c49d9-4f4b-42de-a213-c4a3f3b443ab",
   "metadata": {},
   "outputs": [],
   "source": [
    "gridx.shape, gridy.shape"
   ]
  },
  {
   "cell_type": "markdown",
   "id": "cf2a4980-0937-40d0-a4ef-c424a342ff5a",
   "metadata": {},
   "source": [
    "### Interpolate GCM on downsampled RCM grid:"
   ]
  },
  {
   "cell_type": "markdown",
   "id": "3cfb95e4-78c0-4392-8c27-d737dda30e2b",
   "metadata": {},
   "source": [
    "#### Right plot"
   ]
  },
  {
   "cell_type": "code",
   "execution_count": null,
   "id": "897d374d-6a1b-4fe7-9cc2-dc02eca505f4",
   "metadata": {},
   "outputs": [],
   "source": [
    "# ----------- Set information ----------\n",
    "# Define the source and target projections\n",
    "target_crs = pyproj.CRS(3031) # Global lat-lon coordinate system\n",
    "source_crs = pyproj.CRS(4326) # Coordinate system of the file\n",
    "\n",
    "# GCM -epsg:4326\n",
    "GCM_latlon = GCM.rio.write_crs(source_crs)\n",
    "GCM_latlon.attrs['crs']  = source_crs\n",
    "\n",
    "# RCM - epsg:3031\n",
    "print('Shape of GCM data, time: {}, lat: {}, lon: {}\\n----------------\\n'.format(GCM_latlon.TAS.shape[0],\n",
    "                                                             GCM_latlon.TAS.shape[1],\n",
    "                                                             GCM_latlon.TAS.shape[2]))\n",
    "print('Shape of RCM data, time: {}, x: {}, y: {}\\n----------------\\n'.format(RCM_xy.SF.shape[0],\n",
    "                                                         RCM_xy.SF.shape[1],\n",
    "                                                         RCM_xy.SF.shape[2]))\n",
    "\n",
    "# ----------- Create new coordinates ----------\n",
    "# Create a grid of x/y values from RCM (onto which we want to project)\n",
    "xmesh, ymesh = np.meshgrid(gridx, gridy)\n",
    "print('Mesh shapes: {0}, {1}'.format(xmesh.shape, \n",
    "                                     ymesh.shape))\n",
    "\n",
    "# Create a pyproj.Transformer to transform each point \n",
    "# in xmesh and ymesh into a location in the polar coordinates \n",
    "polar_to_latlon = pyproj.Transformer.from_crs(target_crs, \n",
    "                                              source_crs, \n",
    "                                              always_xy = True)\n",
    "\n",
    "# polar coordinates from lat-lon\n",
    "lon_om2, lat_om2 = polar_to_latlon.transform(xmesh, ymesh)\n",
    "\n",
    "# Create xarray.DataArray for the coordinates with matching dimensions.\n",
    "lon_om2 = xr.DataArray(lon_om2, dims=('y','x'))\n",
    "lat_om2 = xr.DataArray(lat_om2, dims=('y','x'))\n",
    "\n",
    "print('[Lat-lon mesh] lon: {0:.2f}° -> {1:.2f}° and lat: {2:.2f}° -> {3:.2f}°\\n----------------\\n'.format(lon_om2.min().data, \n",
    "                                                                     lon_om2.max().data, \n",
    "                                                                     lat_om2.min().data, \n",
    "                                                                     lat_om2.max().data))\n",
    "print('[After transf] lon: {0:.2f}° -> {1:.2f}° and lat: {2:.2f}° -> {3:.2f}°\\n----------------\\n'.format(lon_om2.min().data, \n",
    "                                                                     lon_om2.max().data, \n",
    "                                                                     lat_om2.min().data, \n",
    "                                                                     lat_om2.max().data))\n",
    "# ----------- Interpolate ----------\n",
    "# Use the xarray interp method to find the nearest locations \n",
    "# for each transformed point \n",
    "print('[TAS before interpolation] lon: {0:.2f}° -> {1:.2f}° and lat: {2:.2f}° -> {3:.2f}°\\n----------------\\n'.format(GCM_latlon.lon.min().data, \n",
    "                                                                     GCM_latlon.lon.max().data, \n",
    "                                                                     GCM_latlon.lat.min().data, \n",
    "                                                                     GCM_latlon.lat.max().data))\n",
    "\n",
    "GCM_latlon_int = GCM_latlon.interp({'lon':lon_om2, 'lat':lat_om2}, method='nearest').load()\n",
    "print('[TAS after interpolation] lon: {0:.2f}° -> {1:.2f}° and lat: {2:.2f}° -> {3:.2f}°\\n----------------\\n'.format(GCM_latlon_int.lon.min().data, \n",
    "                                                                     GCM_latlon_int.lon.max().data, \n",
    "                                                                     GCM_latlon_int.lat.min().data, \n",
    "                                                                     GCM_latlon_int.lat.max().data))\n",
    "# Replace coordinates by new coordinates\n",
    "GCM_xy_right = GCM_latlon_int.assign_coords({'x': (('x'), gridx.data), \n",
    "                                   'y': (('y'), gridy.data)}).drop_vars(['lon','lat']).reset_coords()\n",
    "GCM_xy_right.load()"
   ]
  },
  {
   "cell_type": "code",
   "execution_count": null,
   "id": "ade6c296-6a78-4b51-9a5a-a56cc00c715c",
   "metadata": {},
   "outputs": [],
   "source": [
    "# map\n",
    "map_proj = ccrs.SouthPolarStereo(central_longitude=0)\n",
    "ax = plt.axes(projection=map_proj)\n",
    "\n",
    "p = GCM_xy_right.TAS.isel(time = 1).plot(x='x', y='y',\n",
    "                                 subplot_kws={\"projection\": map_proj}, \n",
    "                                 transform=ccrs.SouthPolarStereo()); # data\n",
    "\n",
    "ax.coastlines()\n",
    "ax.gridlines()"
   ]
  },
  {
   "cell_type": "markdown",
   "id": "35c6da84-d2c1-4192-88c1-be1456c183cb",
   "metadata": {},
   "source": [
    "#### Left plot:"
   ]
  },
  {
   "cell_type": "code",
   "execution_count": null,
   "id": "f981f377-549c-4089-8fc4-0f60a329f49d",
   "metadata": {},
   "outputs": [],
   "source": [
    "# ----------- Transform GCM ----------\n",
    "# Change all longitude coordinates to map from -180° -> 180°\n",
    "GCM_transf = GCM.copy()\n",
    "GCM_transf['lon'] = GCM_transf.lon-180\n",
    "print('[After transf] lon: {}° -> {}° and lat: {}° -> {}°\\n----------------\\n'.format(GCM_transf.lon.min().data, \n",
    "                                                                     GCM_transf.lon.max().data, \n",
    "                                                                     GCM_transf.lat.min().data, \n",
    "                                                                     GCM_transf.lat.max().data))\n",
    "# ----------- Set information ----------\n",
    "# Define the source and target projections\n",
    "target_crs = pyproj.CRS(3031) # Global lat-lon coordinate system\n",
    "source_crs = pyproj.CRS(4326) # Coordinate system of the file\n",
    "\n",
    "# GCM -epsg:4326\n",
    "GCM_latlon = GCM_transf.rio.write_crs(source_crs)\n",
    "GCM_latlon.attrs['crs']  = source_crs\n",
    "\n",
    "# RCM - epsg:3031\n",
    "#SF_xy.attrs['crs']  = target_crs\n",
    "#SF_xy = SF_xy.rio.write_crs(target_crs)\n",
    "print('Shape of GCM data, time: {}, lat: {}, lon: {}\\n----------------\\n'.format(GCM_latlon.TAS.shape[0],\n",
    "                                                             GCM_latlon.TAS.shape[1],\n",
    "                                                             GCM_latlon.TAS.shape[2]))\n",
    "print('Shape of RCM data, time: {}, x: {}, y: {}\\n----------------\\n'.format(RCM_xy.SF.shape[0],\n",
    "                                                         RCM_xy.SF.shape[1],\n",
    "                                                         RCM_xy.SF.shape[2]))\n",
    "\n",
    "# ----------- Create new coordinates ----------\n",
    "# Create a grid of x/y values from downsampled RCM (onto which we want to project)\n",
    "xmesh, ymesh = np.meshgrid(gridx, gridy)\n",
    "print('Mesh shapes: {0}, {1}'.format(xmesh.shape, \n",
    "                                     ymesh.shape))\n",
    "\n",
    "# Create a pyproj.Transformer to transform each point \n",
    "# in xmesh and ymesh into a location in the polar coordinates \n",
    "polar_to_latlon = pyproj.Transformer.from_crs(target_crs, \n",
    "                                              source_crs, \n",
    "                                              always_xy = True)\n",
    "\n",
    "# polar coordinates from lat-lon\n",
    "lon_om2, lat_om2 = polar_to_latlon.transform(xmesh, ymesh)\n",
    "\n",
    "# Create xarray.DataArray for the coordinates with matching dimensions.\n",
    "lon_om2 = xr.DataArray(lon_om2, dims=('y','x'))\n",
    "lat_om2 = xr.DataArray(lat_om2, dims=('y','x'))\n",
    "\n",
    "print('[Lat-lon mesh] lon: {0:.2f}° -> {1:.2f}° and lat: {2:.2f}° -> {3:.2f}°\\n----------------\\n'.format(lon_om2.min().data, \n",
    "                                                                     lon_om2.max().data, \n",
    "                                                                     lat_om2.min().data, \n",
    "                                                                     lat_om2.max().data))\n",
    "# Transform lat lon mesh to get left part, add 180° to longitude\n",
    "lon_om2 = lon_om2+180\n",
    "\n",
    "print('[After transf] lon: {0:.2f}° -> {1:.2f}° and lat: {2:.2f}° -> {3:.2f}°\\n----------------\\n'.format(lon_om2.min().data, \n",
    "                                                                     lon_om2.max().data, \n",
    "                                                                     lat_om2.min().data, \n",
    "                                                                     lat_om2.max().data))\n",
    "# ----------- Interpolate ----------\n",
    "# Use the xarray interp method to find the nearest locations \n",
    "# for each transformed point \n",
    "print('[TAS before interpolation] lon: {0:.2f}° -> {1:.2f}° and lat: {2:.2f}° -> {3:.2f}°\\n----------------\\n'.format(GCM_latlon.lon.min().data, \n",
    "                                                                     GCM_latlon.lon.max().data, \n",
    "                                                                     GCM_latlon.lat.min().data, \n",
    "                                                                     GCM_latlon.lat.max().data))\n",
    "\n",
    "GCM_latlon_int = GCM_latlon.interp({'lon':lon_om2, 'lat':lat_om2}, method='nearest').load()\n",
    "print('[TAS after interpolation] lon: {0:.2f}° -> {1:.2f}° and lat: {2:.2f}° -> {3:.2f}°\\n----------------\\n'.format(GCM_latlon_int.lon.min().data, \n",
    "                                                                     GCM_latlon_int.lon.max().data, \n",
    "                                                                     GCM_latlon_int.lat.min().data, \n",
    "                                                                     GCM_latlon_int.lat.max().data))\n",
    "# Replace coordinates by new coordinates\n",
    "GCM_xy_left = GCM_latlon_int.assign_coords({'x': (('x'), gridx.data), \n",
    "                                   'y': (('y'), gridy.data)}).drop_vars(['lon','lat']).reset_coords()\n",
    "GCM_xy_left.load()"
   ]
  },
  {
   "cell_type": "code",
   "execution_count": null,
   "id": "b5f9e9cc-61cf-4d2b-9aa4-929245658596",
   "metadata": {},
   "outputs": [],
   "source": [
    "# map\n",
    "map_proj = ccrs.SouthPolarStereo(central_longitude=0)\n",
    "ax = plt.axes(projection=map_proj)\n",
    "\n",
    "p = GCM_xy_left.TAS.isel(time = 1).plot(x='x', y='y',\n",
    "                                 subplot_kws={\"projection\": map_proj}, \n",
    "                                 transform=ccrs.SouthPolarStereo()); # data\n",
    "\n",
    "ax.coastlines()\n",
    "ax.gridlines()"
   ]
  },
  {
   "cell_type": "markdown",
   "id": "4f664d8e-2f0f-4767-946e-c5e230d9afe6",
   "metadata": {},
   "source": [
    "#### Assemble the two parts:"
   ]
  },
  {
   "cell_type": "code",
   "execution_count": null,
   "id": "a4d97ad4-1759-4d18-a7fc-330aebd34a5e",
   "metadata": {},
   "outputs": [],
   "source": [
    "GCM_xy = GCM_xy_right.merge(GCM_xy_left)\n",
    "# map\n",
    "map_proj = ccrs.SouthPolarStereo(central_longitude=0)\n",
    "ax = plt.axes(projection=map_proj)\n",
    "\n",
    "p = GCM_xy.TAS.isel(time = 1).plot(x='x', y='y',\n",
    "                                 subplot_kws={\"projection\": map_proj}, \n",
    "                                 transform=ccrs.SouthPolarStereo()); # data\n",
    "\n",
    "ax.coastlines()\n",
    "ax.gridlines()\n",
    "GCM_xy.load()"
   ]
  },
  {
   "cell_type": "markdown",
   "id": "4858b0c0-5e56-48f0-b673-74d98c1c0032",
   "metadata": {},
   "source": [
    "### Save new projection to GC"
   ]
  },
  {
   "cell_type": "code",
   "execution_count": null,
   "id": "927da09e-26b6-4fff-85d5-ed4918e011a0",
   "metadata": {},
   "outputs": [],
   "source": [
    "# Access file\n",
    "globalName = 'ee-downscalingclimatemodels/year_ACCESS1-3-stereographic.zarr'\n",
    "GCM_xy.attrs['crs'] = 3031\n",
    "GCM_xy.to_zarr('gs://'+globalName, mode = 'w')"
   ]
  },
  {
   "cell_type": "code",
   "execution_count": null,
   "id": "531b96ff-82a0-46b6-b101-281835c8ef2e",
   "metadata": {},
   "outputs": [],
   "source": [
    "# open from google cloud\n",
    "dg = xr.open_zarr('gs://'+globalName)\n",
    "dg.load()\n",
    "\n",
    "# map\n",
    "map_proj = ccrs.SouthPolarStereo(central_longitude=0)\n",
    "ax = plt.axes(projection=map_proj)\n",
    "\n",
    "p = dg.TAS.isel(time = 1).plot(x='x', y='y',\n",
    "                                 subplot_kws={\"projection\": map_proj}, \n",
    "                                 transform=ccrs.SouthPolarStereo()); # data\n",
    "ax.coastlines()\n",
    "ax.gridlines()"
   ]
  },
  {
   "cell_type": "markdown",
   "id": "7505a41d-02ef-4171-ad80-d5f2a8e6b642",
   "metadata": {},
   "source": [
    "## GCM-like outputs:"
   ]
  },
  {
   "cell_type": "markdown",
   "id": "78190980-b9e8-4459-9f77-4285f00d84bf",
   "metadata": {},
   "source": [
    "GCM dataset with transformed coordinates over polar stereographic grid:"
   ]
  },
  {
   "cell_type": "markdown",
   "id": "fd6dccce-3b9f-4ec7-bdc4-05d5ab3e48b2",
   "metadata": {},
   "source": [
    "### GCM xy:"
   ]
  },
  {
   "cell_type": "code",
   "execution_count": null,
   "id": "7886a578-3ebd-4614-9d4f-ec661f073d9e",
   "metadata": {},
   "outputs": [],
   "source": [
    "# open from google cloud\n",
    "globalName = 'ee-downscalingclimatemodels/year_ACCESS1-3-stereographic.zarr'\n",
    "GCM_xy = xr.open_zarr('gs://'+globalName)\n",
    "GCM_xy = GCM_xy.rio.write_crs(\"epsg:3031\")\n",
    "GCM_xy.attrs['crs'] = 3031"
   ]
  },
  {
   "cell_type": "code",
   "execution_count": null,
   "id": "c84bc32f-0f09-4427-a236-434103f22317",
   "metadata": {},
   "outputs": [],
   "source": [
    "vars_ = ['TA','TAS','UA','VA','ZG']\n",
    "coords = list(GCM_xy.coords)\n",
    "\n",
    "# Make mean over all plevels\n",
    "GCM_xy_plot = GCM_xy.copy()\n",
    "GCM_xy_plot['TA'] = GCM_xy_plot.TA.mean(dim='plev')\n",
    "GCM_xy_plot['UA'] = GCM_xy_plot.UA.mean(dim='plev')\n",
    "GCM_xy_plot['VA'] = GCM_xy_plot.VA.mean(dim='plev')\n",
    "GCM_xy_plot['ZG'] = GCM_xy_plot.ZG.mean(dim='plev')\n",
    "\n",
    "# drop irrelevant sector dimension\n",
    "GCM_xy_plot = GCM_xy_plot.drop_dims('plev')\n",
    "\n",
    "f = plt.figure(figsize=(20,10))\n",
    "map_proj = ccrs.SouthPolarStereo(central_longitude=0.0, globe=None)\n",
    "for i in range(len(vars_)):\n",
    "    var = vars_[i]\n",
    "    ax = plt.subplot(2,3,i+1,projection=ccrs.SouthPolarStereo())\n",
    "    GCM_xy_plot[var].isel(time = 0).plot(ax=ax, \n",
    "                    x='x', y='y', \n",
    "                    transform=ccrs.SouthPolarStereo(),\n",
    "                    add_colorbar=True\n",
    "                   )\n",
    "    ax.coastlines('10m', color='w')\n",
    "    ax.gridlines()\n",
    "    ax.set_title(f'{GCM_xy[var].long_name} ({var})')\n",
    "plt.suptitle('First time step of GCM_xy (with mean over plevels)')"
   ]
  },
  {
   "cell_type": "markdown",
   "id": "15f102ab-5a1f-425e-a3c2-06db0d00d4b6",
   "metadata": {},
   "source": [
    "### RCM xy: \n",
    "RCM dataset with polar stereographic coordinates:"
   ]
  },
  {
   "cell_type": "code",
   "execution_count": null,
   "id": "14584d2c-8e09-4497-9486-78ce5ddcdcb0",
   "metadata": {},
   "outputs": [],
   "source": [
    "localName = 'ee-downscalingclimatemodels/year-MAR_ACCESS1.3-1980-2100_zen.zarr'\n",
    "dsr = xr.open_zarr('gs://'+localName)\n",
    "RCM = dsr.rename({'X':'x', 'Y':'y','TIME':'time'})\n",
    "\n",
    "# indicate projection crs\n",
    "RCM_xy = RCM.rio.write_crs(\"epsg:3031\")\n",
    "\n",
    "# Convert RCM from km to m for plots:\n",
    "RCM_xy['x'] = RCM_xy.x*1000\n",
    "RCM_xy['y'] = RCM_xy.y*1000\n",
    "RCM_xy.x.attrs['units'] = 'm'\n",
    "RCM_xy.y.attrs['units'] = 'm'\n",
    "\n",
    "# Remove SECTOR dimension:\n",
    "dim = ('time', 'y', 'x')\n",
    "RCM_xy['SMB'] = xr.Variable(dims = dim, \n",
    "                            data = RCM_xy.SMB.mean(dim='SECTOR1_1'), \n",
    "                            attrs = RCM_xy.SMB.attrs)\n",
    "RCM_xy['RU'] = xr.Variable(dims = dim, \n",
    "                           data = RCM_xy.RU.mean(dim='SECTOR1_1'), \n",
    "                           attrs = RCM_xy.RU.attrs)\n",
    "RCM_xy['SU'] = xr.Variable(dims = dim, \n",
    "                           data = RCM_xy.SU.mean(dim='SECTOR1_1'), \n",
    "                           attrs = RCM_xy.SU.attrs)\n",
    "\n",
    "# drop irrelevant sector dimension\n",
    "RCM_xy = RCM_xy.drop_dims('SECTOR1_1')\n",
    "\n",
    "print('Max and min values of x: {}m -> {}m and y: {}m -> {}m'.format(RCM_xy.x.max().data, \n",
    "                                                                     RCM_xy.x.min().data, \n",
    "                                                                     RCM_xy.y.max().data, \n",
    "                                                                     RCM_xy.y.min().data))"
   ]
  },
  {
   "cell_type": "code",
   "execution_count": null,
   "id": "ab69d5b1-f130-468e-9222-628e15c60649",
   "metadata": {},
   "outputs": [],
   "source": [
    "vars_ = list(RCM_xy.keys())[:-1]\n",
    "coords = list(RCM_xy.coords)\n",
    "\n",
    "f = plt.figure(figsize=(20,10))\n",
    "map_proj = ccrs.SouthPolarStereo(central_longitude=0.0, globe=None)\n",
    "for i in range(len(vars_)):\n",
    "    var = vars_[i]\n",
    "    ax = plt.subplot(2,3,i+1,projection=ccrs.SouthPolarStereo())\n",
    "    RCM_xy[var].isel(time = 0).plot(ax=ax, \n",
    "                    x='x', y='y', \n",
    "                    transform=ccrs.SouthPolarStereo(),\n",
    "                    add_colorbar=True\n",
    "                   )\n",
    "    ax.coastlines('10m', color='w')\n",
    "    ax.set_title(f'{RCM_xy[var].long_name} ({var})')\n",
    "    ax.gridlines()\n",
    "plt.suptitle('First time step of RCM xy')"
   ]
  },
  {
   "cell_type": "code",
   "execution_count": null,
   "id": "e4cff377-8456-4235-8a23-692b03b618c7",
   "metadata": {},
   "outputs": [],
   "source": [
    "# Compare resolutions\n",
    "print(\"GCM with crs x/y:\\n----------------\\n\")\n",
    "print_raster(GCM_xy.TA)\n",
    "print(\"RCM with crs x/y:\\n----------------\\n\")\n",
    "print_raster(RCM_xy.SF)"
   ]
  },
  {
   "cell_type": "markdown",
   "id": "c3685cb1-0b56-4e99-b47c-badd6bbfb471",
   "metadata": {},
   "source": [
    "### Reproject RCM xy on GCM xy grid:\n",
    "Creates fake GCM like outputs from RCM"
   ]
  },
  {
   "cell_type": "code",
   "execution_count": null,
   "id": "ccf9ec02-5850-4de9-a033-9800ab4505ae",
   "metadata": {},
   "outputs": [],
   "source": [
    "# Reproject\n",
    "vars_ = list(RCM_xy.keys())[:-1]\n",
    "\n",
    "coords = GCM_xy.drop_dims('plev').coords\n",
    "GCM_like = xr.Dataset()\n",
    "\n",
    "dim = ('time', 'y', 'x')\n",
    "for var in vars_:\n",
    "    GCM_like[var] = xr.Variable(dims = dim, \n",
    "                                data = RCM_xy[var].rio.reproject_match(GCM_xy.TA), \n",
    "                                attrs = RCM_xy[var].attrs)\n",
    "GCM_like = GCM_like.assign_coords(RCM_xy[var].rio.reproject_match(GCM_xy.TA).coords)"
   ]
  },
  {
   "cell_type": "code",
   "execution_count": null,
   "id": "bdc202d4-824f-478a-85a1-a4ec07d7f74d",
   "metadata": {},
   "outputs": [],
   "source": [
    "vars_ = list(GCM_like.keys())\n",
    "coords = list(GCM_like.coords)\n",
    "\n",
    "f = plt.figure(figsize=(20,10))\n",
    "map_proj = ccrs.SouthPolarStereo(central_longitude=0.0, globe=None)\n",
    "for i in range(len(vars_)):\n",
    "    var = vars_[i]\n",
    "    ax = plt.subplot(2,3,i+1,projection=ccrs.SouthPolarStereo())\n",
    "    GCM_like[var].isel(time = 0).plot(ax=ax, \n",
    "                    x='x', y='y', \n",
    "                    transform=ccrs.SouthPolarStereo(),\n",
    "                    add_colorbar=True\n",
    "                   )\n",
    "    ax.coastlines('10m', color='w')\n",
    "    ax.set_title(f'{RCM_xy[var].long_name} ({var})')\n",
    "    ax.gridlines()\n",
    "plt.suptitle('First time step of GCM_like RCM xy')"
   ]
  },
  {
   "cell_type": "code",
   "execution_count": null,
   "id": "05840f8c-6983-4482-b1a7-7c63161019fb",
   "metadata": {},
   "outputs": [],
   "source": [
    "# Access file\n",
    "globalName = 'ee-downscalingclimatemodels/year-MAR_ACCESS1.3-1980-2100_zen-GCMLike.zarr'\n",
    "GCM_like.attrs['crs'] = 3031\n",
    "GCM_like.to_zarr('gs://'+globalName, mode = 'w')"
   ]
  },
  {
   "cell_type": "code",
   "execution_count": null,
   "id": "8ab11cce-b453-4904-af85-db3c4d7fb21c",
   "metadata": {},
   "outputs": [],
   "source": [
    "print(\"GCM_like with crs x/y:\\n----------------\\n\")\n",
    "print_raster(GCM_like)"
   ]
  },
  {
   "cell_type": "code",
   "execution_count": null,
   "id": "44081574-61ee-44ba-a9e2-c9461c8b1fc3",
   "metadata": {},
   "outputs": [],
   "source": []
  }
 ],
 "metadata": {
  "kernelspec": {
   "display_name": "Python 3 (ipykernel)",
   "language": "python",
   "name": "python3"
  },
  "language_info": {
   "codemirror_mode": {
    "name": "ipython",
    "version": 3
   },
   "file_extension": ".py",
   "mimetype": "text/x-python",
   "name": "python",
   "nbconvert_exporter": "python",
   "pygments_lexer": "ipython3",
   "version": "3.9.10"
  }
 },
 "nbformat": 4,
 "nbformat_minor": 5
}
