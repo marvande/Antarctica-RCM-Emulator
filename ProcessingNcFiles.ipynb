{
  "cells": [
    {
      "cell_type": "markdown",
      "metadata": {
        "id": "view-in-github",
        "colab_type": "text"
      },
      "source": [
        "<a href=\"https://colab.research.google.com/github/marvande/master-thesis/blob/main/ProcessingNcFiles.ipynb\" target=\"_parent\"><img src=\"https://colab.research.google.com/assets/colab-badge.svg\" alt=\"Open In Colab\"/></a>"
      ]
    },
    {
      "cell_type": "markdown",
      "metadata": {
        "id": "kaPStUoXlQcY"
      },
      "source": [
        "# Processing google cloud files of all years into one NC file"
      ]
    },
    {
      "cell_type": "markdown",
      "metadata": {
        "id": "zuS5yoWdlVt9"
      },
      "source": [
        "Authenticate"
      ]
    },
    {
      "cell_type": "code",
      "execution_count": 7,
      "metadata": {
        "colab": {
          "base_uri": "https://localhost:8080/"
        },
        "id": "EGlYzcqaeQn6",
        "outputId": "8e148768-2a5c-42ef-987e-c67fbddc8bcd"
      },
      "outputs": [
        {
          "output_type": "stream",
          "name": "stdout",
          "text": [
            "\u001b[1;33mWARNING:\u001b[0m You do not appear to have access to project [ee-iceshelf-gee4geo] or it does not exist.\n",
            "Are you sure you wish to set property [core/project] to ee-iceshelf-gee4geo?\n",
            "\n",
            "Do you want to continue (Y/n)?  y\n",
            "\n",
            "Updated property [core/project].\n",
            "Copying gs://ee-downscalingclimatemodels/test.txt...\n",
            "/ [1 files][   13.0 B/   13.0 B]                                                \n",
            "Operation completed over 1 objects/13.0 B.                                       \n",
            "AIAIAIAIAIAIA"
          ]
        }
      ],
      "source": [
        "# Authenticate\n",
        "from google.colab import auth\n",
        "auth.authenticate_user()\n",
        "# Give our project ID\n",
        "project_id = 'ee-iceshelf-gee4geo'\n",
        "!gcloud config set project {project_id}\n",
        "# Download the file from a given Google Cloud Storage bucket.\n",
        "!gsutil cp gs://ee-downscalingclimatemodels/test.txt /tmp/gsutil_download.txt\n",
        "# Print the result to make sure the transfer worked.\n",
        "!cat /tmp/gsutil_download.txt "
      ]
    },
    {
      "cell_type": "markdown",
      "metadata": {
        "id": "RhgbYn9klXdG"
      },
      "source": [
        "## Imports"
      ]
    },
    {
      "cell_type": "code",
      "execution_count": 8,
      "metadata": {
        "colab": {
          "base_uri": "https://localhost:8080/"
        },
        "id": "OlA1el3KKKF3",
        "outputId": "aeebd32e-8612-495c-eb7d-4313b2fc97e9"
      },
      "outputs": [
        {
          "output_type": "stream",
          "name": "stdout",
          "text": [
            "Requirement already satisfied: zarr in /usr/local/lib/python3.7/dist-packages (2.11.1)\n",
            "Requirement already satisfied: xarray in /usr/local/lib/python3.7/dist-packages (0.18.2)\n",
            "Requirement already satisfied: fasteners in /usr/local/lib/python3.7/dist-packages (from zarr) (0.17.3)\n",
            "Requirement already satisfied: numcodecs>=0.6.4 in /usr/local/lib/python3.7/dist-packages (from zarr) (0.9.1)\n",
            "Requirement already satisfied: numpy>=1.7 in /usr/local/lib/python3.7/dist-packages (from zarr) (1.21.5)\n",
            "Requirement already satisfied: asciitree in /usr/local/lib/python3.7/dist-packages (from zarr) (0.3.3)\n",
            "Requirement already satisfied: pandas>=1.0 in /usr/local/lib/python3.7/dist-packages (from xarray) (1.3.5)\n",
            "Requirement already satisfied: setuptools>=40.4 in /usr/local/lib/python3.7/dist-packages (from xarray) (57.4.0)\n",
            "Requirement already satisfied: pytz>=2017.3 in /usr/local/lib/python3.7/dist-packages (from pandas>=1.0->xarray) (2018.9)\n",
            "Requirement already satisfied: python-dateutil>=2.7.3 in /usr/local/lib/python3.7/dist-packages (from pandas>=1.0->xarray) (2.8.2)\n",
            "Requirement already satisfied: six>=1.5 in /usr/local/lib/python3.7/dist-packages (from python-dateutil>=2.7.3->pandas>=1.0->xarray) (1.15.0)\n"
          ]
        }
      ],
      "source": [
        "! pip install zarr xarray fsspec gcsfs"
      ]
    },
    {
      "cell_type": "code",
      "execution_count": 9,
      "metadata": {
        "id": "Lt1yXydueTmF"
      },
      "outputs": [],
      "source": [
        "import xarray as xr\n",
        "import zarr\n",
        "import os\n",
        "import pandas as pd\n",
        "from os import listdir\n",
        "from os.path import isfile, join\n",
        "\n",
        "import ftplib\n",
        "import sys\n",
        "from re import search\n",
        "from tqdm import tqdm \n",
        "import glob\n",
        "\n",
        "import fsspec\n",
        "import gcsfs\n"
      ]
    },
    {
      "cell_type": "markdown",
      "metadata": {
        "id": "qcCkHe1LlZID"
      },
      "source": [
        "## Setting up"
      ]
    },
    {
      "cell_type": "code",
      "execution_count": 10,
      "metadata": {
        "id": "DPPnWUfi8XFl"
      },
      "outputs": [],
      "source": [
        "PROJECT = 'ee-iceshelf-gee4geo'\n",
        "BUCKET = \"ee-downscalingclimatemodels\""
      ]
    },
    {
      "cell_type": "code",
      "execution_count": 11,
      "metadata": {
        "id": "GCAZeQISEfIQ"
      },
      "outputs": [],
      "source": [
        "os.environ[\"GCLOUD_PROJECT\"] = PROJECT"
      ]
    },
    {
      "cell_type": "code",
      "execution_count": 97,
      "metadata": {
        "id": "Vk3XvTzp8Y52"
      },
      "outputs": [],
      "source": [
        "# Google cloud\n",
        "from google.cloud import storage\n",
        "storage_client = storage.Client()\n",
        "bucket = storage_client.bucket(BUCKET)"
      ]
    },
    {
      "cell_type": "markdown",
      "metadata": {
        "id": "U9RTbodce6gR"
      },
      "source": [
        "# Download files from google cloud"
      ]
    },
    {
      "cell_type": "markdown",
      "metadata": {
        "id": "Ix0WWKNulKe7"
      },
      "source": [
        "Copy all files from the google cloud bucket:\n",
        "\n",
        "Other way of doing it:\n",
        "\n",
        "`! gsutil -m cp gs://ee-downscalingclimatemodels/Chris_data/RawData/MAR-ACCESS1.3/RH/* /tmp/RH/`\n",
        "\n",
        "and upload to google cloud\n",
        "` !gsutil -m cp -r /tmp/CC_zarr/CC*.zarr gs://ee-downscalingclimatemodels/Chris_data/RawData/MAR-ACCESS1.3/zarr_data/CC_zarr/`"
      ]
    },
    {
      "cell_type": "code",
      "source": [
        "def empty_dir(pathLocal):\n",
        "  # delete all files as precaution\n",
        "  for file_name in os.listdir(pathLocal):\n",
        "      # construct full file path\n",
        "      file = pathLocal + file_name\n",
        "      if os.path.isfile(file):\n",
        "          os.remove(file)\n",
        "\n",
        "def create_dir(path):\n",
        "  # create empty directory for variable\n",
        "  if not os.path.exists(path):\n",
        "      os.makedirs(path)\n",
        "\n",
        "def listFilesGC(path, VAR):\n",
        "  # Get all files already on GC:\n",
        "  filesGC = []\n",
        "  for blob in storage_client.list_blobs(bucket, prefix=f'Chris_data/RawData/MAR-ACCESS1.3/{path}/'):\n",
        "    #print(str(blob))\n",
        "    file_ = str(blob)\n",
        "    if search(VAR, file_):\n",
        "      span = search(f\"{VAR}ant(.*?).nc\", file_).span(0)\n",
        "      filesGC.append(file_[span[0]:span[1]])\n",
        "  return filesGC\n",
        "\n",
        "def downloadFromGC(destName, filesGC):\n",
        "  N = len(filesGC)\n",
        "  for i in tqdm(range(N)):\n",
        "    file_name = filesGC[i]\n",
        "    # Download from GC locally\n",
        "    blob = bucket.blob(destName + file_name)\n",
        "    blob.download_to_filename(pathLocal+file_name)\n",
        "\n",
        "def filesInDir(pathLocal):\n",
        "  return sorted([f for f in listdir(pathLocal) if isfile(join(pathLocal, f))])\n",
        "\n",
        "def ZarrPerDecade(onlyfiles, NumDecades, pathLocal, pathLocalZarr, pathGC):\n",
        "  m = 10\n",
        "  for j in tqdm(range(NumDecades)):\n",
        "    # open first file\n",
        "    f0 = onlyfiles[j*m]\n",
        "    df = xr.open_dataset(pathLocal+f0)\n",
        "    if j < NumDecades-1:\n",
        "      for f in onlyfiles[(j*m)+1:m*(j+1)]:\n",
        "        df2 = xr.open_dataset(pathLocal+f)\n",
        "        df = df.merge(df2)\n",
        "    else:\n",
        "      for f in onlyfiles[(j*m)+1:]:\n",
        "        df2 = xr.open_dataset(pathLocal+f)\n",
        "        df = df.merge(df2)\n",
        "    # upload to GC\n",
        "    df.to_zarr('gs://'+pathGC+f'{path}_decade_{j+1}.zarr', mode = 'w', consolidated = True)"
      ],
      "metadata": {
        "id": "uEwmqt1zAXht"
      },
      "execution_count": 126,
      "outputs": []
    },
    {
      "cell_type": "code",
      "source": [
        "def CreateDecadeData(path, VAR):\n",
        "  pathLocal = f'/tmp/{path}/'\n",
        "  pathLocalZarr = f'/tmp/{path}_zarr/'\n",
        "\n",
        "  # create empty dir:\n",
        "  create_dir(pathLocal)\n",
        "  create_dir(pathLocalZarr)\n",
        "\n",
        "  # empty dir out of precaution\n",
        "  empty_dir(pathLocal)\n",
        "  empty_dir(pathLocalZarr)\n",
        "\n",
        "  # list files on GC\n",
        "  filesGC = listFilesGC(path, VAR)\n",
        "  print(f'Number of files already on GC: {len(filesGC)}')\n",
        "\n",
        "  # Download files from GC\n",
        "  destName = f'Chris_data/RawData/MAR-ACCESS1.3/{path}/'\n",
        "  downloadFromGC(destName, filesGC)\n",
        "\n",
        "  # Get all file names locally\n",
        "  onlyfiles = filesInDir(pathLocal)\n",
        "  print(f'Number of files downloaded from GC: {len(onlyfiles)}')\n",
        "  print('Examples of files: \\n {}'.format(onlyfiles[0]))\n",
        "\n",
        "  # Create a zarr file per decade:\n",
        "  pathZarr = f'ee-downscalingclimatemodels/Chris_data/RawData/MAR-ACCESS1.3/zarr_data/{path}_zarr/'\n",
        "  print(f'Saving zarr files at: {pathZarr}')\n",
        "  m = 10 # num years per zarr folder\n",
        "  NumDecades = int(len(onlyfiles)/m)\n",
        "  print(f'Number of decades: {NumDecades}, number of files: {len(onlyfiles)}')\n",
        "\n",
        "  ZarrPerDecade(onlyfiles, NumDecades, pathLocal, pathLocalZarr, pathZarr)\n",
        "\n",
        "  # empty dir out of precaution\n",
        "  empty_dir(pathLocal)\n",
        "  empty_dir(pathLocalZarr)"
      ],
      "metadata": {
        "id": "cVc6U6anm2xs"
      },
      "execution_count": 129,
      "outputs": []
    },
    {
      "cell_type": "code",
      "source": [
        "# RH\n",
        "path = 'RH'\n",
        "VAR = path+'_'\n",
        "CreateDecadeData(path, VAR)"
      ],
      "metadata": {
        "id": "5KYoZEqZnPe-"
      },
      "execution_count": null,
      "outputs": []
    },
    {
      "cell_type": "code",
      "source": [
        "# CC\n",
        "path = 'CC'\n",
        "VAR = path+'_'\n",
        "CreateDecadeData(path, VAR)"
      ],
      "metadata": {
        "id": "C9w5m3YcnSTg"
      },
      "execution_count": null,
      "outputs": []
    },
    {
      "cell_type": "code",
      "execution_count": 131,
      "metadata": {
        "id": "cOhlUwDOn1_4",
        "colab": {
          "base_uri": "https://localhost:8080/",
          "height": 383
        },
        "outputId": "cdb687e3-eca9-4a86-b00a-228614c344d7"
      },
      "outputs": [
        {
          "output_type": "stream",
          "name": "stdout",
          "text": [
            "Number of files already on GC: 121\n"
          ]
        },
        {
          "output_type": "stream",
          "name": "stderr",
          "text": [
            "100%|██████████| 121/121 [01:47<00:00,  1.13it/s]"
          ]
        },
        {
          "output_type": "stream",
          "name": "stdout",
          "text": [
            "Number of files downloaded from GC: 0\n"
          ]
        },
        {
          "output_type": "stream",
          "name": "stderr",
          "text": [
            "\n"
          ]
        },
        {
          "output_type": "error",
          "ename": "IndexError",
          "evalue": "ignored",
          "traceback": [
            "\u001b[0;31m---------------------------------------------------------------------------\u001b[0m",
            "\u001b[0;31mIndexError\u001b[0m                                Traceback (most recent call last)",
            "\u001b[0;32m<ipython-input-131-f364b931366f>\u001b[0m in \u001b[0;36m<module>\u001b[0;34m()\u001b[0m\n\u001b[1;32m      2\u001b[0m \u001b[0mpath\u001b[0m \u001b[0;34m=\u001b[0m \u001b[0;34m'RU'\u001b[0m\u001b[0;34m\u001b[0m\u001b[0;34m\u001b[0m\u001b[0m\n\u001b[1;32m      3\u001b[0m \u001b[0mVAR\u001b[0m \u001b[0;34m=\u001b[0m \u001b[0mpath\u001b[0m\u001b[0;34m+\u001b[0m\u001b[0;34m'_'\u001b[0m\u001b[0;34m\u001b[0m\u001b[0;34m\u001b[0m\u001b[0m\n\u001b[0;32m----> 4\u001b[0;31m \u001b[0mCreateDecadeData\u001b[0m\u001b[0;34m(\u001b[0m\u001b[0mpath\u001b[0m\u001b[0;34m,\u001b[0m \u001b[0mVAR\u001b[0m\u001b[0;34m)\u001b[0m\u001b[0;34m\u001b[0m\u001b[0;34m\u001b[0m\u001b[0m\n\u001b[0m",
            "\u001b[0;32m<ipython-input-129-92ffa246b484>\u001b[0m in \u001b[0;36mCreateDecadeData\u001b[0;34m(path, VAR)\u001b[0m\n\u001b[1;32m     22\u001b[0m   \u001b[0monlyfiles\u001b[0m \u001b[0;34m=\u001b[0m \u001b[0mfilesInDir\u001b[0m\u001b[0;34m(\u001b[0m\u001b[0mpathLocal\u001b[0m\u001b[0;34m)\u001b[0m\u001b[0;34m\u001b[0m\u001b[0;34m\u001b[0m\u001b[0m\n\u001b[1;32m     23\u001b[0m   \u001b[0mprint\u001b[0m\u001b[0;34m(\u001b[0m\u001b[0;34mf'Number of files downloaded from GC: {len(onlyfiles)}'\u001b[0m\u001b[0;34m)\u001b[0m\u001b[0;34m\u001b[0m\u001b[0;34m\u001b[0m\u001b[0m\n\u001b[0;32m---> 24\u001b[0;31m   \u001b[0mprint\u001b[0m\u001b[0;34m(\u001b[0m\u001b[0;34m'Examples of files: \\n {}'\u001b[0m\u001b[0;34m.\u001b[0m\u001b[0mformat\u001b[0m\u001b[0;34m(\u001b[0m\u001b[0monlyfiles\u001b[0m\u001b[0;34m[\u001b[0m\u001b[0;36m0\u001b[0m\u001b[0;34m]\u001b[0m\u001b[0;34m)\u001b[0m\u001b[0;34m)\u001b[0m\u001b[0;34m\u001b[0m\u001b[0;34m\u001b[0m\u001b[0m\n\u001b[0m\u001b[1;32m     25\u001b[0m \u001b[0;34m\u001b[0m\u001b[0m\n\u001b[1;32m     26\u001b[0m   \u001b[0;31m# Create a zarr file per decade:\u001b[0m\u001b[0;34m\u001b[0m\u001b[0;34m\u001b[0m\u001b[0;34m\u001b[0m\u001b[0m\n",
            "\u001b[0;31mIndexError\u001b[0m: list index out of range"
          ]
        }
      ],
      "source": [
        "# RU\n",
        "path = 'RU'\n",
        "VAR = path+'_'\n",
        "CreateDecadeData(path, VAR)"
      ]
    },
    {
      "cell_type": "code",
      "source": [
        "# VVP\n",
        "path = 'VVP'\n",
        "VAR = path+'_'\n",
        "CreateDecadeData(path, VAR)"
      ],
      "metadata": {
        "id": "HmA2MTqVnL0L"
      },
      "execution_count": null,
      "outputs": []
    },
    {
      "cell_type": "markdown",
      "metadata": {
        "id": "3UPQlco8heWu"
      },
      "source": [
        "# FTP download files and move to google cloud"
      ]
    },
    {
      "cell_type": "markdown",
      "metadata": {
        "id": "JadKBSJYUE08"
      },
      "source": [
        "## Prepare ftp session:"
      ]
    },
    {
      "cell_type": "code",
      "execution_count": 130,
      "metadata": {
        "colab": {
          "base_uri": "https://localhost:8080/",
          "height": 35
        },
        "id": "GAgkgKyOhrUK",
        "outputId": "dd27b025-3505-48b8-82d3-be25855b9fcb"
      },
      "outputs": [
        {
          "output_type": "execute_result",
          "data": {
            "text/plain": [
              "'221 Goodbye.'"
            ],
            "application/vnd.google.colaboratory.intrinsic+json": {
              "type": "string"
            }
          },
          "metadata": {},
          "execution_count": 130
        }
      ],
      "source": [
        "# test connection to server:\n",
        "ftp_server = 'ftp.climato.be'\n",
        "ftp_session= ftplib.FTP(ftp_server)\n",
        "ftp_session.login()\n",
        "ftp_session.quit()"
      ]
    },
    {
      "cell_type": "code",
      "execution_count": null,
      "metadata": {
        "id": "PnrsF2dnhyVK"
      },
      "outputs": [],
      "source": [
        "# Write a function that initiates a FTP session\n",
        "def open_ftp_session(ftp_server):\n",
        "    \"\"\"\n",
        "       Open a ftp session given the server ftp address,\n",
        "       the user's ID and the user's password.\n",
        "       \n",
        "       @param ftp_server: name of the ftp server (string)\n",
        "       @param my_userid:  user ID on the ftp server (string)\n",
        "       @param my_passwd:  user password on the ftp server (string)\n",
        "    \"\"\"\n",
        "    \n",
        "    ftp_session = ftplib.FTP(ftp_server)\n",
        "    ftp_session.login()\n",
        "    \n",
        "    return ftp_session\n",
        "\n",
        "\n",
        "def ftp_dir_content(ftp_session, dir_name=None):\n",
        "    \"\"\"\n",
        "       List the content of a diirectory in a ftp server.\n",
        "       If the directory is not provided, will list the content\n",
        "       of the top directory.\n",
        "       \n",
        "       @param ftp_session: ftp session object\n",
        "       @param dir_name:    name of the directory you want to access (string)\n",
        "        \n",
        "       Returned Value:\n",
        "          - List of directories and files \n",
        "           (similar to the Unix command 'ls -l')\n",
        "    \"\"\" \n",
        " \n",
        "    data = []\n",
        "    \n",
        "    if dir_name != None:\n",
        "        # Change directory\n",
        "        ftp_session.cwd(dir_name)\n",
        "\n",
        "    # Get the list of files\n",
        "    ftp_session.dir(data.append)\n",
        "\n",
        "    return data\n",
        "\n",
        "def ftp_get_file(ftp_session, file_name):\n",
        "    \"\"\"\n",
        "         Get a file from a ftp server\n",
        "\n",
        "         @param ftp_session: ftp session object\n",
        "         @param file_name: name of the file you want to download  \n",
        "    \"\"\"\n",
        "    try:\n",
        "        ftp_session.retrbinary(\"RETR \" + file_name ,open(file_name, 'wb').write)\n",
        "    except:\n",
        "        print(\"Error - Cannot obtain file: \"+ file_name)"
      ]
    },
    {
      "cell_type": "code",
      "execution_count": null,
      "metadata": {
        "colab": {
          "base_uri": "https://localhost:8080/",
          "height": 353
        },
        "id": "M9JXnm36hypF",
        "outputId": "a50f6689-0647-4171-8ee4-ae7e2d3d5780"
      },
      "outputs": [
        {
          "output_type": "error",
          "ename": "ConnectionRefusedError",
          "evalue": "ignored",
          "traceback": [
            "\u001b[0;31m---------------------------------------------------------------------------\u001b[0m",
            "\u001b[0;31mConnectionRefusedError\u001b[0m                    Traceback (most recent call last)",
            "\u001b[0;32m<ipython-input-10-9278be473987>\u001b[0m in \u001b[0;36m<module>\u001b[0;34m()\u001b[0m\n\u001b[0;32m----> 1\u001b[0;31m \u001b[0mftp_session\u001b[0m \u001b[0;34m=\u001b[0m \u001b[0mopen_ftp_session\u001b[0m\u001b[0;34m(\u001b[0m\u001b[0mftp_server\u001b[0m\u001b[0;34m)\u001b[0m\u001b[0;34m\u001b[0m\u001b[0;34m\u001b[0m\u001b[0m\n\u001b[0m\u001b[1;32m      2\u001b[0m \u001b[0;31m# To list the top directories in the server\u001b[0m\u001b[0;34m\u001b[0m\u001b[0;34m\u001b[0m\u001b[0;34m\u001b[0m\u001b[0m\n\u001b[1;32m      3\u001b[0m \u001b[0mftp_session\u001b[0m\u001b[0;34m.\u001b[0m\u001b[0mretrlines\u001b[0m\u001b[0;34m(\u001b[0m\u001b[0;34m'LIST'\u001b[0m\u001b[0;34m)\u001b[0m\u001b[0;34m\u001b[0m\u001b[0;34m\u001b[0m\u001b[0m\n",
            "\u001b[0;32m<ipython-input-9-d0f3f6415a51>\u001b[0m in \u001b[0;36mopen_ftp_session\u001b[0;34m(ftp_server)\u001b[0m\n\u001b[1;32m     10\u001b[0m     \"\"\"\n\u001b[1;32m     11\u001b[0m \u001b[0;34m\u001b[0m\u001b[0m\n\u001b[0;32m---> 12\u001b[0;31m     \u001b[0mftp_session\u001b[0m \u001b[0;34m=\u001b[0m \u001b[0mftplib\u001b[0m\u001b[0;34m.\u001b[0m\u001b[0mFTP\u001b[0m\u001b[0;34m(\u001b[0m\u001b[0mftp_server\u001b[0m\u001b[0;34m)\u001b[0m\u001b[0;34m\u001b[0m\u001b[0;34m\u001b[0m\u001b[0m\n\u001b[0m\u001b[1;32m     13\u001b[0m     \u001b[0mftp_session\u001b[0m\u001b[0;34m.\u001b[0m\u001b[0mlogin\u001b[0m\u001b[0;34m(\u001b[0m\u001b[0;34m)\u001b[0m\u001b[0;34m\u001b[0m\u001b[0;34m\u001b[0m\u001b[0m\n\u001b[1;32m     14\u001b[0m \u001b[0;34m\u001b[0m\u001b[0m\n",
            "\u001b[0;32m/usr/lib/python3.7/ftplib.py\u001b[0m in \u001b[0;36m__init__\u001b[0;34m(self, host, user, passwd, acct, timeout, source_address)\u001b[0m\n\u001b[1;32m    117\u001b[0m         \u001b[0mself\u001b[0m\u001b[0;34m.\u001b[0m\u001b[0mtimeout\u001b[0m \u001b[0;34m=\u001b[0m \u001b[0mtimeout\u001b[0m\u001b[0;34m\u001b[0m\u001b[0;34m\u001b[0m\u001b[0m\n\u001b[1;32m    118\u001b[0m         \u001b[0;32mif\u001b[0m \u001b[0mhost\u001b[0m\u001b[0;34m:\u001b[0m\u001b[0;34m\u001b[0m\u001b[0;34m\u001b[0m\u001b[0m\n\u001b[0;32m--> 119\u001b[0;31m             \u001b[0mself\u001b[0m\u001b[0;34m.\u001b[0m\u001b[0mconnect\u001b[0m\u001b[0;34m(\u001b[0m\u001b[0mhost\u001b[0m\u001b[0;34m)\u001b[0m\u001b[0;34m\u001b[0m\u001b[0;34m\u001b[0m\u001b[0m\n\u001b[0m\u001b[1;32m    120\u001b[0m             \u001b[0;32mif\u001b[0m \u001b[0muser\u001b[0m\u001b[0;34m:\u001b[0m\u001b[0;34m\u001b[0m\u001b[0;34m\u001b[0m\u001b[0m\n\u001b[1;32m    121\u001b[0m                 \u001b[0mself\u001b[0m\u001b[0;34m.\u001b[0m\u001b[0mlogin\u001b[0m\u001b[0;34m(\u001b[0m\u001b[0muser\u001b[0m\u001b[0;34m,\u001b[0m \u001b[0mpasswd\u001b[0m\u001b[0;34m,\u001b[0m \u001b[0macct\u001b[0m\u001b[0;34m)\u001b[0m\u001b[0;34m\u001b[0m\u001b[0;34m\u001b[0m\u001b[0m\n",
            "\u001b[0;32m/usr/lib/python3.7/ftplib.py\u001b[0m in \u001b[0;36mconnect\u001b[0;34m(self, host, port, timeout, source_address)\u001b[0m\n\u001b[1;32m    152\u001b[0m             \u001b[0mself\u001b[0m\u001b[0;34m.\u001b[0m\u001b[0msource_address\u001b[0m \u001b[0;34m=\u001b[0m \u001b[0msource_address\u001b[0m\u001b[0;34m\u001b[0m\u001b[0;34m\u001b[0m\u001b[0m\n\u001b[1;32m    153\u001b[0m         self.sock = socket.create_connection((self.host, self.port), self.timeout,\n\u001b[0;32m--> 154\u001b[0;31m                                              source_address=self.source_address)\n\u001b[0m\u001b[1;32m    155\u001b[0m         \u001b[0mself\u001b[0m\u001b[0;34m.\u001b[0m\u001b[0maf\u001b[0m \u001b[0;34m=\u001b[0m \u001b[0mself\u001b[0m\u001b[0;34m.\u001b[0m\u001b[0msock\u001b[0m\u001b[0;34m.\u001b[0m\u001b[0mfamily\u001b[0m\u001b[0;34m\u001b[0m\u001b[0;34m\u001b[0m\u001b[0m\n\u001b[1;32m    156\u001b[0m         \u001b[0mself\u001b[0m\u001b[0;34m.\u001b[0m\u001b[0mfile\u001b[0m \u001b[0;34m=\u001b[0m \u001b[0mself\u001b[0m\u001b[0;34m.\u001b[0m\u001b[0msock\u001b[0m\u001b[0;34m.\u001b[0m\u001b[0mmakefile\u001b[0m\u001b[0;34m(\u001b[0m\u001b[0;34m'r'\u001b[0m\u001b[0;34m,\u001b[0m \u001b[0mencoding\u001b[0m\u001b[0;34m=\u001b[0m\u001b[0mself\u001b[0m\u001b[0;34m.\u001b[0m\u001b[0mencoding\u001b[0m\u001b[0;34m)\u001b[0m\u001b[0;34m\u001b[0m\u001b[0;34m\u001b[0m\u001b[0m\n",
            "\u001b[0;32m/usr/lib/python3.7/socket.py\u001b[0m in \u001b[0;36mcreate_connection\u001b[0;34m(address, timeout, source_address)\u001b[0m\n\u001b[1;32m    726\u001b[0m     \u001b[0;32mif\u001b[0m \u001b[0merr\u001b[0m \u001b[0;32mis\u001b[0m \u001b[0;32mnot\u001b[0m \u001b[0;32mNone\u001b[0m\u001b[0;34m:\u001b[0m\u001b[0;34m\u001b[0m\u001b[0;34m\u001b[0m\u001b[0m\n\u001b[1;32m    727\u001b[0m         \u001b[0;32mtry\u001b[0m\u001b[0;34m:\u001b[0m\u001b[0;34m\u001b[0m\u001b[0;34m\u001b[0m\u001b[0m\n\u001b[0;32m--> 728\u001b[0;31m             \u001b[0;32mraise\u001b[0m \u001b[0merr\u001b[0m\u001b[0;34m\u001b[0m\u001b[0;34m\u001b[0m\u001b[0m\n\u001b[0m\u001b[1;32m    729\u001b[0m         \u001b[0;32mfinally\u001b[0m\u001b[0;34m:\u001b[0m\u001b[0;34m\u001b[0m\u001b[0;34m\u001b[0m\u001b[0m\n\u001b[1;32m    730\u001b[0m             \u001b[0;31m# Break explicitly a reference cycle\u001b[0m\u001b[0;34m\u001b[0m\u001b[0;34m\u001b[0m\u001b[0;34m\u001b[0m\u001b[0m\n",
            "\u001b[0;32m/usr/lib/python3.7/socket.py\u001b[0m in \u001b[0;36mcreate_connection\u001b[0;34m(address, timeout, source_address)\u001b[0m\n\u001b[1;32m    714\u001b[0m             \u001b[0;32mif\u001b[0m \u001b[0msource_address\u001b[0m\u001b[0;34m:\u001b[0m\u001b[0;34m\u001b[0m\u001b[0;34m\u001b[0m\u001b[0m\n\u001b[1;32m    715\u001b[0m                 \u001b[0msock\u001b[0m\u001b[0;34m.\u001b[0m\u001b[0mbind\u001b[0m\u001b[0;34m(\u001b[0m\u001b[0msource_address\u001b[0m\u001b[0;34m)\u001b[0m\u001b[0;34m\u001b[0m\u001b[0;34m\u001b[0m\u001b[0m\n\u001b[0;32m--> 716\u001b[0;31m             \u001b[0msock\u001b[0m\u001b[0;34m.\u001b[0m\u001b[0mconnect\u001b[0m\u001b[0;34m(\u001b[0m\u001b[0msa\u001b[0m\u001b[0;34m)\u001b[0m\u001b[0;34m\u001b[0m\u001b[0;34m\u001b[0m\u001b[0m\n\u001b[0m\u001b[1;32m    717\u001b[0m             \u001b[0;31m# Break explicitly a reference cycle\u001b[0m\u001b[0;34m\u001b[0m\u001b[0;34m\u001b[0m\u001b[0;34m\u001b[0m\u001b[0m\n\u001b[1;32m    718\u001b[0m             \u001b[0merr\u001b[0m \u001b[0;34m=\u001b[0m \u001b[0;32mNone\u001b[0m\u001b[0;34m\u001b[0m\u001b[0;34m\u001b[0m\u001b[0m\n",
            "\u001b[0;31mConnectionRefusedError\u001b[0m: [Errno 111] Connection refused"
          ]
        }
      ],
      "source": [
        "ftp_session = open_ftp_session(ftp_server)\n",
        "# To list the top directories in the server\n",
        "ftp_session.retrlines('LIST')"
      ]
    },
    {
      "cell_type": "code",
      "execution_count": null,
      "metadata": {
        "colab": {
          "base_uri": "https://localhost:8080/"
        },
        "id": "MKNccxFFiEI1",
        "outputId": "904f6335-f096-458a-d75b-306626ba28bd"
      },
      "outputs": [
        {
          "output_type": "stream",
          "name": "stdout",
          "text": [
            "- -rw-r--r--    1 1028     1000     38208563 Mar 17 09:43 CC_ant-35km_ACCESS1.3_rcp8.5_r1i1p1_ULg-MAR311_v1_day_19800101-19801231.nc\n",
            "- -rw-r--r--    1 1028     1000     38104367 Mar 17 09:43 CC_ant-35km_ACCESS1.3_rcp8.5_r1i1p1_ULg-MAR311_v1_day_19810101-19811231.nc\n",
            "- -rw-r--r--    1 1028     1000     38104367 Mar 17 09:43 CC_ant-35km_ACCESS1.3_rcp8.5_r1i1p1_ULg-MAR311_v1_day_19820101-19821231.nc\n",
            "- -rw-r--r--    1 1028     1000     38104367 Mar 17 09:43 CC_ant-35km_ACCESS1.3_rcp8.5_r1i1p1_ULg-MAR311_v1_day_19830101-19831231.nc\n",
            "- -rw-r--r--    1 1028     1000     38208563 Mar 17 09:43 CC_ant-35km_ACCESS1.3_rcp8.5_r1i1p1_ULg-MAR311_v1_day_19840101-19841231.nc\n"
          ]
        }
      ],
      "source": [
        "data = ftp_dir_content(ftp_session, dir_name='climato/ckittel/MARv3.11/Marijn/MAR-ACCESS1.3/')\n",
        "for line in data[:5]:\n",
        "    print(\"-\", line)"
      ]
    },
    {
      "cell_type": "markdown",
      "metadata": {
        "id": "Qq2ntP0X2oV1"
      },
      "source": [
        "## RH"
      ]
    },
    {
      "cell_type": "code",
      "execution_count": null,
      "metadata": {
        "colab": {
          "base_uri": "https://localhost:8080/",
          "height": 240
        },
        "id": "JDxcJabTjcgL",
        "outputId": "456b6583-2c42-4ced-8b83-eca2ae34316c"
      },
      "outputs": [
        {
          "output_type": "error",
          "ename": "NameError",
          "evalue": "ignored",
          "traceback": [
            "\u001b[0;31m---------------------------------------------------------------------------\u001b[0m",
            "\u001b[0;31mNameError\u001b[0m                                 Traceback (most recent call last)",
            "\u001b[0;32m<ipython-input-1-f74225400ba0>\u001b[0m in \u001b[0;36m<module>\u001b[0;34m()\u001b[0m\n\u001b[1;32m      5\u001b[0m \u001b[0;31m# Get all files already on GC:\u001b[0m\u001b[0;34m\u001b[0m\u001b[0;34m\u001b[0m\u001b[0;34m\u001b[0m\u001b[0m\n\u001b[1;32m      6\u001b[0m \u001b[0mfilesGC\u001b[0m \u001b[0;34m=\u001b[0m \u001b[0;34m[\u001b[0m\u001b[0;34m]\u001b[0m\u001b[0;34m\u001b[0m\u001b[0;34m\u001b[0m\u001b[0m\n\u001b[0;32m----> 7\u001b[0;31m \u001b[0;32mfor\u001b[0m \u001b[0mblob\u001b[0m \u001b[0;32min\u001b[0m \u001b[0mstorage_client\u001b[0m\u001b[0;34m.\u001b[0m\u001b[0mlist_blobs\u001b[0m\u001b[0;34m(\u001b[0m\u001b[0mbucket\u001b[0m\u001b[0;34m,\u001b[0m \u001b[0mprefix\u001b[0m\u001b[0;34m=\u001b[0m\u001b[0;34mf'Chris_data/RawData/MAR-ACCESS1.3/{path}/'\u001b[0m\u001b[0;34m)\u001b[0m\u001b[0;34m:\u001b[0m\u001b[0;34m\u001b[0m\u001b[0;34m\u001b[0m\u001b[0m\n\u001b[0m\u001b[1;32m      8\u001b[0m   \u001b[0;31m#print(str(blob))\u001b[0m\u001b[0;34m\u001b[0m\u001b[0;34m\u001b[0m\u001b[0;34m\u001b[0m\u001b[0m\n\u001b[1;32m      9\u001b[0m   \u001b[0mfile_\u001b[0m \u001b[0;34m=\u001b[0m \u001b[0mstr\u001b[0m\u001b[0;34m(\u001b[0m\u001b[0mblob\u001b[0m\u001b[0;34m)\u001b[0m\u001b[0;34m\u001b[0m\u001b[0;34m\u001b[0m\u001b[0m\n",
            "\u001b[0;31mNameError\u001b[0m: name 'storage_client' is not defined"
          ]
        }
      ],
      "source": [
        "# create empty directory for variable\n",
        "path = 'RH'\n",
        "VAR = path+'_'\n",
        "\n",
        "# Get all files already on GC:\n",
        "filesGC = []\n",
        "for blob in storage_client.list_blobs(bucket, prefix=f'Chris_data/RawData/MAR-ACCESS1.3/{path}/'):\n",
        "  #print(str(blob))\n",
        "  file_ = str(blob)\n",
        "  if search(VAR, file_):\n",
        "    span = search(f\"{VAR}ant(.*?).nc\", file_).span(0)\n",
        "    filesGC.append(file_[span[0]:span[1]])\n",
        "print(f'Number of files already on GC: {len(filesGC)}')\n",
        "\n",
        "# Get all filenames in FTP server\n",
        "ftpFiles = []\n",
        "ftp_session = open_ftp_session(ftp_server)\n",
        "data = ftp_dir_content(ftp_session, dir_name='climato/ckittel/MARv3.11/Marijn/MAR-ACCESS1.3/')\n",
        "for line in data:\n",
        "  if search(VAR, line):\n",
        "    span = search(f\"{VAR}ant(.*?).nc\", line).span(0)\n",
        "    ftpFiles.append(line[span[0]:span[1]])\n",
        "\n",
        "print(f'Number of files on ftp: {len(ftpFiles)}')\n",
        "\n",
        "# Find difference of two lists\n",
        "remainingFiles = list(set(ftpFiles) - set(filesGC))\n",
        "print(f'Remaining files to put on GC: {len(remainingFiles)}')\n",
        "\n",
        "# Copy remaining files from FTP to GC:\n",
        "\n",
        "dir_name  = 'climato/ckittel/MARv3.11/Marijn/MAR-ACCESS1.3/'\n",
        "destName = f'Chris_data/RawData/MAR-ACCESS1.3/{path}/'\n",
        "N = len(remainingFiles)\n",
        "for i in tqdm(range(N)):\n",
        "  file_name = remainingFiles[i]\n",
        "  ftp_session = open_ftp_session(ftp_server)\n",
        "  ftp_session.cwd(dir_name)   \n",
        "  ftp_get_file(ftp_session, file_name)\n",
        "\n",
        "  # upload to google cloud:\n",
        "  blob = bucket.blob(destName+file_name)\n",
        "  blob.upload_from_filename(file_name)"
      ]
    },
    {
      "cell_type": "markdown",
      "metadata": {
        "id": "T7gingb521Mn"
      },
      "source": [
        "## RU"
      ]
    },
    {
      "cell_type": "code",
      "execution_count": null,
      "metadata": {
        "colab": {
          "base_uri": "https://localhost:8080/"
        },
        "id": "EYvRY8Ze3Hnt",
        "outputId": "c4b83f4b-b7e7-49f6-c9ff-dffba85e7255"
      },
      "outputs": [
        {
          "data": {
            "text/plain": [
              "0"
            ]
          },
          "execution_count": 17,
          "metadata": {},
          "output_type": "execute_result"
        }
      ],
      "source": [
        "# create empty directory for variable\n",
        "path = 'RU'\n",
        "VAR = path+'_'\n",
        "\n",
        "# Get all files already on GC:\n",
        "filesGC = []\n",
        "for blob in storage_client.list_blobs(bucket, prefix=f'Chris_data/RawData/MAR-ACCESS1.3/{path}/'):\n",
        "  #print(str(blob))\n",
        "  file_ = str(blob)\n",
        "  if search(VAR, file_):\n",
        "    span = search(f\"{VAR}ant(.*?).nc\", file_).span(0)\n",
        "    filesGC.append(file_[span[0]:span[1]])\n",
        "print(f'Number of files already on GC: {len(filesGC)}')\n",
        "\n",
        "# Get all filenames in FTP server\n",
        "ftpFiles = []\n",
        "ftp_session = open_ftp_session(ftp_server)\n",
        "data = ftp_dir_content(ftp_session, dir_name='climato/ckittel/MARv3.11/Marijn/MAR-ACCESS1.3/')\n",
        "for line in data:\n",
        "  if search(VAR, line):\n",
        "    span = search(f\"{VAR}ant(.*?).nc\", line).span(0)\n",
        "    ftpFiles.append(line[span[0]:span[1]])\n",
        "\n",
        "print(f'Number of files on ftp: {len(ftpFiles)}')\n",
        "\n",
        "# Find difference of two lists\n",
        "remainingFiles = list(set(ftpFiles) - set(filesGC))\n",
        "print(f'Remaining files to put on GC: {len(remainingFiles)}')\n",
        "\n",
        "# Copy remaining files from FTP to GC:\n",
        "\n",
        "dir_name  = 'climato/ckittel/MARv3.11/Marijn/MAR-ACCESS1.3/'\n",
        "destName = f'Chris_data/RawData/MAR-ACCESS1.3/{path}/'\n",
        "N = len(remainingFiles)\n",
        "for i in tqdm(range(N)):\n",
        "  file_name = remainingFiles[i]\n",
        "  ftp_session = open_ftp_session(ftp_server)\n",
        "  ftp_session.cwd(dir_name)   \n",
        "  ftp_get_file(ftp_session, file_name)\n",
        "\n",
        "  # upload to google cloud:\n",
        "  blob = bucket.blob(destName+file_name)\n",
        "  blob.upload_from_filename(file_name)"
      ]
    },
    {
      "cell_type": "markdown",
      "metadata": {
        "id": "lHDhBwtKBots"
      },
      "source": [
        "## VVP"
      ]
    },
    {
      "cell_type": "code",
      "execution_count": null,
      "metadata": {
        "colab": {
          "base_uri": "https://localhost:8080/"
        },
        "id": "ebr219OIBp9P",
        "outputId": "85da0090-c20a-48f4-9989-5402793b4b78"
      },
      "outputs": [
        {
          "data": {
            "text/plain": [
              "0"
            ]
          },
          "execution_count": 23,
          "metadata": {},
          "output_type": "execute_result"
        }
      ],
      "source": [
        "# create empty directory for variable\n",
        "path = 'VVP'\n",
        "VAR = path+'_'\n",
        "\n",
        "# Get all files already on GC:\n",
        "filesGC = []\n",
        "for blob in storage_client.list_blobs(bucket, prefix=f'Chris_data/RawData/MAR-ACCESS1.3/{path}/'):\n",
        "  #print(str(blob))\n",
        "  file_ = str(blob)\n",
        "  if search(VAR, file_):\n",
        "    span = search(f\"{VAR}ant(.*?).nc\", file_).span(0)\n",
        "    filesGC.append(file_[span[0]:span[1]])\n",
        "print(f'Number of files already on GC: {len(filesGC)}')\n",
        "\n",
        "# Get all filenames in FTP server\n",
        "ftpFiles = []\n",
        "ftp_session = open_ftp_session(ftp_server)\n",
        "data = ftp_dir_content(ftp_session, dir_name='climato/ckittel/MARv3.11/Marijn/MAR-ACCESS1.3/')\n",
        "for line in data:\n",
        "  if search(VAR, line):\n",
        "    span = search(f\"{VAR}ant(.*?).nc\", line).span(0)\n",
        "    ftpFiles.append(line[span[0]:span[1]])\n",
        "\n",
        "print(f'Number of files on ftp: {len(ftpFiles)}')\n",
        "\n",
        "# Find difference of two lists\n",
        "remainingFiles = list(set(ftpFiles) - set(filesGC))\n",
        "print(f'Remaining files to put on GC: {len(remainingFiles)}')\n",
        "\n",
        "# Copy remaining files from FTP to GC:\n",
        "\n",
        "dir_name  = 'climato/ckittel/MARv3.11/Marijn/MAR-ACCESS1.3/'\n",
        "destName = f'Chris_data/RawData/MAR-ACCESS1.3/{path}/'\n",
        "N = len(remainingFiles)\n",
        "for i in tqdm(range(N)):\n",
        "  file_name = remainingFiles[i]\n",
        "  ftp_session = open_ftp_session(ftp_server)\n",
        "  ftp_session.cwd(dir_name)   \n",
        "  ftp_get_file(ftp_session, file_name)\n",
        "\n",
        "  # upload to google cloud:\n",
        "  blob = bucket.blob(destName+file_name)\n",
        "  blob.upload_from_filename(file_name)"
      ]
    },
    {
      "cell_type": "markdown",
      "metadata": {
        "id": "akgQj4NLStXc"
      },
      "source": [
        "## UUP:"
      ]
    },
    {
      "cell_type": "code",
      "source": [
        "# create empty directory for variable\n",
        "path = 'UUP'\n",
        "VAR = path+'_'\n",
        "\n",
        "# Get all files already on GC:\n",
        "filesGC = []\n",
        "for blob in storage_client.list_blobs(bucket, prefix=f'Chris_data/RawData/MAR-ACCESS1.3/{path}/'):\n",
        "  #print(str(blob))\n",
        "  file_ = str(blob)\n",
        "  if search(VAR, file_):\n",
        "    span = search(f\"{VAR}ant(.*?).nc\", file_).span(0)\n",
        "    filesGC.append(file_[span[0]:span[1]])\n",
        "print(f'Number of files already on GC: {len(filesGC)}')\n",
        "\n",
        "# Get all filenames in FTP server\n",
        "ftpFiles = []\n",
        "ftp_session = open_ftp_session(ftp_server)\n",
        "data = ftp_dir_content(ftp_session, dir_name='climato/ckittel/MARv3.11/Marijn/MAR-ACCESS1.3/')\n",
        "for line in data:\n",
        "  if search(VAR, line):\n",
        "    span = search(f\"{VAR}ant(.*?).nc\", line).span(0)\n",
        "    ftpFiles.append(line[span[0]:span[1]])\n",
        "\n",
        "print(f'Number of files on ftp: {len(ftpFiles)}')\n",
        "\n",
        "# Find difference of two lists\n",
        "remainingFiles = list(set(ftpFiles) - set(filesGC))\n",
        "print(f'Remaining files to put on GC: {len(remainingFiles)}')\n",
        "\n",
        "# Copy remaining files from FTP to GC:\n",
        "\n",
        "dir_name  = 'climato/ckittel/MARv3.11/Marijn/MAR-ACCESS1.3/'\n",
        "destName = 'Chris_data/RawData/MAR-ACCESS1.3/UUP/'\n",
        "N = len(remainingFiles)\n",
        "for i in tqdm(range(N)):\n",
        "  file_name = remainingFiles[i]\n",
        "  ftp_session = open_ftp_session(ftp_server)\n",
        "  ftp_session.cwd(dir_name)   \n",
        "  ftp_get_file(ftp_session, file_name)\n",
        "\n",
        "  # upload to google cloud:\n",
        "  blob = bucket.blob(destName+file_name)\n",
        "  blob.upload_from_filename(file_name)"
      ],
      "metadata": {
        "colab": {
          "base_uri": "https://localhost:8080/",
          "height": 258
        },
        "id": "kOaypeSteYBd",
        "outputId": "fc14c4fa-dfbc-40fa-8a3e-3fa84165ea16"
      },
      "execution_count": null,
      "outputs": [
        {
          "output_type": "stream",
          "name": "stdout",
          "text": [
            "Number of files already on GC: 93\n"
          ]
        },
        {
          "output_type": "error",
          "ename": "NameError",
          "evalue": "ignored",
          "traceback": [
            "\u001b[0;31m---------------------------------------------------------------------------\u001b[0m",
            "\u001b[0;31mNameError\u001b[0m                                 Traceback (most recent call last)",
            "\u001b[0;32m<ipython-input-7-5ff9476906f1>\u001b[0m in \u001b[0;36m<module>\u001b[0;34m()\u001b[0m\n\u001b[1;32m     15\u001b[0m \u001b[0;31m# Get all filenames in FTP server\u001b[0m\u001b[0;34m\u001b[0m\u001b[0;34m\u001b[0m\u001b[0;34m\u001b[0m\u001b[0m\n\u001b[1;32m     16\u001b[0m \u001b[0mftpFiles\u001b[0m \u001b[0;34m=\u001b[0m \u001b[0;34m[\u001b[0m\u001b[0;34m]\u001b[0m\u001b[0;34m\u001b[0m\u001b[0;34m\u001b[0m\u001b[0m\n\u001b[0;32m---> 17\u001b[0;31m \u001b[0mftp_session\u001b[0m \u001b[0;34m=\u001b[0m \u001b[0mopen_ftp_session\u001b[0m\u001b[0;34m(\u001b[0m\u001b[0mftp_server\u001b[0m\u001b[0;34m)\u001b[0m\u001b[0;34m\u001b[0m\u001b[0;34m\u001b[0m\u001b[0m\n\u001b[0m\u001b[1;32m     18\u001b[0m \u001b[0mdata\u001b[0m \u001b[0;34m=\u001b[0m \u001b[0mftp_dir_content\u001b[0m\u001b[0;34m(\u001b[0m\u001b[0mftp_session\u001b[0m\u001b[0;34m,\u001b[0m \u001b[0mdir_name\u001b[0m\u001b[0;34m=\u001b[0m\u001b[0;34m'climato/ckittel/MARv3.11/Marijn/MAR-ACCESS1.3/'\u001b[0m\u001b[0;34m)\u001b[0m\u001b[0;34m\u001b[0m\u001b[0;34m\u001b[0m\u001b[0m\n\u001b[1;32m     19\u001b[0m \u001b[0;32mfor\u001b[0m \u001b[0mline\u001b[0m \u001b[0;32min\u001b[0m \u001b[0mdata\u001b[0m\u001b[0;34m:\u001b[0m\u001b[0;34m\u001b[0m\u001b[0;34m\u001b[0m\u001b[0m\n",
            "\u001b[0;31mNameError\u001b[0m: name 'open_ftp_session' is not defined"
          ]
        }
      ]
    }
  ],
  "metadata": {
    "colab": {
      "name": "ProcessingNcFiles.ipynb",
      "toc_visible": true,
      "provenance": [],
      "authorship_tag": "ABX9TyNCdUabHvqnq8K7Kge3K8NP",
      "include_colab_link": true
    },
    "kernelspec": {
      "display_name": "Python 3",
      "name": "python3"
    },
    "language_info": {
      "name": "python"
    }
  },
  "nbformat": 4,
  "nbformat_minor": 0
}