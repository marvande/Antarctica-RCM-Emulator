{
  "cells": [
    {
      "cell_type": "markdown",
      "metadata": {
        "id": "view-in-github",
        "colab_type": "text"
      },
      "source": [
        "<a href=\"https://colab.research.google.com/github/marvande/master-thesis/blob/main/ProcessingNcFiles.ipynb\" target=\"_parent\"><img src=\"https://colab.research.google.com/assets/colab-badge.svg\" alt=\"Open In Colab\"/></a>"
      ]
    },
    {
      "cell_type": "markdown",
      "metadata": {
        "id": "kaPStUoXlQcY"
      },
      "source": [
        "# Processing google cloud files of all years into one NC file"
      ]
    },
    {
      "cell_type": "markdown",
      "metadata": {
        "id": "zuS5yoWdlVt9"
      },
      "source": [
        "Authenticate"
      ]
    },
    {
      "cell_type": "code",
      "execution_count": 1,
      "metadata": {
        "colab": {
          "base_uri": "https://localhost:8080/"
        },
        "id": "EGlYzcqaeQn6",
        "outputId": "d6c76a20-2b9f-4286-f112-173b72208a1a"
      },
      "outputs": [
        {
          "output_type": "stream",
          "name": "stdout",
          "text": [
            "\u001b[1;33mWARNING:\u001b[0m You do not appear to have access to project [ee-iceshelf-gee4geo] or it does not exist.\n",
            "Are you sure you wish to set property [core/project] to ee-iceshelf-gee4geo?\n",
            "\n",
            "Do you want to continue (Y/n)?  y\n",
            "\n",
            "Updated property [core/project].\n",
            "Copying gs://ee-downscalingclimatemodels/test.txt...\n",
            "/ [1 files][   13.0 B/   13.0 B]                                                \n",
            "Operation completed over 1 objects/13.0 B.                                       \n",
            "AIAIAIAIAIAIA"
          ]
        }
      ],
      "source": [
        "# Authenticate\n",
        "from google.colab import auth\n",
        "auth.authenticate_user()\n",
        "# Give our project ID\n",
        "project_id = 'ee-iceshelf-gee4geo'\n",
        "!gcloud config set project {project_id}\n",
        "# Download the file from a given Google Cloud Storage bucket.\n",
        "!gsutil cp gs://ee-downscalingclimatemodels/test.txt /tmp/gsutil_download.txt\n",
        "# Print the result to make sure the transfer worked.\n",
        "!cat /tmp/gsutil_download.txt "
      ]
    },
    {
      "cell_type": "markdown",
      "metadata": {
        "id": "RhgbYn9klXdG"
      },
      "source": [
        "## Imports"
      ]
    },
    {
      "cell_type": "code",
      "execution_count": 2,
      "metadata": {
        "colab": {
          "base_uri": "https://localhost:8080/"
        },
        "id": "OlA1el3KKKF3",
        "outputId": "f99a9ec6-322b-466c-f59a-cb224fe0b46a"
      },
      "outputs": [
        {
          "output_type": "stream",
          "name": "stdout",
          "text": [
            "Collecting zarr\n",
            "  Downloading zarr-2.11.1-py3-none-any.whl (153 kB)\n",
            "\u001b[?25l\r\u001b[K     |██▏                             | 10 kB 21.0 MB/s eta 0:00:01\r\u001b[K     |████▎                           | 20 kB 25.3 MB/s eta 0:00:01\r\u001b[K     |██████▍                         | 30 kB 30.6 MB/s eta 0:00:01\r\u001b[K     |████████▌                       | 40 kB 15.4 MB/s eta 0:00:01\r\u001b[K     |██████████▊                     | 51 kB 12.2 MB/s eta 0:00:01\r\u001b[K     |████████████▉                   | 61 kB 13.7 MB/s eta 0:00:01\r\u001b[K     |███████████████                 | 71 kB 13.4 MB/s eta 0:00:01\r\u001b[K     |█████████████████               | 81 kB 14.6 MB/s eta 0:00:01\r\u001b[K     |███████████████████▎            | 92 kB 16.0 MB/s eta 0:00:01\r\u001b[K     |█████████████████████▍          | 102 kB 14.6 MB/s eta 0:00:01\r\u001b[K     |███████████████████████▌        | 112 kB 14.6 MB/s eta 0:00:01\r\u001b[K     |█████████████████████████▋      | 122 kB 14.6 MB/s eta 0:00:01\r\u001b[K     |███████████████████████████▉    | 133 kB 14.6 MB/s eta 0:00:01\r\u001b[K     |██████████████████████████████  | 143 kB 14.6 MB/s eta 0:00:01\r\u001b[K     |████████████████████████████████| 153 kB 14.6 MB/s \n",
            "\u001b[?25hRequirement already satisfied: xarray in /usr/local/lib/python3.7/dist-packages (0.18.2)\n",
            "Collecting fsspec\n",
            "  Downloading fsspec-2022.2.0-py3-none-any.whl (134 kB)\n",
            "\u001b[?25l\r\u001b[K     |██▍                             | 10 kB 34.6 MB/s eta 0:00:01\r\u001b[K     |████▉                           | 20 kB 41.8 MB/s eta 0:00:01\r\u001b[K     |███████▎                        | 30 kB 50.8 MB/s eta 0:00:01\r\u001b[K     |█████████▊                      | 40 kB 57.1 MB/s eta 0:00:01\r\u001b[K     |████████████▏                   | 51 kB 54.3 MB/s eta 0:00:01\r\u001b[K     |██████████████▋                 | 61 kB 54.5 MB/s eta 0:00:01\r\u001b[K     |█████████████████               | 71 kB 55.2 MB/s eta 0:00:01\r\u001b[K     |███████████████████▍            | 81 kB 55.6 MB/s eta 0:00:01\r\u001b[K     |█████████████████████▉          | 92 kB 56.6 MB/s eta 0:00:01\r\u001b[K     |████████████████████████▎       | 102 kB 57.0 MB/s eta 0:00:01\r\u001b[K     |██████████████████████████▊     | 112 kB 57.0 MB/s eta 0:00:01\r\u001b[K     |█████████████████████████████▏  | 122 kB 57.0 MB/s eta 0:00:01\r\u001b[K     |███████████████████████████████▋| 133 kB 57.0 MB/s eta 0:00:01\r\u001b[K     |████████████████████████████████| 134 kB 57.0 MB/s \n",
            "\u001b[?25hCollecting gcsfs\n",
            "  Downloading gcsfs-2022.2.0-py2.py3-none-any.whl (24 kB)\n",
            "Collecting numcodecs>=0.6.4\n",
            "  Downloading numcodecs-0.9.1-cp37-cp37m-manylinux2010_x86_64.whl (6.2 MB)\n",
            "\u001b[K     |████████████████████████████████| 6.2 MB 51.1 MB/s \n",
            "\u001b[?25hRequirement already satisfied: numpy>=1.7 in /usr/local/lib/python3.7/dist-packages (from zarr) (1.21.5)\n",
            "Collecting asciitree\n",
            "  Downloading asciitree-0.3.3.tar.gz (4.0 kB)\n",
            "Collecting fasteners\n",
            "  Downloading fasteners-0.17.3-py3-none-any.whl (18 kB)\n",
            "Requirement already satisfied: pandas>=1.0 in /usr/local/lib/python3.7/dist-packages (from xarray) (1.3.5)\n",
            "Requirement already satisfied: setuptools>=40.4 in /usr/local/lib/python3.7/dist-packages (from xarray) (57.4.0)\n",
            "Requirement already satisfied: python-dateutil>=2.7.3 in /usr/local/lib/python3.7/dist-packages (from pandas>=1.0->xarray) (2.8.2)\n",
            "Requirement already satisfied: pytz>=2017.3 in /usr/local/lib/python3.7/dist-packages (from pandas>=1.0->xarray) (2018.9)\n",
            "Requirement already satisfied: six>=1.5 in /usr/local/lib/python3.7/dist-packages (from python-dateutil>=2.7.3->pandas>=1.0->xarray) (1.15.0)\n",
            "Requirement already satisfied: google-auth-oauthlib in /usr/local/lib/python3.7/dist-packages (from gcsfs) (0.4.6)\n",
            "Requirement already satisfied: requests in /usr/local/lib/python3.7/dist-packages (from gcsfs) (2.23.0)\n",
            "Requirement already satisfied: google-auth>=1.2 in /usr/local/lib/python3.7/dist-packages (from gcsfs) (1.35.0)\n",
            "Requirement already satisfied: decorator>4.1.2 in /usr/local/lib/python3.7/dist-packages (from gcsfs) (4.4.2)\n",
            "Requirement already satisfied: google-cloud-storage in /usr/local/lib/python3.7/dist-packages (from gcsfs) (1.18.1)\n",
            "Collecting aiohttp<4\n",
            "  Downloading aiohttp-3.8.1-cp37-cp37m-manylinux_2_5_x86_64.manylinux1_x86_64.manylinux_2_12_x86_64.manylinux2010_x86_64.whl (1.1 MB)\n",
            "\u001b[K     |████████████████████████████████| 1.1 MB 50.9 MB/s \n",
            "\u001b[?25hCollecting yarl<2.0,>=1.0\n",
            "  Downloading yarl-1.7.2-cp37-cp37m-manylinux_2_5_x86_64.manylinux1_x86_64.manylinux_2_12_x86_64.manylinux2010_x86_64.whl (271 kB)\n",
            "\u001b[K     |████████████████████████████████| 271 kB 73.3 MB/s \n",
            "\u001b[?25hCollecting asynctest==0.13.0\n",
            "  Downloading asynctest-0.13.0-py3-none-any.whl (26 kB)\n",
            "Requirement already satisfied: attrs>=17.3.0 in /usr/local/lib/python3.7/dist-packages (from aiohttp<4->gcsfs) (21.4.0)\n",
            "Collecting aiosignal>=1.1.2\n",
            "  Downloading aiosignal-1.2.0-py3-none-any.whl (8.2 kB)\n",
            "Collecting frozenlist>=1.1.1\n",
            "  Downloading frozenlist-1.3.0-cp37-cp37m-manylinux_2_5_x86_64.manylinux1_x86_64.manylinux_2_17_x86_64.manylinux2014_x86_64.whl (144 kB)\n",
            "\u001b[K     |████████████████████████████████| 144 kB 65.7 MB/s \n",
            "\u001b[?25hCollecting async-timeout<5.0,>=4.0.0a3\n",
            "  Downloading async_timeout-4.0.2-py3-none-any.whl (5.8 kB)\n",
            "Requirement already satisfied: typing-extensions>=3.7.4 in /usr/local/lib/python3.7/dist-packages (from aiohttp<4->gcsfs) (3.10.0.2)\n",
            "Requirement already satisfied: charset-normalizer<3.0,>=2.0 in /usr/local/lib/python3.7/dist-packages (from aiohttp<4->gcsfs) (2.0.12)\n",
            "Collecting multidict<7.0,>=4.5\n",
            "  Downloading multidict-6.0.2-cp37-cp37m-manylinux_2_17_x86_64.manylinux2014_x86_64.whl (94 kB)\n",
            "\u001b[K     |████████████████████████████████| 94 kB 3.1 MB/s \n",
            "\u001b[?25hRequirement already satisfied: rsa<5,>=3.1.4 in /usr/local/lib/python3.7/dist-packages (from google-auth>=1.2->gcsfs) (4.8)\n",
            "Requirement already satisfied: cachetools<5.0,>=2.0.0 in /usr/local/lib/python3.7/dist-packages (from google-auth>=1.2->gcsfs) (4.2.4)\n",
            "Requirement already satisfied: pyasn1-modules>=0.2.1 in /usr/local/lib/python3.7/dist-packages (from google-auth>=1.2->gcsfs) (0.2.8)\n",
            "Requirement already satisfied: pyasn1<0.5.0,>=0.4.6 in /usr/local/lib/python3.7/dist-packages (from pyasn1-modules>=0.2.1->google-auth>=1.2->gcsfs) (0.4.8)\n",
            "Requirement already satisfied: idna>=2.0 in /usr/local/lib/python3.7/dist-packages (from yarl<2.0,>=1.0->aiohttp<4->gcsfs) (2.10)\n",
            "Requirement already satisfied: requests-oauthlib>=0.7.0 in /usr/local/lib/python3.7/dist-packages (from google-auth-oauthlib->gcsfs) (1.3.1)\n",
            "Requirement already satisfied: oauthlib>=3.0.0 in /usr/local/lib/python3.7/dist-packages (from requests-oauthlib>=0.7.0->google-auth-oauthlib->gcsfs) (3.2.0)\n",
            "Requirement already satisfied: certifi>=2017.4.17 in /usr/local/lib/python3.7/dist-packages (from requests->gcsfs) (2021.10.8)\n",
            "Requirement already satisfied: chardet<4,>=3.0.2 in /usr/local/lib/python3.7/dist-packages (from requests->gcsfs) (3.0.4)\n",
            "Requirement already satisfied: urllib3!=1.25.0,!=1.25.1,<1.26,>=1.21.1 in /usr/local/lib/python3.7/dist-packages (from requests->gcsfs) (1.24.3)\n",
            "Requirement already satisfied: google-cloud-core<2.0dev,>=1.0.0 in /usr/local/lib/python3.7/dist-packages (from google-cloud-storage->gcsfs) (1.0.3)\n",
            "Requirement already satisfied: google-resumable-media<0.5.0dev,>=0.3.1 in /usr/local/lib/python3.7/dist-packages (from google-cloud-storage->gcsfs) (0.4.1)\n",
            "Requirement already satisfied: google-api-core<2.0.0dev,>=1.14.0 in /usr/local/lib/python3.7/dist-packages (from google-cloud-core<2.0dev,>=1.0.0->google-cloud-storage->gcsfs) (1.26.3)\n",
            "Requirement already satisfied: protobuf>=3.12.0 in /usr/local/lib/python3.7/dist-packages (from google-api-core<2.0.0dev,>=1.14.0->google-cloud-core<2.0dev,>=1.0.0->google-cloud-storage->gcsfs) (3.17.3)\n",
            "Requirement already satisfied: packaging>=14.3 in /usr/local/lib/python3.7/dist-packages (from google-api-core<2.0.0dev,>=1.14.0->google-cloud-core<2.0dev,>=1.0.0->google-cloud-storage->gcsfs) (21.3)\n",
            "Requirement already satisfied: googleapis-common-protos<2.0dev,>=1.6.0 in /usr/local/lib/python3.7/dist-packages (from google-api-core<2.0.0dev,>=1.14.0->google-cloud-core<2.0dev,>=1.0.0->google-cloud-storage->gcsfs) (1.56.0)\n",
            "Requirement already satisfied: pyparsing!=3.0.5,>=2.0.2 in /usr/local/lib/python3.7/dist-packages (from packaging>=14.3->google-api-core<2.0.0dev,>=1.14.0->google-cloud-core<2.0dev,>=1.0.0->google-cloud-storage->gcsfs) (3.0.7)\n",
            "Building wheels for collected packages: asciitree\n",
            "  Building wheel for asciitree (setup.py) ... \u001b[?25l\u001b[?25hdone\n",
            "  Created wheel for asciitree: filename=asciitree-0.3.3-py3-none-any.whl size=5050 sha256=0f77abbdcb692c56b8b43b34a08e6f069cdb139cd525e101420924810ae121cf\n",
            "  Stored in directory: /root/.cache/pip/wheels/12/1c/38/0def51e15add93bff3f4bf9c248b94db0839b980b8535e72a0\n",
            "Successfully built asciitree\n",
            "Installing collected packages: multidict, frozenlist, yarl, asynctest, async-timeout, aiosignal, numcodecs, fsspec, fasteners, asciitree, aiohttp, zarr, gcsfs\n",
            "Successfully installed aiohttp-3.8.1 aiosignal-1.2.0 asciitree-0.3.3 async-timeout-4.0.2 asynctest-0.13.0 fasteners-0.17.3 frozenlist-1.3.0 fsspec-2022.2.0 gcsfs-2022.2.0 multidict-6.0.2 numcodecs-0.9.1 yarl-1.7.2 zarr-2.11.1\n"
          ]
        }
      ],
      "source": [
        "! pip install zarr xarray fsspec gcsfs"
      ]
    },
    {
      "cell_type": "code",
      "execution_count": 3,
      "metadata": {
        "id": "Lt1yXydueTmF"
      },
      "outputs": [],
      "source": [
        "import xarray as xr\n",
        "import zarr\n",
        "import os\n",
        "import pandas as pd\n",
        "from os import listdir\n",
        "from os.path import isfile, join\n",
        "\n",
        "import ftplib\n",
        "import sys\n",
        "from re import search\n",
        "from tqdm import tqdm \n",
        "import glob\n",
        "\n",
        "import fsspec\n",
        "import gcsfs"
      ]
    },
    {
      "cell_type": "markdown",
      "metadata": {
        "id": "qcCkHe1LlZID"
      },
      "source": [
        "## Setting up"
      ]
    },
    {
      "cell_type": "code",
      "execution_count": 4,
      "metadata": {
        "id": "DPPnWUfi8XFl"
      },
      "outputs": [],
      "source": [
        "PROJECT = 'ee-iceshelf-gee4geo'\n",
        "BUCKET = \"ee-downscalingclimatemodels\""
      ]
    },
    {
      "cell_type": "code",
      "execution_count": 5,
      "metadata": {
        "id": "GCAZeQISEfIQ"
      },
      "outputs": [],
      "source": [
        "os.environ[\"GCLOUD_PROJECT\"] = PROJECT"
      ]
    },
    {
      "cell_type": "code",
      "execution_count": 6,
      "metadata": {
        "id": "Vk3XvTzp8Y52"
      },
      "outputs": [],
      "source": [
        "# Google cloud\n",
        "from google.cloud import storage\n",
        "storage_client = storage.Client()\n",
        "bucket = storage_client.bucket(BUCKET)"
      ]
    },
    {
      "cell_type": "code",
      "execution_count": 7,
      "metadata": {
        "id": "uEwmqt1zAXht"
      },
      "outputs": [],
      "source": [
        "def empty_dir(pathLocal):\n",
        "  # delete all files as precaution\n",
        "  for file_name in os.listdir(pathLocal):\n",
        "      # construct full file path\n",
        "      file = pathLocal + file_name\n",
        "      if os.path.isfile(file):\n",
        "          os.remove(file)\n",
        "\n",
        "def create_dir(path):\n",
        "  # create empty directory for variable\n",
        "  if not os.path.exists(path):\n",
        "      os.makedirs(path)\n",
        "\n",
        "def listFilesGC(path, VAR):\n",
        "  # Get all files already on GC:\n",
        "  filesGC = []\n",
        "  for blob in storage_client.list_blobs(bucket, prefix=f'Chris_data/RawData/MAR-ACCESS1.3/{path}/'):\n",
        "    #print(str(blob))\n",
        "    file_ = str(blob)\n",
        "    if search(VAR, file_):\n",
        "      span = search(f\"{VAR}ant(.*?).nc\", file_).span(0)\n",
        "      filesGC.append(file_[span[0]:span[1]])\n",
        "  return filesGC\n",
        "\n",
        "def downloadFromGC(destName, pathLocal, filesGC):\n",
        "  N = len(filesGC)\n",
        "  for i in tqdm(range(N)):\n",
        "    file_name = filesGC[i]\n",
        "    # Download from GC locally\n",
        "    blob = bucket.blob(destName + file_name)\n",
        "    blob.download_to_filename(pathLocal+file_name)\n",
        "\n",
        "def filesInDir(pathLocal):\n",
        "  return sorted([f for f in listdir(pathLocal) if isfile(join(pathLocal, f))])\n",
        "\n",
        "def ZarrPerDecade(onlyfiles, NumDecades, pathLocal, pathLocalZarr, pathGC, m = 10):\n",
        "  for j in tqdm(range(NumDecades)):\n",
        "    # open first file\n",
        "    f0 = onlyfiles[j*m]\n",
        "    df = xr.open_dataset(pathLocal+f0)\n",
        "    if j < NumDecades-1:\n",
        "      for f in onlyfiles[(j*m)+1:m*(j+1)]:\n",
        "        df2 = xr.open_dataset(pathLocal+f)\n",
        "        df = df.merge(df2)\n",
        "    else:\n",
        "      for f in onlyfiles[(j*m)+1:]:\n",
        "        df2 = xr.open_dataset(pathLocal+f)\n",
        "        df = df.merge(df2)\n",
        "    # upload to GC\n",
        "    df.to_zarr('gs://'+pathGC+f'{path}_decade_{j+1}.zarr', mode = 'w', consolidated = True)"
      ]
    },
    {
      "cell_type": "markdown",
      "metadata": {
        "id": "U9RTbodce6gR"
      },
      "source": [
        "# Download files from google cloud"
      ]
    },
    {
      "cell_type": "markdown",
      "metadata": {
        "id": "Ix0WWKNulKe7"
      },
      "source": [
        "Copy all files from the google cloud bucket:\n",
        "\n",
        "Other way of doing it:\n",
        "\n",
        "`! gsutil -m cp gs://ee-downscalingclimatemodels/Chris_data/RawData/MAR-ACCESS1.3/RH/* /tmp/RH/`\n",
        "\n",
        "and upload to google cloud\n",
        "` !gsutil -m cp -r /tmp/CC_zarr/CC*.zarr gs://ee-downscalingclimatemodels/Chris_data/RawData/MAR-ACCESS1.3/zarr_data/CC_zarr/`"
      ]
    },
    {
      "cell_type": "code",
      "execution_count": 8,
      "metadata": {
        "id": "cVc6U6anm2xs"
      },
      "outputs": [],
      "source": [
        "def CreateDecadeData(path, VAR, m = 10):\n",
        "  pathLocal = f'/tmp/{path}/'\n",
        "  pathLocalZarr = f'/tmp/{path}_zarr/'\n",
        "\n",
        "  # create empty dir:\n",
        "  create_dir(pathLocal)\n",
        "  create_dir(pathLocalZarr)\n",
        "\n",
        "  # empty dir out of precaution\n",
        "  empty_dir(pathLocal)\n",
        "  empty_dir(pathLocalZarr)\n",
        "\n",
        "  # list files on GC\n",
        "  filesGC = listFilesGC(path, VAR)\n",
        "  print(f'Number of files already on GC: {len(filesGC)}')\n",
        "\n",
        "  # Download files from GC\n",
        "  destName = f'Chris_data/RawData/MAR-ACCESS1.3/{path}/'\n",
        "  print('Downloading files from GC')\n",
        "  downloadFromGC(destName, pathLocal, filesGC)\n",
        "\n",
        "  # Get all file names locally\n",
        "  onlyfiles = filesInDir(pathLocal)\n",
        "  print(f'Number of files downloaded from GC: {len(onlyfiles)}')\n",
        "  print('Examples of files: \\n {}'.format(onlyfiles[0]))\n",
        "\n",
        "  # Create a zarr file per decade:\n",
        "  pathZarr = f'ee-downscalingclimatemodels/Chris_data/RawData/MAR-ACCESS1.3/zarr_data/{path}_zarr/'\n",
        "   # num years per zarr folder\n",
        "  NumDecades = int(len(onlyfiles)/m)\n",
        "  print(f'Number of decades: {NumDecades}, number of files: {len(onlyfiles)}')\n",
        "  print(f'Saving zarr files at: {pathZarr}')\n",
        "  ZarrPerDecade(onlyfiles, NumDecades, pathLocal, pathLocalZarr, pathZarr, m)\n",
        "\n",
        "  # empty dir out of precaution\n",
        "  empty_dir(pathLocal)\n",
        "  empty_dir(pathLocalZarr)"
      ]
    },
    {
      "cell_type": "markdown",
      "source": [
        "## Variables:"
      ],
      "metadata": {
        "id": "8VflDVpSPYHF"
      }
    },
    {
      "cell_type": "code",
      "execution_count": null,
      "metadata": {
        "id": "5KYoZEqZnPe-"
      },
      "outputs": [],
      "source": [
        "# RH (DONE)\n",
        "path = 'RH'\n",
        "VAR = path+'_'\n",
        "CreateDecadeData(path, VAR)"
      ]
    },
    {
      "cell_type": "code",
      "execution_count": null,
      "metadata": {
        "id": "C9w5m3YcnSTg"
      },
      "outputs": [],
      "source": [
        "# CC (DONE)\n",
        "path = 'CC'\n",
        "VAR = path+'_'\n",
        "CreateDecadeData(path, VAR)"
      ]
    },
    {
      "cell_type": "code",
      "execution_count": null,
      "metadata": {
        "colab": {
          "base_uri": "https://localhost:8080/"
        },
        "id": "cOhlUwDOn1_4",
        "outputId": "104e4466-0aac-413f-bbe4-07bbc34c80e4"
      },
      "outputs": [
        {
          "name": "stdout",
          "output_type": "stream",
          "text": [
            "Number of files already on GC: 121\n"
          ]
        },
        {
          "name": "stderr",
          "output_type": "stream",
          "text": [
            "100%|██████████| 121/121 [01:15<00:00,  1.61it/s]\n"
          ]
        },
        {
          "name": "stdout",
          "output_type": "stream",
          "text": [
            "Number of files downloaded from GC: 121\n",
            "Examples of files: \n",
            " RU_ant-35km_ACCESS1.3_rcp8.5_r1i1p1_ULg-MAR311_v1_day_19800101-19801231.nc\n",
            "Saving zarr files at: ee-downscalingclimatemodels/Chris_data/RawData/MAR-ACCESS1.3/zarr_data/RU_zarr/\n",
            "Number of decades: 12, number of files: 121\n"
          ]
        },
        {
          "name": "stderr",
          "output_type": "stream",
          "text": [
            "100%|██████████| 12/12 [09:43<00:00, 48.65s/it]\n"
          ]
        }
      ],
      "source": [
        "# RU (DONE)\n",
        "path = 'RU'\n",
        "VAR = path+'_'\n",
        "CreateDecadeData(path, VAR)"
      ]
    },
    {
      "cell_type": "code",
      "execution_count": 9,
      "metadata": {
        "colab": {
          "base_uri": "https://localhost:8080/"
        },
        "id": "HmA2MTqVnL0L",
        "outputId": "9563c211-2899-435f-c6fb-bb8183c3d9ba"
      },
      "outputs": [
        {
          "output_type": "stream",
          "name": "stdout",
          "text": [
            "Number of files already on GC: 121\n",
            "Downloading files from GC\n"
          ]
        },
        {
          "output_type": "stream",
          "name": "stderr",
          "text": [
            "100%|██████████| 121/121 [06:50<00:00,  3.39s/it]\n"
          ]
        },
        {
          "output_type": "stream",
          "name": "stdout",
          "text": [
            "Number of files downloaded from GC: 121\n",
            "Examples of files: \n",
            " VVP_ant-35km_ACCESS1.3_rcp8.5_r1i1p1_ULg-MAR311_v1_day_19800101-19801231.nc\n",
            "Number of decades: 12, number of files: 121\n",
            "Saving zarr files at: ee-downscalingclimatemodels/Chris_data/RawData/MAR-ACCESS1.3/zarr_data/VVP_zarr/\n"
          ]
        },
        {
          "output_type": "stream",
          "name": "stderr",
          "text": [
            "100%|██████████| 12/12 [27:19<00:00, 136.64s/it]\n"
          ]
        }
      ],
      "source": [
        "# VVP\n",
        "path = 'VVP'\n",
        "VAR = path+'_'\n",
        "CreateDecadeData(path, VAR, m = 10)"
      ]
    },
    {
      "cell_type": "code",
      "execution_count": null,
      "metadata": {
        "colab": {
          "base_uri": "https://localhost:8080/"
        },
        "id": "tVGc0uddtINF",
        "outputId": "16e63852-7c12-4a89-ae05-018854c3c3c4"
      },
      "outputs": [
        {
          "name": "stdout",
          "output_type": "stream",
          "text": [
            "Number of files already on GC: 120\n",
            "Downloading files from GC\n"
          ]
        },
        {
          "name": "stderr",
          "output_type": "stream",
          "text": [
            "100%|██████████| 120/120 [01:06<00:00,  1.81it/s]\n"
          ]
        },
        {
          "name": "stdout",
          "output_type": "stream",
          "text": [
            "Number of files downloaded from GC: 120\n",
            "Examples of files: \n",
            " LWD_ant-35km_ACCESS1.3_rcp8.5_r1i1p1_ULg-MAR311_v1_day_19800101-19801231.nc\n",
            "Number of decades: 12, number of files: 120\n",
            "Saving zarr files at: ee-downscalingclimatemodels/Chris_data/RawData/MAR-ACCESS1.3/zarr_data/LWD_zarr/\n"
          ]
        },
        {
          "name": "stderr",
          "output_type": "stream",
          "text": [
            "100%|██████████| 12/12 [03:26<00:00, 17.19s/it]\n"
          ]
        }
      ],
      "source": [
        "# LWD\n",
        "path = 'LWD'\n",
        "VAR = path+'_'\n",
        "CreateDecadeData(path, VAR, m = 10)"
      ]
    },
    {
      "cell_type": "code",
      "execution_count": null,
      "metadata": {
        "colab": {
          "base_uri": "https://localhost:8080/"
        },
        "id": "k-unrSaXtKwY",
        "outputId": "517347fe-c2e4-4c95-a06d-0c067218d80d"
      },
      "outputs": [
        {
          "name": "stdout",
          "output_type": "stream",
          "text": [
            "Number of files already on GC: 121\n",
            "Downloading files from GC\n"
          ]
        },
        {
          "name": "stderr",
          "output_type": "stream",
          "text": [
            "100%|██████████| 121/121 [01:03<00:00,  1.91it/s]\n"
          ]
        },
        {
          "name": "stdout",
          "output_type": "stream",
          "text": [
            "Number of files downloaded from GC: 121\n",
            "Examples of files: \n",
            " ME_ant-35km_ACCESS1.3_rcp8.5_r1i1p1_ULg-MAR311_v1_day_19800101-19801231.nc\n",
            "Number of decades: 12, number of files: 121\n",
            "Saving zarr files at: ee-downscalingclimatemodels/Chris_data/RawData/MAR-ACCESS1.3/zarr_data/ME_zarr/\n"
          ]
        },
        {
          "name": "stderr",
          "output_type": "stream",
          "text": [
            "100%|██████████| 12/12 [03:31<00:00, 17.64s/it]\n"
          ]
        }
      ],
      "source": [
        "# ME\n",
        "path = 'ME'\n",
        "VAR = path+'_'\n",
        "CreateDecadeData(path, VAR, m = 10)"
      ]
    },
    {
      "cell_type": "code",
      "execution_count": 10,
      "metadata": {
        "id": "Q68-TED6mXwY",
        "colab": {
          "base_uri": "https://localhost:8080/"
        },
        "outputId": "d156d200-5f21-47ae-8751-76cb0faaef0d"
      },
      "outputs": [
        {
          "output_type": "stream",
          "name": "stdout",
          "text": [
            "Number of files already on GC: 96\n",
            "Downloading files from GC\n"
          ]
        },
        {
          "output_type": "stream",
          "name": "stderr",
          "text": [
            "100%|██████████| 96/96 [06:27<00:00,  4.04s/it]\n"
          ]
        },
        {
          "output_type": "stream",
          "name": "stdout",
          "text": [
            "Number of files downloaded from GC: 96\n",
            "Examples of files: \n",
            " UUP_ant-35km_ACCESS1.3_rcp8.5_r1i1p1_ULg-MAR311_v1_day_19820101-19821231.nc\n",
            "Number of decades: 9, number of files: 96\n",
            "Saving zarr files at: ee-downscalingclimatemodels/Chris_data/RawData/MAR-ACCESS1.3/zarr_data/UUP_zarr/\n"
          ]
        },
        {
          "output_type": "stream",
          "name": "stderr",
          "text": [
            "100%|██████████| 9/9 [21:38<00:00, 144.30s/it]\n"
          ]
        }
      ],
      "source": [
        "# UUP\n",
        "path = 'UUP'\n",
        "VAR = path+'_'\n",
        "CreateDecadeData(path, VAR, m = 10)"
      ]
    },
    {
      "cell_type": "code",
      "execution_count": 11,
      "metadata": {
        "id": "qSVhUcvQmZMI",
        "colab": {
          "base_uri": "https://localhost:8080/"
        },
        "outputId": "981d8287-0621-4b7d-ccdc-5b13b025c89c"
      },
      "outputs": [
        {
          "output_type": "stream",
          "name": "stdout",
          "text": [
            "Number of files already on GC: 121\n",
            "Downloading files from GC\n"
          ]
        },
        {
          "output_type": "stream",
          "name": "stderr",
          "text": [
            "100%|██████████| 121/121 [06:12<00:00,  3.08s/it]\n"
          ]
        },
        {
          "output_type": "stream",
          "name": "stdout",
          "text": [
            "Number of files downloaded from GC: 121\n",
            "Examples of files: \n",
            " QQP_ant-35km_ACCESS1.3_rcp8.5_r1i1p1_ULg-MAR311_v1_day_19800101-19801231.nc\n",
            "Number of decades: 12, number of files: 121\n",
            "Saving zarr files at: ee-downscalingclimatemodels/Chris_data/RawData/MAR-ACCESS1.3/zarr_data/QQP_zarr/\n"
          ]
        },
        {
          "output_type": "stream",
          "name": "stderr",
          "text": [
            "100%|██████████| 12/12 [27:04<00:00, 135.41s/it]\n"
          ]
        }
      ],
      "source": [
        "# QQP\n",
        "path = 'QQP'\n",
        "VAR = path+'_'\n",
        "CreateDecadeData(path, VAR, m = 10)"
      ]
    },
    {
      "cell_type": "markdown",
      "metadata": {
        "id": "3UPQlco8heWu"
      },
      "source": [
        "# FTP download files and move to google cloud"
      ]
    },
    {
      "cell_type": "markdown",
      "metadata": {
        "id": "JadKBSJYUE08"
      },
      "source": [
        "## Prepare ftp session:"
      ]
    },
    {
      "cell_type": "code",
      "execution_count": 10,
      "metadata": {
        "colab": {
          "base_uri": "https://localhost:8080/",
          "height": 35
        },
        "id": "GAgkgKyOhrUK",
        "outputId": "0ccfaa6c-3b55-45fe-a401-21d3982606d1"
      },
      "outputs": [
        {
          "output_type": "execute_result",
          "data": {
            "text/plain": [
              "'221 Goodbye.'"
            ],
            "application/vnd.google.colaboratory.intrinsic+json": {
              "type": "string"
            }
          },
          "metadata": {},
          "execution_count": 10
        }
      ],
      "source": [
        "# test connection to server:\n",
        "ftp_server = 'ftp.climato.be'\n",
        "ftp_session= ftplib.FTP(ftp_server)\n",
        "ftp_session.login()\n",
        "ftp_session.quit()"
      ]
    },
    {
      "cell_type": "code",
      "execution_count": 11,
      "metadata": {
        "id": "PnrsF2dnhyVK"
      },
      "outputs": [],
      "source": [
        "import time\n",
        "import random\n",
        "randSleep = random.randint(0, 3)\n",
        "\n",
        "# Write a function that initiates a FTP session\n",
        "def open_ftp_session(ftp_server):\n",
        "    \"\"\"\n",
        "       Open a ftp session given the server ftp address,\n",
        "       the user's ID and the user's password.\n",
        "       \n",
        "       @param ftp_server: name of the ftp server (string)\n",
        "       @param my_userid:  user ID on the ftp server (string)\n",
        "       @param my_passwd:  user password on the ftp server (string)\n",
        "    \"\"\"\n",
        "    ftp_session = ftplib.FTP(ftp_server)\n",
        "    ftp_session.login()\n",
        "    return ftp_session\n",
        "\n",
        "\n",
        "def ftp_dir_content(ftp_session, dir_name=None):\n",
        "    \"\"\"\n",
        "       List the content of a diirectory in a ftp server.\n",
        "       If the directory is not provided, will list the content\n",
        "       of the top directory.\n",
        "       \n",
        "       @param ftp_session: ftp session object\n",
        "       @param dir_name:    name of the directory you want to access (string)\n",
        "        \n",
        "       Returned Value:\n",
        "          - List of directories and files \n",
        "           (similar to the Unix command 'ls -l')\n",
        "    \"\"\" \n",
        "    data = []\n",
        "    if dir_name != None:\n",
        "        # Change directory\n",
        "        ftp_session.cwd(dir_name)\n",
        "    # Get the list of files\n",
        "    ftp_session.dir(data.append)\n",
        "    return data\n",
        "\n",
        "def ftp_get_file(ftp_session, file_name):\n",
        "    \"\"\"\n",
        "         Get a file from a ftp server\n",
        "         @param ftp_session: ftp session object\n",
        "         @param file_name: name of the file you want to download  \n",
        "    \"\"\"\n",
        "    try:\n",
        "        ftp_session.retrbinary(\"RETR \" + file_name ,open(file_name, 'wb').write)\n",
        "    except:\n",
        "        print(\"Error - Cannot obtain file: \"+ file_name)\n",
        "\n",
        "def listFilesFTP(ftp_server, VAR):\n",
        "  ftpFiles = []\n",
        "  ftp_session = open_ftp_session(ftp_server)\n",
        "  data = ftp_dir_content(ftp_session, dir_name='climato/ckittel/MARv3.11/Marijn/MAR-ACCESS1.3/')\n",
        "  for line in data:\n",
        "    if search(VAR, line):\n",
        "      span = search(f\"{VAR}ant(.*?).nc\", line).span(0)\n",
        "      ftpFiles.append(line[span[0]:span[1]])\n",
        "  return ftpFiles\n",
        "\n",
        "def copyFTP_GC(path, remainingFiles, ftp_server):\n",
        "  # Copy remaining files from FTP to GC:\n",
        "  dir_name  = 'climato/ckittel/MARv3.11/Marijn/MAR-ACCESS1.3/'\n",
        "  destName = f'Chris_data/RawData/MAR-ACCESS1.3/{path}/'\n",
        "  N = len(remainingFiles)\n",
        "  for i in tqdm(range(N)):\n",
        "    file_name = remainingFiles[i]\n",
        "    ftp_session = open_ftp_session(ftp_server)\n",
        "    ftp_session.cwd(dir_name)   \n",
        "    ftp_get_file(ftp_session, file_name)\n",
        "    time.sleep(randSleep)\n",
        "    # upload to google cloud:\n",
        "    blob = bucket.blob(destName+file_name)\n",
        "    blob.upload_from_filename(file_name)"
      ]
    },
    {
      "cell_type": "code",
      "execution_count": 12,
      "metadata": {
        "colab": {
          "base_uri": "https://localhost:8080/",
          "height": 249
        },
        "id": "M9JXnm36hypF",
        "outputId": "2ca74cb8-d935-4fb7-b80e-44a5ed17cca4"
      },
      "outputs": [
        {
          "output_type": "stream",
          "name": "stdout",
          "text": [
            "drwxr-xr-x    4 1004     0            4096 Sep 11  2015 AIC2015\n",
            "drwxr-xr-x   14 1000     1000         4096 Apr 19  2021 climato\n",
            "drwx------    2 1047     49         131072 Feb 03 12:08 cmi\n",
            "drwxr-xr-x    2 1000     1000         4096 Mar 15  2011 data\n",
            "drwxr-xr-x   11 1000     1000         4096 Mar 16 09:31 fettweis\n",
            "drwx---rwx   10 2012     49           4096 Jul 14  2015 flexipac\n",
            "drwxr-xr-x    2 2001     100         20480 Mar 01 04:20 irm\n",
            "drwxr-xr-x    5 2002     100         12288 Oct 19  2016 irm2\n",
            "drwxr-xr-x   11 1008     49          94208 Mar 31 07:10 katabata\n",
            "drwx------    2 0        0           16384 Feb 25  2017 lost+found\n",
            "drwxr-xr-x    2 1050     49         323584 Mar 31 05:47 merygrid\n",
            "lrwxrwxrwx    1 0        0              14 Feb 23  2017 upload -> climato/upload\n"
          ]
        },
        {
          "output_type": "execute_result",
          "data": {
            "text/plain": [
              "'226 Directory send OK.'"
            ],
            "application/vnd.google.colaboratory.intrinsic+json": {
              "type": "string"
            }
          },
          "metadata": {},
          "execution_count": 12
        }
      ],
      "source": [
        "ftp_session = open_ftp_session(ftp_server)\n",
        "# To list the top directories in the server\n",
        "ftp_session.retrlines('LIST')"
      ]
    },
    {
      "cell_type": "code",
      "execution_count": 13,
      "metadata": {
        "colab": {
          "base_uri": "https://localhost:8080/"
        },
        "id": "MKNccxFFiEI1",
        "outputId": "6079109c-254a-4127-cc0e-9a70a1339cb1"
      },
      "outputs": [
        {
          "output_type": "stream",
          "name": "stdout",
          "text": [
            "- -rw-r--r--    1 1028     1000     38208563 Mar 17 09:43 CC_ant-35km_ACCESS1.3_rcp8.5_r1i1p1_ULg-MAR311_v1_day_19800101-19801231.nc\n",
            "- -rw-r--r--    1 1028     1000     38104367 Mar 17 09:43 CC_ant-35km_ACCESS1.3_rcp8.5_r1i1p1_ULg-MAR311_v1_day_19810101-19811231.nc\n",
            "- -rw-r--r--    1 1028     1000     38104367 Mar 17 09:43 CC_ant-35km_ACCESS1.3_rcp8.5_r1i1p1_ULg-MAR311_v1_day_19820101-19821231.nc\n",
            "- -rw-r--r--    1 1028     1000     38104367 Mar 17 09:43 CC_ant-35km_ACCESS1.3_rcp8.5_r1i1p1_ULg-MAR311_v1_day_19830101-19831231.nc\n",
            "- -rw-r--r--    1 1028     1000     38208563 Mar 17 09:43 CC_ant-35km_ACCESS1.3_rcp8.5_r1i1p1_ULg-MAR311_v1_day_19840101-19841231.nc\n"
          ]
        }
      ],
      "source": [
        "data = ftp_dir_content(ftp_session, dir_name='climato/ckittel/MARv3.11/Marijn/MAR-ACCESS1.3/')\n",
        "for line in data[:5]:\n",
        "    print(\"-\", line)"
      ]
    },
    {
      "cell_type": "markdown",
      "metadata": {
        "id": "Qq2ntP0X2oV1"
      },
      "source": [
        "## RH"
      ]
    },
    {
      "cell_type": "code",
      "execution_count": null,
      "metadata": {
        "colab": {
          "base_uri": "https://localhost:8080/"
        },
        "id": "JDxcJabTjcgL",
        "outputId": "3f001632-aa64-4eb3-b84a-91cf9a8b8b3d"
      },
      "outputs": [
        {
          "name": "stdout",
          "output_type": "stream",
          "text": [
            "Number of files already on GC: 121\n",
            "Number of files on ftp: 121\n",
            "Remaining files to put on GC: 0\n"
          ]
        },
        {
          "name": "stderr",
          "output_type": "stream",
          "text": [
            "0it [00:00, ?it/s]\n"
          ]
        }
      ],
      "source": [
        "# create empty directory for variable\n",
        "path = 'RH'\n",
        "VAR = path+'_'\n",
        "\n",
        "# Get all files already on GC:\n",
        "\"\"\"filesGC = []\n",
        "for blob in storage_client.list_blobs(bucket, prefix=f'Chris_data/RawData/MAR-ACCESS1.3/{path}/'):\n",
        "  #print(str(blob))\n",
        "  file_ = str(blob)\n",
        "  if search(VAR, file_):\n",
        "    span = search(f\"{VAR}ant(.*?).nc\", file_).span(0)\n",
        "    filesGC.append(file_[span[0]:span[1]])\"\"\"\n",
        "filesGC = listFilesGC(path, VAR)\n",
        "print(f'Number of files already on GC: {len(filesGC)}')\n",
        "\n",
        "# Get all filenames in FTP server\n",
        "ftpFiles = listFilesFTP(ftp_server, VAR)\n",
        "print(f'Number of files on ftp: {len(ftpFiles)}')\n",
        "\n",
        "# Find difference of two lists\n",
        "remainingFiles = list(set(ftpFiles) - set(filesGC))\n",
        "print(f'Remaining files to put on GC: {len(remainingFiles)}')\n",
        "\n",
        "# Copy remaining files from FTP to GC:\n",
        "copyFTP_GC(path, remainingFiles, ftp_server)"
      ]
    },
    {
      "cell_type": "markdown",
      "metadata": {
        "id": "Y1bHQc3auDxx"
      },
      "source": [
        "## CC"
      ]
    },
    {
      "cell_type": "code",
      "execution_count": null,
      "metadata": {
        "id": "T68SMe0ZuER-"
      },
      "outputs": [],
      "source": [
        "# create empty directory for variable\n",
        "path = 'CC'\n",
        "VAR = path+'_'\n",
        "\n",
        "# Get all files already on GC:\n",
        "filesGC = listFilesGC(path, VAR)\n",
        "print(f'Number of files already on GC: {len(filesGC)}')\n",
        "\n",
        "# Get all filenames in FTP server\n",
        "ftpFiles = listFilesFTP(ftp_server, VAR)\n",
        "print(f'Number of files on ftp: {len(ftpFiles)}')\n",
        "\n",
        "# Find difference of two lists\n",
        "remainingFiles = list(set(ftpFiles) - set(filesGC))\n",
        "print(f'Remaining files to put on GC: {len(remainingFiles)}')\n",
        "\n",
        "# Copy remaining files from FTP to GC:\n",
        "copyFTP_GC(path, remainingFiles, ftp_server)"
      ]
    },
    {
      "cell_type": "markdown",
      "metadata": {
        "id": "T7gingb521Mn"
      },
      "source": [
        "## RU"
      ]
    },
    {
      "cell_type": "code",
      "execution_count": null,
      "metadata": {
        "colab": {
          "base_uri": "https://localhost:8080/"
        },
        "id": "EYvRY8Ze3Hnt",
        "outputId": "978102e2-55da-4e29-ec6b-8c1a8edde7b0"
      },
      "outputs": [
        {
          "name": "stdout",
          "output_type": "stream",
          "text": [
            "Number of files already on GC: 121\n",
            "Number of files on ftp: 121\n",
            "Remaining files to put on GC: 0\n"
          ]
        },
        {
          "name": "stderr",
          "output_type": "stream",
          "text": [
            "0it [00:00, ?it/s]\n"
          ]
        }
      ],
      "source": [
        "# create empty directory for variable\n",
        "path = 'RU'\n",
        "VAR = path+'_'\n",
        "\n",
        "# Get all files already on GC:\n",
        "filesGC = listFilesGC(path, VAR)\n",
        "print(f'Number of files already on GC: {len(filesGC)}')\n",
        "\n",
        "# Get all filenames in FTP server\n",
        "ftpFiles = listFilesFTP(ftp_server, VAR)\n",
        "print(f'Number of files on ftp: {len(ftpFiles)}')\n",
        "\n",
        "# Find difference of two lists\n",
        "remainingFiles = list(set(ftpFiles) - set(filesGC))\n",
        "print(f'Remaining files to put on GC: {len(remainingFiles)}')\n",
        "\n",
        "# Copy remaining files from FTP to GC:\n",
        "copyFTP_GC(path, remainingFiles, ftp_server)"
      ]
    },
    {
      "cell_type": "markdown",
      "metadata": {
        "id": "lHDhBwtKBots"
      },
      "source": [
        "## VVP"
      ]
    },
    {
      "cell_type": "code",
      "execution_count": null,
      "metadata": {
        "colab": {
          "base_uri": "https://localhost:8080/"
        },
        "id": "ebr219OIBp9P",
        "outputId": "1cd26348-b506-4228-c8ea-65e3979da0c2"
      },
      "outputs": [
        {
          "name": "stdout",
          "output_type": "stream",
          "text": [
            "Number of files already on GC: 121\n",
            "Number of files on ftp: 121\n",
            "Remaining files to put on GC: 0\n"
          ]
        },
        {
          "name": "stderr",
          "output_type": "stream",
          "text": [
            "0it [00:00, ?it/s]\n"
          ]
        }
      ],
      "source": [
        "# create empty directory for variable\n",
        "path = 'VVP'\n",
        "VAR = path+'_'\n",
        "\n",
        "# Get all files already on GC:\n",
        "filesGC = listFilesGC(path, VAR)\n",
        "print(f'Number of files already on GC: {len(filesGC)}')\n",
        "\n",
        "# Get all filenames in FTP server\n",
        "ftpFiles = listFilesFTP(ftp_server, VAR)\n",
        "print(f'Number of files on ftp: {len(ftpFiles)}')\n",
        "\n",
        "# Find difference of two lists\n",
        "remainingFiles = list(set(ftpFiles) - set(filesGC))\n",
        "print(f'Remaining files to put on GC: {len(remainingFiles)}')\n",
        "\n",
        "# Copy remaining files from FTP to GC:\n",
        "copyFTP_GC(path, remainingFiles, ftp_server)"
      ]
    },
    {
      "cell_type": "markdown",
      "metadata": {
        "id": "akgQj4NLStXc"
      },
      "source": [
        "## UUP: (ND)"
      ]
    },
    {
      "cell_type": "code",
      "execution_count": null,
      "metadata": {
        "id": "kOaypeSteYBd"
      },
      "outputs": [],
      "source": [
        "# create empty directory for variable\n",
        "path = 'UUP'\n",
        "VAR = path+'_'\n",
        "\n",
        "# Get all files already on GC:\n",
        "filesGC = listFilesGC(path, VAR)\n",
        "print(f'Number of files already on GC: {len(filesGC)}')\n",
        "\n",
        "# Get all filenames in FTP server\n",
        "ftpFiles = listFilesFTP(ftp_server, VAR)\n",
        "print(f'Number of files on ftp: {len(ftpFiles)}')\n",
        "\n",
        "# Find difference of two lists\n",
        "remainingFiles = list(set(ftpFiles) - set(filesGC))\n",
        "print(f'Remaining files to put on GC: {len(remainingFiles)}')\n",
        "\n",
        "# Copy remaining files from FTP to GC:\n",
        "copyFTP_GC(path, remainingFiles, ftp_server)"
      ]
    },
    {
      "cell_type": "markdown",
      "metadata": {
        "id": "tFYjLAAMquxg"
      },
      "source": [
        "## LWD:"
      ]
    },
    {
      "cell_type": "code",
      "execution_count": null,
      "metadata": {
        "colab": {
          "base_uri": "https://localhost:8080/"
        },
        "id": "1I4ItrJRqdq6",
        "outputId": "65ee21c0-0aa2-4130-d3de-a2fb6cc8c74d"
      },
      "outputs": [
        {
          "name": "stdout",
          "output_type": "stream",
          "text": [
            "Number of files already on GC: 1\n",
            "Number of files on ftp: 121\n",
            "Remaining files to put on GC: 120\n"
          ]
        },
        {
          "name": "stderr",
          "output_type": "stream",
          "text": [
            "100%|██████████| 120/120 [30:03<00:00, 15.03s/it]\n"
          ]
        }
      ],
      "source": [
        "# create empty directory for variable\n",
        "path = 'LWD'\n",
        "VAR = path+'_'\n",
        "\n",
        "# Get all files already on GC:\n",
        "filesGC = listFilesGC(path, VAR)\n",
        "print(f'Number of files already on GC: {len(filesGC)}')\n",
        "\n",
        "# Get all filenames in FTP server\n",
        "ftpFiles = listFilesFTP(ftp_server, VAR)\n",
        "print(f'Number of files on ftp: {len(ftpFiles)}')\n",
        "\n",
        "# Find difference of two lists\n",
        "remainingFiles = list(set(ftpFiles) - set(filesGC))\n",
        "print(f'Remaining files to put on GC: {len(remainingFiles)}')\n",
        "\n",
        "# Copy remaining files from FTP to GC:\n",
        "copyFTP_GC(path, remainingFiles, ftp_server)"
      ]
    },
    {
      "cell_type": "markdown",
      "metadata": {
        "id": "POdVjv2TsIgD"
      },
      "source": [
        "## ME:"
      ]
    },
    {
      "cell_type": "code",
      "execution_count": null,
      "metadata": {
        "colab": {
          "base_uri": "https://localhost:8080/"
        },
        "id": "Pvz-Q0Qa2ggJ",
        "outputId": "c49102e8-b8d2-40a5-b9de-86fd9265286d"
      },
      "outputs": [
        {
          "name": "stdout",
          "output_type": "stream",
          "text": [
            "Number of files already on GC: 0\n",
            "Number of files on ftp: 121\n",
            "Remaining files to put on GC: 121\n"
          ]
        },
        {
          "name": "stderr",
          "output_type": "stream",
          "text": [
            "100%|██████████| 121/121 [30:00<00:00, 14.88s/it]\n"
          ]
        }
      ],
      "source": [
        "# create empty directory for variable\n",
        "path = 'ME'\n",
        "VAR = path+'_'\n",
        "\n",
        "# Get all files already on GC:\n",
        "filesGC = listFilesGC(path, VAR)\n",
        "print(f'Number of files already on GC: {len(filesGC)}')\n",
        "\n",
        "# Get all filenames in FTP server\n",
        "ftpFiles = listFilesFTP(ftp_server, VAR)\n",
        "print(f'Number of files on ftp: {len(ftpFiles)}')\n",
        "\n",
        "# Find difference of two lists\n",
        "remainingFiles = list(set(ftpFiles) - set(filesGC))\n",
        "print(f'Remaining files to put on GC: {len(remainingFiles)}')\n",
        "\n",
        "# Copy remaining files from FTP to GC:\n",
        "copyFTP_GC(path, remainingFiles, ftp_server)"
      ]
    },
    {
      "cell_type": "markdown",
      "metadata": {
        "id": "HQ8yYHepsK_i"
      },
      "source": [
        "## QQP:"
      ]
    },
    {
      "cell_type": "code",
      "execution_count": null,
      "metadata": {
        "id": "fF5-pYNusKW_"
      },
      "outputs": [],
      "source": [
        "# create empty directory for variable\n",
        "path = 'QQP'\n",
        "VAR = path+'_'\n",
        "\n",
        "# Get all files already on GC:\n",
        "filesGC = listFilesGC(path, VAR)\n",
        "print(f'Number of files already on GC: {len(filesGC)}')\n",
        "\n",
        "# Get all filenames in FTP server\n",
        "ftpFiles = listFilesFTP(ftp_server, VAR)\n",
        "print(f'Number of files on ftp: {len(ftpFiles)}')\n",
        "\n",
        "# Find difference of two lists\n",
        "remainingFiles = list(set(ftpFiles) - set(filesGC))\n",
        "print(f'Remaining files to put on GC: {len(remainingFiles)}')\n",
        "\n",
        "# Copy remaining files from FTP to GC:\n",
        "copyFTP_GC(path, remainingFiles, ftp_server)"
      ]
    },
    {
      "cell_type": "markdown",
      "metadata": {
        "id": "SUWs8VsbtEHo"
      },
      "source": [
        "## RF: (ND)"
      ]
    },
    {
      "cell_type": "code",
      "execution_count": null,
      "metadata": {
        "id": "kMTw_g-7tFVX"
      },
      "outputs": [],
      "source": [
        "# create empty directory for variable\n",
        "path = 'RF'\n",
        "VAR = path+'_'\n",
        "\n",
        "# Get all files already on GC:\n",
        "filesGC = listFilesGC(path, VAR)\n",
        "print(f'Number of files already on GC: {len(filesGC)}')\n",
        "\n",
        "# Get all filenames in FTP server\n",
        "ftpFiles = listFilesFTP(ftp_server, VAR)\n",
        "print(f'Number of files on ftp: {len(ftpFiles)}')\n",
        "\n",
        "# Find difference of two lists\n",
        "remainingFiles = list(set(ftpFiles) - set(filesGC))\n",
        "print(f'Remaining files to put on GC: {len(remainingFiles)}')\n",
        "\n",
        "# Copy remaining files from FTP to GC:\n",
        "copyFTP_GC(path, remainingFiles, ftp_server)"
      ]
    },
    {
      "cell_type": "markdown",
      "metadata": {
        "id": "rUf2RQdgtOiJ"
      },
      "source": [
        "## SF: (ND)"
      ]
    },
    {
      "cell_type": "code",
      "execution_count": null,
      "metadata": {
        "id": "Ko3fGgi6tSTC"
      },
      "outputs": [],
      "source": [
        "# create empty directory for variable\n",
        "path = 'SF'\n",
        "VAR = path+'_'\n",
        "\n",
        "# Get all files already on GC:\n",
        "filesGC = listFilesGC(path, VAR)\n",
        "print(f'Number of files already on GC: {len(filesGC)}')\n",
        "\n",
        "# Get all filenames in FTP server\n",
        "ftpFiles = listFilesFTP(ftp_server, VAR)\n",
        "print(f'Number of files on ftp: {len(ftpFiles)}')\n",
        "\n",
        "# Find difference of two lists\n",
        "remainingFiles = list(set(ftpFiles) - set(filesGC))\n",
        "print(f'Remaining files to put on GC: {len(remainingFiles)}')\n",
        "\n",
        "# Copy remaining files from FTP to GC:\n",
        "copyFTP_GC(path, remainingFiles, ftp_server)"
      ]
    },
    {
      "cell_type": "markdown",
      "metadata": {
        "id": "JUu8rz3XtYLU"
      },
      "source": [
        "## SMB: (ND)"
      ]
    },
    {
      "cell_type": "code",
      "execution_count": null,
      "metadata": {
        "id": "zbdrzFIitb9V"
      },
      "outputs": [],
      "source": [
        "# create empty directory for variable\n",
        "path = 'SMB'\n",
        "VAR = path+'_'\n",
        "\n",
        "# Get all files already on GC:\n",
        "filesGC = listFilesGC(path, VAR)\n",
        "print(f'Number of files already on GC: {len(filesGC)}')\n",
        "\n",
        "# Get all filenames in FTP server\n",
        "ftpFiles = listFilesFTP(ftp_server, VAR)\n",
        "print(f'Number of files on ftp: {len(ftpFiles)}')\n",
        "\n",
        "# Find difference of two lists\n",
        "remainingFiles = list(set(ftpFiles) - set(filesGC))\n",
        "print(f'Remaining files to put on GC: {len(remainingFiles)}')\n",
        "\n",
        "# Copy remaining files from FTP to GC:\n",
        "copyFTP_GC(path, remainingFiles, ftp_server)"
      ]
    },
    {
      "cell_type": "markdown",
      "metadata": {
        "id": "aIIbSa02tdkn"
      },
      "source": [
        "## SP: (ND)"
      ]
    },
    {
      "cell_type": "code",
      "execution_count": null,
      "metadata": {
        "id": "xY68Kh-ntfq5"
      },
      "outputs": [],
      "source": [
        "# create empty directory for variable\n",
        "path = 'SP'\n",
        "VAR = path+'_'\n",
        "\n",
        "# Get all files already on GC:\n",
        "filesGC = listFilesGC(path, VAR)\n",
        "print(f'Number of files already on GC: {len(filesGC)}')\n",
        "\n",
        "# Get all filenames in FTP server\n",
        "ftpFiles = listFilesFTP(ftp_server, VAR)\n",
        "print(f'Number of files on ftp: {len(ftpFiles)}')\n",
        "\n",
        "# Find difference of two lists\n",
        "remainingFiles = list(set(ftpFiles) - set(filesGC))\n",
        "print(f'Remaining files to put on GC: {len(remainingFiles)}')\n",
        "\n",
        "# Copy remaining files from FTP to GC:\n",
        "copyFTP_GC(path, remainingFiles, ftp_server)"
      ]
    },
    {
      "cell_type": "markdown",
      "metadata": {
        "id": "U7tsbY1zthH-"
      },
      "source": [
        "## SU:(ND)"
      ]
    },
    {
      "cell_type": "code",
      "execution_count": null,
      "metadata": {
        "id": "IT1rYnK5tmX8"
      },
      "outputs": [],
      "source": [
        "# create empty directory for variable\n",
        "path = 'SU'\n",
        "VAR = path+'_'\n",
        "\n",
        "# Get all files already on GC:\n",
        "filesGC = listFilesGC(path, VAR)\n",
        "print(f'Number of files already on GC: {len(filesGC)}')\n",
        "\n",
        "# Get all filenames in FTP server\n",
        "ftpFiles = listFilesFTP(ftp_server, VAR)\n",
        "print(f'Number of files on ftp: {len(ftpFiles)}')\n",
        "\n",
        "# Find difference of two lists\n",
        "remainingFiles = list(set(ftpFiles) - set(filesGC))\n",
        "print(f'Remaining files to put on GC: {len(remainingFiles)}')\n",
        "\n",
        "# Copy remaining files from FTP to GC:\n",
        "copyFTP_GC(path, remainingFiles, ftp_server)"
      ]
    },
    {
      "cell_type": "markdown",
      "metadata": {
        "id": "GkUu7_-Tto1b"
      },
      "source": [
        "## SWD: (ND)"
      ]
    },
    {
      "cell_type": "code",
      "execution_count": null,
      "metadata": {
        "id": "9ZCLooTqtriq"
      },
      "outputs": [],
      "source": [
        "# create empty directory for variable\n",
        "path = 'SWD'\n",
        "VAR = path+'_'\n",
        "\n",
        "# Get all files already on GC:\n",
        "filesGC = listFilesGC(path, VAR)\n",
        "print(f'Number of files already on GC: {len(filesGC)}')\n",
        "\n",
        "# Get all filenames in FTP server\n",
        "ftpFiles = listFilesFTP(ftp_server, VAR)\n",
        "print(f'Number of files on ftp: {len(ftpFiles)}')\n",
        "\n",
        "# Find difference of two lists\n",
        "remainingFiles = list(set(ftpFiles) - set(filesGC))\n",
        "print(f'Remaining files to put on GC: {len(remainingFiles)}')\n",
        "\n",
        "# Copy remaining files from FTP to GC:\n",
        "copyFTP_GC(path, remainingFiles, ftp_server)"
      ]
    },
    {
      "cell_type": "markdown",
      "metadata": {
        "id": "AKf24wZRttYX"
      },
      "source": [
        "## TT: (ND)"
      ]
    },
    {
      "cell_type": "code",
      "execution_count": null,
      "metadata": {
        "id": "0KjGte9stvYu"
      },
      "outputs": [],
      "source": [
        "# create empty directory for variable\n",
        "path = 'TT'\n",
        "VAR = path+'_'\n",
        "\n",
        "# Get all files already on GC:\n",
        "filesGC = listFilesGC(path, VAR)\n",
        "print(f'Number of files already on GC: {len(filesGC)}')\n",
        "\n",
        "# Get all filenames in FTP server\n",
        "ftpFiles = listFilesFTP(ftp_server, VAR)\n",
        "print(f'Number of files on ftp: {len(ftpFiles)}')\n",
        "\n",
        "# Find difference of two lists\n",
        "remainingFiles = list(set(ftpFiles) - set(filesGC))\n",
        "print(f'Remaining files to put on GC: {len(remainingFiles)}')\n",
        "\n",
        "# Copy remaining files from FTP to GC:\n",
        "copyFTP_GC(path, remainingFiles, ftp_server)"
      ]
    },
    {
      "cell_type": "markdown",
      "metadata": {
        "id": "vuYTnwm3twyT"
      },
      "source": [
        "## TTP (ND)"
      ]
    },
    {
      "cell_type": "code",
      "execution_count": null,
      "metadata": {
        "id": "xWdeXIONtzYL"
      },
      "outputs": [],
      "source": [
        "# create empty directory for variable\n",
        "path = 'TTP'\n",
        "VAR = path+'_'\n",
        "\n",
        "# Get all files already on GC:\n",
        "filesGC = listFilesGC(path, VAR)\n",
        "print(f'Number of files already on GC: {len(filesGC)}')\n",
        "\n",
        "# Get all filenames in FTP server\n",
        "ftpFiles = listFilesFTP(ftp_server, VAR)\n",
        "print(f'Number of files on ftp: {len(ftpFiles)}')\n",
        "\n",
        "# Find difference of two lists\n",
        "remainingFiles = list(set(ftpFiles) - set(filesGC))\n",
        "print(f'Remaining files to put on GC: {len(remainingFiles)}')\n",
        "\n",
        "# Copy remaining files from FTP to GC:\n",
        "copyFTP_GC(path, remainingFiles, ftp_server)"
      ]
    },
    {
      "cell_type": "code",
      "execution_count": null,
      "metadata": {
        "id": "gdNa907XsPls"
      },
      "outputs": [],
      "source": [
        "['RH', 'RU', 'VVP', 'UUP', 'LWD', 'ME']"
      ]
    }
  ],
  "metadata": {
    "colab": {
      "name": "ProcessingNcFiles.ipynb",
      "toc_visible": true,
      "provenance": [],
      "machine_shape": "hm",
      "authorship_tag": "ABX9TyOAXoo5LXpkk6+qkVxW21Yl",
      "include_colab_link": true
    },
    "kernelspec": {
      "display_name": "Python 3",
      "name": "python3"
    },
    "language_info": {
      "name": "python"
    }
  },
  "nbformat": 4,
  "nbformat_minor": 0
}